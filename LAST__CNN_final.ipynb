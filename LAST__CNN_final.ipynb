{
 "cells": [
  {
   "cell_type": "markdown",
   "metadata": {
    "id": "tyh-lVs9u_64"
   },
   "source": [
    "# **Imported Librarys**"
   ]
  },
  {
   "cell_type": "code",
   "execution_count": 261,
   "metadata": {
    "colab": {
     "base_uri": "https://localhost:8080/"
    },
    "id": "4KFZ1fx5VW-x",
    "outputId": "be656498-2aee-45a7-a010-0293231b02d8"
   },
   "outputs": [
    {
     "name": "stdout",
     "output_type": "stream",
     "text": [
      "[nltk_data] Downloading package punkt to /root/nltk_data...\n",
      "[nltk_data]   Package punkt is already up-to-date!\n"
     ]
    }
   ],
   "source": [
    "from keras.callbacks import ModelCheckpoint\n",
    "from keras.layers import Dense, Dropout, Reshape, Flatten, concatenate, Input, Conv1D, GlobalMaxPooling1D, Embedding\n",
    "from keras.layers.recurrent import LSTM\n",
    "from keras.models import Sequential\n",
    "from keras.preprocessing.text import Tokenizer\n",
    "from keras.preprocessing.sequence import pad_sequences\n",
    "from keras.models import Model\n",
    "from sklearn.model_selection import train_test_split\n",
    "from tensorflow.python import tf2\n",
    "import tensorflow as tf\n",
    "from tensorflow.keras.models import Sequential\n",
    "from tensorflow import keras\n",
    "import numpy as np\n",
    "import tensorflow\n",
    "import pandas as pd\n",
    "import os\n",
    "import collections\n",
    "import re\n",
    "import string\n",
    "import keras\n",
    "import nltk\n",
    "import nltk\n",
    "nltk.download('punkt')\n",
    "from gensim import models"
   ]
  },
  {
   "cell_type": "markdown",
   "metadata": {
    "id": "u-2sfHeMvKpe"
   },
   "source": [
    "# **Reading Data from Directory**"
   ]
  },
  {
   "cell_type": "code",
   "execution_count": null,
   "metadata": {
    "id": "dP1ASPvaVe3n"
   },
   "outputs": [],
   "source": [
    "data = pd.read_csv('finaldatasett.TSV', error_bad_lines=False, header = None, delimiter='\\t')"
   ]
  },
  {
   "cell_type": "markdown",
   "metadata": {
    "id": "mOFGlcq3vUug"
   },
   "source": [
    "# **Dataset Labiling**"
   ]
  },
  {
   "cell_type": "code",
   "execution_count": 263,
   "metadata": {
    "id": "XGyLZBObVe5R"
   },
   "outputs": [],
   "source": [
    "data.columns = ['Text', 'Label']"
   ]
  },
  {
   "cell_type": "code",
   "execution_count": 264,
   "metadata": {
    "colab": {
     "base_uri": "https://localhost:8080/",
     "height": 424
    },
    "id": "Ry0QAzl4Ve7b",
    "outputId": "a8019db0-7b4e-4c18-e43e-3ffdb281fd82"
   },
   "outputs": [
    {
     "data": {
      "text/html": [
       "<div>\n",
       "<style scoped>\n",
       "    .dataframe tbody tr th:only-of-type {\n",
       "        vertical-align: middle;\n",
       "    }\n",
       "\n",
       "    .dataframe tbody tr th {\n",
       "        vertical-align: top;\n",
       "    }\n",
       "\n",
       "    .dataframe thead th {\n",
       "        text-align: right;\n",
       "    }\n",
       "</style>\n",
       "<table border=\"1\" class=\"dataframe\">\n",
       "  <thead>\n",
       "    <tr style=\"text-align: right;\">\n",
       "      <th></th>\n",
       "      <th>Text</th>\n",
       "      <th>Label</th>\n",
       "    </tr>\n",
       "  </thead>\n",
       "  <tbody>\n",
       "    <tr>\n",
       "      <th>0</th>\n",
       "      <td>BARREEFFAMA KAMUU DUBISTEE BIRA KUTUUN GAARIIDHA.</td>\n",
       "      <td>2.0</td>\n",
       "    </tr>\n",
       "    <tr>\n",
       "      <th>1</th>\n",
       "      <td>Jabaadha ummata kenya gootota kenyaa.</td>\n",
       "      <td>1.0</td>\n",
       "    </tr>\n",
       "    <tr>\n",
       "      <th>2</th>\n",
       "      <td>Barrefama adda adda maalif hin garsiftan.</td>\n",
       "      <td>2.0</td>\n",
       "    </tr>\n",
       "    <tr>\n",
       "      <th>3</th>\n",
       "      <td>Sagaleen sirrii hin jiruu.</td>\n",
       "      <td>2.0</td>\n",
       "    </tr>\n",
       "    <tr>\n",
       "      <th>4</th>\n",
       "      <td>WBO waliin dhaabanne Mootummaa kana Ofirraa ka...</td>\n",
       "      <td>0.0</td>\n",
       "    </tr>\n",
       "    <tr>\n",
       "      <th>...</th>\n",
       "      <td>...</td>\n",
       "      <td>...</td>\n",
       "    </tr>\n",
       "    <tr>\n",
       "      <th>2461</th>\n",
       "      <td>Muslimni masgiidatti hiriira bahe rabbi haa ka...</td>\n",
       "      <td>1.0</td>\n",
       "    </tr>\n",
       "    <tr>\n",
       "      <th>2462</th>\n",
       "      <td>Jabbadhaa dhugaan nii turtii malee hin haftuu.</td>\n",
       "      <td>2.0</td>\n",
       "    </tr>\n",
       "    <tr>\n",
       "      <th>2463</th>\n",
       "      <td>Bakka dhimmi illaallatu dhiistanii magaalaa ke...</td>\n",
       "      <td>2.0</td>\n",
       "    </tr>\n",
       "    <tr>\n",
       "      <th>2464</th>\n",
       "      <td>Jabadhaa jajjabee koo.</td>\n",
       "      <td>2.0</td>\n",
       "    </tr>\n",
       "    <tr>\n",
       "      <th>2465</th>\n",
       "      <td>Jabaadhaa leencoota Ilmaan sabaa.</td>\n",
       "      <td>1.0</td>\n",
       "    </tr>\n",
       "  </tbody>\n",
       "</table>\n",
       "<p>2410 rows × 2 columns</p>\n",
       "</div>"
      ],
      "text/plain": [
       "                                                   Text  Label\n",
       "0     BARREEFFAMA KAMUU DUBISTEE BIRA KUTUUN GAARIIDHA.    2.0\n",
       "1                 Jabaadha ummata kenya gootota kenyaa.    1.0\n",
       "2             Barrefama adda adda maalif hin garsiftan.    2.0\n",
       "3                            Sagaleen sirrii hin jiruu.    2.0\n",
       "4     WBO waliin dhaabanne Mootummaa kana Ofirraa ka...    0.0\n",
       "...                                                 ...    ...\n",
       "2461  Muslimni masgiidatti hiriira bahe rabbi haa ka...    1.0\n",
       "2462     Jabbadhaa dhugaan nii turtii malee hin haftuu.    2.0\n",
       "2463  Bakka dhimmi illaallatu dhiistanii magaalaa ke...    2.0\n",
       "2464                             Jabadhaa jajjabee koo.    2.0\n",
       "2465                  Jabaadhaa leencoota Ilmaan sabaa.    1.0\n",
       "\n",
       "[2410 rows x 2 columns]"
      ]
     },
     "execution_count": 264,
     "metadata": {},
     "output_type": "execute_result"
    }
   ],
   "source": [
    "data.dropna()"
   ]
  },
  {
   "cell_type": "code",
   "execution_count": 265,
   "metadata": {
    "colab": {
     "base_uri": "https://localhost:8080/"
    },
    "id": "irFRFPoaVe9w",
    "outputId": "f2bc4d4d-c6c1-40c2-af65-e46afb444c59"
   },
   "outputs": [
    {
     "data": {
      "text/plain": [
       "array([2., 1., 0.])"
      ]
     },
     "execution_count": 265,
     "metadata": {},
     "output_type": "execute_result"
    }
   ],
   "source": [
    "data.Label.unique()\n",
    "data=data.dropna()\n",
    "data.Label.unique()"
   ]
  },
  {
   "cell_type": "code",
   "execution_count": 266,
   "metadata": {
    "colab": {
     "base_uri": "https://localhost:8080/"
    },
    "id": "GuqwRPxSVfCN",
    "outputId": "2cd1967b-b752-40bf-946c-a35d0adccd6e"
   },
   "outputs": [
    {
     "data": {
      "text/plain": [
       "(2410, 2)"
      ]
     },
     "execution_count": 266,
     "metadata": {},
     "output_type": "execute_result"
    }
   ],
   "source": [
    "data.shape"
   ]
  },
  {
   "cell_type": "code",
   "execution_count": 267,
   "metadata": {
    "colab": {
     "base_uri": "https://localhost:8080/"
    },
    "id": "6bgs99fmVfEi",
    "outputId": "8c30cde6-8038-4c09-83de-69c142dbaf0a"
   },
   "outputs": [
    {
     "data": {
      "text/plain": [
       "0.0    1234\n",
       "1.0     645\n",
       "2.0     531\n",
       "Name: Label, dtype: int64"
      ]
     },
     "execution_count": 267,
     "metadata": {},
     "output_type": "execute_result"
    }
   ],
   "source": [
    "data.Label.value_counts()"
   ]
  },
  {
   "cell_type": "markdown",
   "metadata": {
    "id": "BtL7b2Zfvh2M"
   },
   "source": [
    "# **Removing Punctuation Marks**"
   ]
  },
  {
   "cell_type": "code",
   "execution_count": 268,
   "metadata": {
    "id": "MAYoahNwVfI1"
   },
   "outputs": [],
   "source": [
    "def stripPunc(wordList):\n",
    "    \"\"\"Strips punctuation from list of words\"\"\"\n",
    "    puncList = [\".\",\";\",\":\",\"!\",\"?\",\"/\",\"\\\\\",\",\",\"#\",\"@\",\"$\",\"&\",\")\",\"(\",\"\\\"\"]\n",
    "    for punc in puncList:\n",
    "        for word in wordList:\n",
    "            wordList=[word.replace(punc,'') for word in wordList]\n",
    "    return wordList"
   ]
  },
  {
   "cell_type": "code",
   "execution_count": 269,
   "metadata": {
    "id": "2nJcqPgAVfK0"
   },
   "outputs": [],
   "source": [
    "def remove_punct(text):\n",
    "    text_nopunct = ''\n",
    "    text_nopunct = re.sub('['+string.punctuation+']', '', text)\n",
    "    return text_nopunct\n",
    "\n",
    "data['Text_Clean'] = data['Text'].apply(lambda x: remove_punct(x))"
   ]
  },
  {
   "cell_type": "markdown",
   "metadata": {
    "id": "WbMpQwXqvr-0"
   },
   "source": [
    "# #**Tokenization**"
   ]
  },
  {
   "cell_type": "code",
   "execution_count": 270,
   "metadata": {
    "id": "NiLwUfA5V8dN"
   },
   "outputs": [],
   "source": [
    "from nltk import word_tokenize, WordNetLemmatizer\n",
    "tokens = [word_tokenize(sen) for sen in data.Text_Clean] "
   ]
  },
  {
   "cell_type": "markdown",
   "metadata": {
    "id": "XATwBF1Svx06"
   },
   "source": [
    "# **Lower case Conversion**"
   ]
  },
  {
   "cell_type": "code",
   "execution_count": 271,
   "metadata": {
    "id": "B0okZ9ljm7_N"
   },
   "outputs": [],
   "source": [
    "def lower_token(tokens): \n",
    "    return [w.lower() for w in tokens]    \n",
    "    \n",
    "lower_tokens = [lower_token(token) for token in tokens] \n",
    "data['tokens']=lower_tokens"
   ]
  },
  {
   "cell_type": "markdown",
   "metadata": {
    "id": "AA5kFppIv6b8"
   },
   "source": [
    "# **#StopWord Removal**"
   ]
  },
  {
   "cell_type": "code",
   "execution_count": 272,
   "metadata": {
    "id": "dvetOPq7V8hI"
   },
   "outputs": [],
   "source": [
    "with open(\"AfaanOromoStopwords.csv\",encoding ='unicode_escape') as f:\n",
    "   stoplist=f.read().strip().split(',')"
   ]
  },
  {
   "cell_type": "code",
   "execution_count": 273,
   "metadata": {
    "id": "1Cqu35eOiwJu"
   },
   "outputs": [],
   "source": [
    "variable=data['tokens'].tolist()"
   ]
  },
  {
   "cell_type": "code",
   "execution_count": 274,
   "metadata": {
    "id": "hr8P_3JkW0Wp"
   },
   "outputs": [],
   "source": [
    "def remove_stop_words(tokens): \n",
    "    return [word for word in tokens if word not in stoplist]"
   ]
  },
  {
   "cell_type": "code",
   "execution_count": 275,
   "metadata": {
    "id": "fUv-r6PAjMIT"
   },
   "outputs": [],
   "source": [
    "f=[remove_stop_words(sen) for sen in variable]\n",
    "result=[' '.join(sen) for sen in f]\n",
    "data['Text_Final']=result"
   ]
  },
  {
   "cell_type": "code",
   "execution_count": 276,
   "metadata": {
    "id": "xZBDijr8V8rX"
   },
   "outputs": [],
   "source": [
    "filtered_words = [remove_stop_words(sen) for sen in lower_tokens]\n",
    "result = [' '.join(sen) for sen in filtered_words] \n",
    "data['Text_Final'] = result"
   ]
  },
  {
   "cell_type": "code",
   "execution_count": 277,
   "metadata": {
    "colab": {
     "base_uri": "https://localhost:8080/",
     "height": 719
    },
    "id": "9c5rS0UYzyGw",
    "outputId": "c631e6ff-7728-4d45-90fd-bcc4f5bc4fce"
   },
   "outputs": [
    {
     "data": {
      "text/html": [
       "<div>\n",
       "<style scoped>\n",
       "    .dataframe tbody tr th:only-of-type {\n",
       "        vertical-align: middle;\n",
       "    }\n",
       "\n",
       "    .dataframe tbody tr th {\n",
       "        vertical-align: top;\n",
       "    }\n",
       "\n",
       "    .dataframe thead th {\n",
       "        text-align: right;\n",
       "    }\n",
       "</style>\n",
       "<table border=\"1\" class=\"dataframe\">\n",
       "  <thead>\n",
       "    <tr style=\"text-align: right;\">\n",
       "      <th></th>\n",
       "      <th>Text</th>\n",
       "      <th>Label</th>\n",
       "      <th>Text_Clean</th>\n",
       "      <th>tokens</th>\n",
       "      <th>Text_Final</th>\n",
       "    </tr>\n",
       "  </thead>\n",
       "  <tbody>\n",
       "    <tr>\n",
       "      <th>0</th>\n",
       "      <td>BARREEFFAMA KAMUU DUBISTEE BIRA KUTUUN GAARIIDHA.</td>\n",
       "      <td>2.0</td>\n",
       "      <td>BARREEFFAMA KAMUU DUBISTEE BIRA KUTUUN GAARIIDHA</td>\n",
       "      <td>[barreeffama, kamuu, dubistee, bira, kutuun, g...</td>\n",
       "      <td>barreeffama kamuu dubistee kutuun gaariidha</td>\n",
       "    </tr>\n",
       "    <tr>\n",
       "      <th>1</th>\n",
       "      <td>Jabaadha ummata kenya gootota kenyaa.</td>\n",
       "      <td>1.0</td>\n",
       "      <td>Jabaadha ummata kenya gootota kenyaa</td>\n",
       "      <td>[jabaadha, ummata, kenya, gootota, kenyaa]</td>\n",
       "      <td>jabaadha ummata kenya gootota kenyaa</td>\n",
       "    </tr>\n",
       "    <tr>\n",
       "      <th>2</th>\n",
       "      <td>Barrefama adda adda maalif hin garsiftan.</td>\n",
       "      <td>2.0</td>\n",
       "      <td>Barrefama adda adda maalif hin garsiftan</td>\n",
       "      <td>[barrefama, adda, adda, maalif, hin, garsiftan]</td>\n",
       "      <td>barrefama adda adda maalif hin garsiftan</td>\n",
       "    </tr>\n",
       "    <tr>\n",
       "      <th>3</th>\n",
       "      <td>Sagaleen sirrii hin jiruu.</td>\n",
       "      <td>2.0</td>\n",
       "      <td>Sagaleen sirrii hin jiruu</td>\n",
       "      <td>[sagaleen, sirrii, hin, jiruu]</td>\n",
       "      <td>sagaleen sirrii hin jiruu</td>\n",
       "    </tr>\n",
       "    <tr>\n",
       "      <th>4</th>\n",
       "      <td>WBO waliin dhaabanne Mootummaa kana Ofirraa ka...</td>\n",
       "      <td>0.0</td>\n",
       "      <td>WBO waliin dhaabanne Mootummaa kana Ofirraa ka...</td>\n",
       "      <td>[wbo, waliin, dhaabanne, mootummaa, kana, ofir...</td>\n",
       "      <td>wbo waliin dhaabanne mootummaa ofirraa kaasu q...</td>\n",
       "    </tr>\n",
       "    <tr>\n",
       "      <th>...</th>\n",
       "      <td>...</td>\n",
       "      <td>...</td>\n",
       "      <td>...</td>\n",
       "      <td>...</td>\n",
       "      <td>...</td>\n",
       "    </tr>\n",
       "    <tr>\n",
       "      <th>2461</th>\n",
       "      <td>Muslimni masgiidatti hiriira bahe rabbi haa ka...</td>\n",
       "      <td>1.0</td>\n",
       "      <td>Muslimni masgiidatti hiriira bahe rabbi haa ka...</td>\n",
       "      <td>[muslimni, masgiidatti, hiriira, bahe, rabbi, ...</td>\n",
       "      <td>muslimni masgiidatti hiriira bahe rabbi kadhat...</td>\n",
       "    </tr>\n",
       "    <tr>\n",
       "      <th>2462</th>\n",
       "      <td>Jabbadhaa dhugaan nii turtii malee hin haftuu.</td>\n",
       "      <td>2.0</td>\n",
       "      <td>Jabbadhaa dhugaan nii turtii malee hin haftuu</td>\n",
       "      <td>[jabbadhaa, dhugaan, nii, turtii, malee, hin, ...</td>\n",
       "      <td>jabbadhaa dhugaan nii turtii hin haftuu</td>\n",
       "    </tr>\n",
       "    <tr>\n",
       "      <th>2463</th>\n",
       "      <td>Bakka dhimmi illaallatu dhiistanii magaalaa ke...</td>\n",
       "      <td>2.0</td>\n",
       "      <td>Bakka dhimmi illaallatu dhiistanii magaalaa ke...</td>\n",
       "      <td>[bakka, dhimmi, illaallatu, dhiistanii, magaal...</td>\n",
       "      <td>bakka dhimmi illaallatu dhiistanii magaalaa ci...</td>\n",
       "    </tr>\n",
       "    <tr>\n",
       "      <th>2464</th>\n",
       "      <td>Jabadhaa jajjabee koo.</td>\n",
       "      <td>2.0</td>\n",
       "      <td>Jabadhaa jajjabee koo</td>\n",
       "      <td>[jabadhaa, jajjabee, koo]</td>\n",
       "      <td>jabadhaa jajjabee</td>\n",
       "    </tr>\n",
       "    <tr>\n",
       "      <th>2465</th>\n",
       "      <td>Jabaadhaa leencoota Ilmaan sabaa.</td>\n",
       "      <td>1.0</td>\n",
       "      <td>Jabaadhaa leencoota Ilmaan sabaa</td>\n",
       "      <td>[jabaadhaa, leencoota, ilmaan, sabaa]</td>\n",
       "      <td>jabaadhaa leencoota ilmaan sabaa</td>\n",
       "    </tr>\n",
       "  </tbody>\n",
       "</table>\n",
       "<p>2410 rows × 5 columns</p>\n",
       "</div>"
      ],
      "text/plain": [
       "                                                   Text  ...                                         Text_Final\n",
       "0     BARREEFFAMA KAMUU DUBISTEE BIRA KUTUUN GAARIIDHA.  ...        barreeffama kamuu dubistee kutuun gaariidha\n",
       "1                 Jabaadha ummata kenya gootota kenyaa.  ...               jabaadha ummata kenya gootota kenyaa\n",
       "2             Barrefama adda adda maalif hin garsiftan.  ...           barrefama adda adda maalif hin garsiftan\n",
       "3                            Sagaleen sirrii hin jiruu.  ...                          sagaleen sirrii hin jiruu\n",
       "4     WBO waliin dhaabanne Mootummaa kana Ofirraa ka...  ...  wbo waliin dhaabanne mootummaa ofirraa kaasu q...\n",
       "...                                                 ...  ...                                                ...\n",
       "2461  Muslimni masgiidatti hiriira bahe rabbi haa ka...  ...  muslimni masgiidatti hiriira bahe rabbi kadhat...\n",
       "2462     Jabbadhaa dhugaan nii turtii malee hin haftuu.  ...            jabbadhaa dhugaan nii turtii hin haftuu\n",
       "2463  Bakka dhimmi illaallatu dhiistanii magaalaa ke...  ...  bakka dhimmi illaallatu dhiistanii magaalaa ci...\n",
       "2464                             Jabadhaa jajjabee koo.  ...                                  jabadhaa jajjabee\n",
       "2465                  Jabaadhaa leencoota Ilmaan sabaa.  ...                   jabaadhaa leencoota ilmaan sabaa\n",
       "\n",
       "[2410 rows x 5 columns]"
      ]
     },
     "execution_count": 277,
     "metadata": {},
     "output_type": "execute_result"
    }
   ],
   "source": [
    "data"
   ]
  },
  {
   "cell_type": "markdown",
   "metadata": {
    "id": "V2fjEMy5wGV6"
   },
   "source": [
    "# **Assigning class for the dataset**"
   ]
  },
  {
   "cell_type": "code",
   "execution_count": 278,
   "metadata": {
    "id": "wiqRsfNRWb8H"
   },
   "outputs": [],
   "source": [
    "anti = []\n",
    "ext = []\n",
    "neu = []\n",
    "for l in data.Label:\n",
    "    if l == 0:\n",
    "        anti.append(0)\n",
    "        ext.append(1)\n",
    "        neu.append(0)\n",
    "    elif l == 1:\n",
    "        anti.append(1)\n",
    "        ext.append(0)\n",
    "        neu.append(0)\n",
    "    elif l == 2:\n",
    "        neu.append(1)\n",
    "        anti.append(0)\n",
    "        ext.append(0)"
   ]
  },
  {
   "cell_type": "code",
   "execution_count": 279,
   "metadata": {
    "id": "NrlpbOQZWb9-"
   },
   "outputs": [],
   "source": [
    "data['Anti_Extreme']= anti\n",
    "data['Exterem']= ext\n",
    "data['Neutral']= neu"
   ]
  },
  {
   "cell_type": "code",
   "execution_count": 280,
   "metadata": {
    "colab": {
     "base_uri": "https://localhost:8080/",
     "height": 484
    },
    "id": "a_b9SP3-W0KP",
    "outputId": "07818dc5-a1c0-4b75-963d-567a00532e2c"
   },
   "outputs": [
    {
     "data": {
      "text/html": [
       "<div>\n",
       "<style scoped>\n",
       "    .dataframe tbody tr th:only-of-type {\n",
       "        vertical-align: middle;\n",
       "    }\n",
       "\n",
       "    .dataframe tbody tr th {\n",
       "        vertical-align: top;\n",
       "    }\n",
       "\n",
       "    .dataframe thead th {\n",
       "        text-align: right;\n",
       "    }\n",
       "</style>\n",
       "<table border=\"1\" class=\"dataframe\">\n",
       "  <thead>\n",
       "    <tr style=\"text-align: right;\">\n",
       "      <th></th>\n",
       "      <th>Text</th>\n",
       "      <th>Label</th>\n",
       "      <th>Text_Clean</th>\n",
       "      <th>tokens</th>\n",
       "      <th>Text_Final</th>\n",
       "      <th>Anti_Extreme</th>\n",
       "      <th>Exterem</th>\n",
       "      <th>Neutral</th>\n",
       "    </tr>\n",
       "  </thead>\n",
       "  <tbody>\n",
       "    <tr>\n",
       "      <th>0</th>\n",
       "      <td>BARREEFFAMA KAMUU DUBISTEE BIRA KUTUUN GAARIIDHA.</td>\n",
       "      <td>2.0</td>\n",
       "      <td>BARREEFFAMA KAMUU DUBISTEE BIRA KUTUUN GAARIIDHA</td>\n",
       "      <td>[barreeffama, kamuu, dubistee, bira, kutuun, g...</td>\n",
       "      <td>barreeffama kamuu dubistee kutuun gaariidha</td>\n",
       "      <td>0</td>\n",
       "      <td>0</td>\n",
       "      <td>1</td>\n",
       "    </tr>\n",
       "    <tr>\n",
       "      <th>1</th>\n",
       "      <td>Jabaadha ummata kenya gootota kenyaa.</td>\n",
       "      <td>1.0</td>\n",
       "      <td>Jabaadha ummata kenya gootota kenyaa</td>\n",
       "      <td>[jabaadha, ummata, kenya, gootota, kenyaa]</td>\n",
       "      <td>jabaadha ummata kenya gootota kenyaa</td>\n",
       "      <td>1</td>\n",
       "      <td>0</td>\n",
       "      <td>0</td>\n",
       "    </tr>\n",
       "    <tr>\n",
       "      <th>2</th>\n",
       "      <td>Barrefama adda adda maalif hin garsiftan.</td>\n",
       "      <td>2.0</td>\n",
       "      <td>Barrefama adda adda maalif hin garsiftan</td>\n",
       "      <td>[barrefama, adda, adda, maalif, hin, garsiftan]</td>\n",
       "      <td>barrefama adda adda maalif hin garsiftan</td>\n",
       "      <td>0</td>\n",
       "      <td>0</td>\n",
       "      <td>1</td>\n",
       "    </tr>\n",
       "    <tr>\n",
       "      <th>3</th>\n",
       "      <td>Sagaleen sirrii hin jiruu.</td>\n",
       "      <td>2.0</td>\n",
       "      <td>Sagaleen sirrii hin jiruu</td>\n",
       "      <td>[sagaleen, sirrii, hin, jiruu]</td>\n",
       "      <td>sagaleen sirrii hin jiruu</td>\n",
       "      <td>0</td>\n",
       "      <td>0</td>\n",
       "      <td>1</td>\n",
       "    </tr>\n",
       "    <tr>\n",
       "      <th>4</th>\n",
       "      <td>WBO waliin dhaabanne Mootummaa kana Ofirraa ka...</td>\n",
       "      <td>0.0</td>\n",
       "      <td>WBO waliin dhaabanne Mootummaa kana Ofirraa ka...</td>\n",
       "      <td>[wbo, waliin, dhaabanne, mootummaa, kana, ofir...</td>\n",
       "      <td>wbo waliin dhaabanne mootummaa ofirraa kaasu q...</td>\n",
       "      <td>0</td>\n",
       "      <td>1</td>\n",
       "      <td>0</td>\n",
       "    </tr>\n",
       "  </tbody>\n",
       "</table>\n",
       "</div>"
      ],
      "text/plain": [
       "                                                Text  Label  ... Exterem Neutral\n",
       "0  BARREEFFAMA KAMUU DUBISTEE BIRA KUTUUN GAARIIDHA.    2.0  ...       0       1\n",
       "1              Jabaadha ummata kenya gootota kenyaa.    1.0  ...       0       0\n",
       "2          Barrefama adda adda maalif hin garsiftan.    2.0  ...       0       1\n",
       "3                         Sagaleen sirrii hin jiruu.    2.0  ...       0       1\n",
       "4  WBO waliin dhaabanne Mootummaa kana Ofirraa ka...    0.0  ...       1       0\n",
       "\n",
       "[5 rows x 8 columns]"
      ]
     },
     "execution_count": 280,
     "metadata": {},
     "output_type": "execute_result"
    }
   ],
   "source": [
    "data.head()"
   ]
  },
  {
   "cell_type": "code",
   "execution_count": 281,
   "metadata": {
    "colab": {
     "base_uri": "https://localhost:8080/",
     "height": 972
    },
    "id": "Fh1Z-_o9W0c-",
    "outputId": "2f66230e-0126-4284-ad1a-caf51305f18e"
   },
   "outputs": [
    {
     "data": {
      "text/html": [
       "<div>\n",
       "<style scoped>\n",
       "    .dataframe tbody tr th:only-of-type {\n",
       "        vertical-align: middle;\n",
       "    }\n",
       "\n",
       "    .dataframe tbody tr th {\n",
       "        vertical-align: top;\n",
       "    }\n",
       "\n",
       "    .dataframe thead th {\n",
       "        text-align: right;\n",
       "    }\n",
       "</style>\n",
       "<table border=\"1\" class=\"dataframe\">\n",
       "  <thead>\n",
       "    <tr style=\"text-align: right;\">\n",
       "      <th></th>\n",
       "      <th>Text_Final</th>\n",
       "      <th>tokens</th>\n",
       "      <th>Label</th>\n",
       "      <th>Anti_Extreme</th>\n",
       "      <th>Exterem</th>\n",
       "      <th>Neutral</th>\n",
       "    </tr>\n",
       "  </thead>\n",
       "  <tbody>\n",
       "    <tr>\n",
       "      <th>0</th>\n",
       "      <td>barreeffama kamuu dubistee kutuun gaariidha</td>\n",
       "      <td>[barreeffama, kamuu, dubistee, kutuun, gaariidha]</td>\n",
       "      <td>2.0</td>\n",
       "      <td>0</td>\n",
       "      <td>0</td>\n",
       "      <td>1</td>\n",
       "    </tr>\n",
       "    <tr>\n",
       "      <th>1</th>\n",
       "      <td>jabaadha ummata kenya gootota kenyaa</td>\n",
       "      <td>[jabaadha, ummata, kenya, gootota, kenyaa]</td>\n",
       "      <td>1.0</td>\n",
       "      <td>1</td>\n",
       "      <td>0</td>\n",
       "      <td>0</td>\n",
       "    </tr>\n",
       "    <tr>\n",
       "      <th>2</th>\n",
       "      <td>barrefama adda adda maalif hin garsiftan</td>\n",
       "      <td>[barrefama, adda, adda, maalif, hin, garsiftan]</td>\n",
       "      <td>2.0</td>\n",
       "      <td>0</td>\n",
       "      <td>0</td>\n",
       "      <td>1</td>\n",
       "    </tr>\n",
       "    <tr>\n",
       "      <th>3</th>\n",
       "      <td>sagaleen sirrii hin jiruu</td>\n",
       "      <td>[sagaleen, sirrii, hin, jiruu]</td>\n",
       "      <td>2.0</td>\n",
       "      <td>0</td>\n",
       "      <td>0</td>\n",
       "      <td>1</td>\n",
       "    </tr>\n",
       "    <tr>\n",
       "      <th>4</th>\n",
       "      <td>wbo waliin dhaabanne mootummaa ofirraa kaasu q...</td>\n",
       "      <td>[wbo, waliin, dhaabanne, mootummaa, ofirraa, k...</td>\n",
       "      <td>0.0</td>\n",
       "      <td>0</td>\n",
       "      <td>1</td>\n",
       "      <td>0</td>\n",
       "    </tr>\n",
       "    <tr>\n",
       "      <th>5</th>\n",
       "      <td>jabaadha abdii hin kutinaa rabbii jiraa</td>\n",
       "      <td>[jabaadha, abdii, hin, kutinaa, rabbii, jiraa]</td>\n",
       "      <td>1.0</td>\n",
       "      <td>1</td>\n",
       "      <td>0</td>\n",
       "      <td>0</td>\n",
       "    </tr>\n",
       "    <tr>\n",
       "      <th>6</th>\n",
       "      <td>abo abiyyi ahimad malitti nafxanyaa dha male</td>\n",
       "      <td>[abo, abiyyi, ahimad, malitti, nafxanyaa, dha,...</td>\n",
       "      <td>0.0</td>\n",
       "      <td>0</td>\n",
       "      <td>1</td>\n",
       "      <td>0</td>\n",
       "    </tr>\n",
       "    <tr>\n",
       "      <th>7</th>\n",
       "      <td>jabaadha ummatta keenyaaf sagalee tanuf</td>\n",
       "      <td>[jabaadha, ummatta, keenyaaf, sagalee, tanuf]</td>\n",
       "      <td>2.0</td>\n",
       "      <td>0</td>\n",
       "      <td>0</td>\n",
       "      <td>1</td>\n",
       "    </tr>\n",
       "    <tr>\n",
       "      <th>8</th>\n",
       "      <td>rabbii issin biraa jiratuu oromoo yommiyu</td>\n",
       "      <td>[rabbii, issin, biraa, jiratuu, oromoo, yommiyu]</td>\n",
       "      <td>1.0</td>\n",
       "      <td>1</td>\n",
       "      <td>0</td>\n",
       "      <td>0</td>\n",
       "    </tr>\n",
       "    <tr>\n",
       "      <th>9</th>\n",
       "      <td>konkkoolataa keessaa bayyaa kaa</td>\n",
       "      <td>[konkkoolataa, keessaa, bayyaa, kaa]</td>\n",
       "      <td>2.0</td>\n",
       "      <td>0</td>\n",
       "      <td>0</td>\n",
       "      <td>1</td>\n",
       "    </tr>\n",
       "    <tr>\n",
       "      <th>10</th>\n",
       "      <td>abiyyi gesse boqadhuu dache gad dhisi dafi ach...</td>\n",
       "      <td>[abiyyi, gesse, boqadhuu, dache, gad, dhisi, d...</td>\n",
       "      <td>0.0</td>\n",
       "      <td>0</td>\n",
       "      <td>1</td>\n",
       "      <td>0</td>\n",
       "    </tr>\n",
       "    <tr>\n",
       "      <th>11</th>\n",
       "      <td>jabadha billisa ni banaa yaa ummata biyya kott...</td>\n",
       "      <td>[jabadha, billisa, ni, banaa, yaa, ummata, biy...</td>\n",
       "      <td>1.0</td>\n",
       "      <td>1</td>\n",
       "      <td>0</td>\n",
       "      <td>0</td>\n",
       "    </tr>\n",
       "    <tr>\n",
       "      <th>12</th>\n",
       "      <td>oromoon dhigaa kenya itoophiyaan biyya kenyaa</td>\n",
       "      <td>[oromoon, dhigaa, kenya, itoophiyaan, biyya, k...</td>\n",
       "      <td>1.0</td>\n",
       "      <td>1</td>\n",
       "      <td>0</td>\n",
       "      <td>0</td>\n",
       "    </tr>\n",
       "    <tr>\n",
       "      <th>13</th>\n",
       "      <td>galatoommaa galatoommaa qeerroo fl qeerroo oromoo</td>\n",
       "      <td>[galatoommaa, galatoommaa, qeerroo, fl, qeerro...</td>\n",
       "      <td>1.0</td>\n",
       "      <td>1</td>\n",
       "      <td>0</td>\n",
       "      <td>0</td>\n",
       "    </tr>\n",
       "    <tr>\n",
       "      <th>14</th>\n",
       "      <td>rabbin garagalchuu abbiyi amaadi badu qaba</td>\n",
       "      <td>[rabbin, garagalchuu, abbiyi, amaadi, badu, qaba]</td>\n",
       "      <td>0.0</td>\n",
       "      <td>0</td>\n",
       "      <td>1</td>\n",
       "      <td>0</td>\n",
       "    </tr>\n",
       "    <tr>\n",
       "      <th>15</th>\n",
       "      <td>jabadha oromoo wal cinna dhabanu</td>\n",
       "      <td>[jabadha, oromoo, wal, cinna, dhabanu]</td>\n",
       "      <td>1.0</td>\n",
       "      <td>1</td>\n",
       "      <td>0</td>\n",
       "      <td>0</td>\n",
       "    </tr>\n",
       "    <tr>\n",
       "      <th>16</th>\n",
       "      <td>oromoon nagaa aragatu biyyi itoophiyaan jedhan...</td>\n",
       "      <td>[oromoon, nagaa, aragatu, biyyi, itoophiyaan, ...</td>\n",
       "      <td>0.0</td>\n",
       "      <td>0</td>\n",
       "      <td>1</td>\n",
       "      <td>0</td>\n",
       "    </tr>\n",
       "    <tr>\n",
       "      <th>17</th>\n",
       "      <td>abiyoti hangaa hidan buqautti oromoo naga hin ...</td>\n",
       "      <td>[abiyoti, hangaa, hidan, buqautti, oromoo, nag...</td>\n",
       "      <td>0.0</td>\n",
       "      <td>0</td>\n",
       "      <td>1</td>\n",
       "      <td>0</td>\n",
       "    </tr>\n",
       "    <tr>\n",
       "      <th>18</th>\n",
       "      <td>rabbille birmmatu</td>\n",
       "      <td>[rabbille, birmmatu]</td>\n",
       "      <td>2.0</td>\n",
       "      <td>0</td>\n",
       "      <td>0</td>\n",
       "      <td>1</td>\n",
       "    </tr>\n",
       "    <tr>\n",
       "      <th>19</th>\n",
       "      <td>yaa rabbii nura guti</td>\n",
       "      <td>[yaa, rabbii, nura, guti]</td>\n",
       "      <td>2.0</td>\n",
       "      <td>0</td>\n",
       "      <td>0</td>\n",
       "      <td>1</td>\n",
       "    </tr>\n",
       "  </tbody>\n",
       "</table>\n",
       "</div>"
      ],
      "text/plain": [
       "                                           Text_Final  ... Neutral\n",
       "0         barreeffama kamuu dubistee kutuun gaariidha  ...       1\n",
       "1                jabaadha ummata kenya gootota kenyaa  ...       0\n",
       "2            barrefama adda adda maalif hin garsiftan  ...       1\n",
       "3                           sagaleen sirrii hin jiruu  ...       1\n",
       "4   wbo waliin dhaabanne mootummaa ofirraa kaasu q...  ...       0\n",
       "5             jabaadha abdii hin kutinaa rabbii jiraa  ...       0\n",
       "6        abo abiyyi ahimad malitti nafxanyaa dha male  ...       0\n",
       "7             jabaadha ummatta keenyaaf sagalee tanuf  ...       1\n",
       "8           rabbii issin biraa jiratuu oromoo yommiyu  ...       0\n",
       "9                     konkkoolataa keessaa bayyaa kaa  ...       1\n",
       "10  abiyyi gesse boqadhuu dache gad dhisi dafi ach...  ...       0\n",
       "11  jabadha billisa ni banaa yaa ummata biyya kott...  ...       0\n",
       "12      oromoon dhigaa kenya itoophiyaan biyya kenyaa  ...       0\n",
       "13  galatoommaa galatoommaa qeerroo fl qeerroo oromoo  ...       0\n",
       "14         rabbin garagalchuu abbiyi amaadi badu qaba  ...       0\n",
       "15                   jabadha oromoo wal cinna dhabanu  ...       0\n",
       "16  oromoon nagaa aragatu biyyi itoophiyaan jedhan...  ...       0\n",
       "17  abiyoti hangaa hidan buqautti oromoo naga hin ...  ...       0\n",
       "18                                  rabbille birmmatu  ...       1\n",
       "19                               yaa rabbii nura guti  ...       1\n",
       "\n",
       "[20 rows x 6 columns]"
      ]
     },
     "execution_count": 281,
     "metadata": {},
     "output_type": "execute_result"
    }
   ],
   "source": [
    "data['tokens'] = filtered_words\n",
    "data = data[['Text_Final', 'tokens', 'Label', 'Anti_Extreme', 'Exterem', 'Neutral']]\n",
    "data[:20]"
   ]
  },
  {
   "cell_type": "markdown",
   "metadata": {
    "id": "E58MoNB-wPGz"
   },
   "source": [
    "# **Word Embedding #Word2Vec**"
   ]
  },
  {
   "cell_type": "code",
   "execution_count": 282,
   "metadata": {
    "id": "2S5mtUsCW0f_"
   },
   "outputs": [],
   "source": [
    "X=list(data['tokens'])"
   ]
  },
  {
   "cell_type": "code",
   "execution_count": 283,
   "metadata": {
    "id": "DHKXcUxcW0jQ"
   },
   "outputs": [],
   "source": [
    "from gensim.models import Word2Vec\n",
    "emb=Word2Vec(X,size=100,min_count=1)"
   ]
  },
  {
   "cell_type": "code",
   "execution_count": 284,
   "metadata": {
    "colab": {
     "base_uri": "https://localhost:8080/"
    },
    "id": "F8jjtZx9FVti",
    "outputId": "984f10ef-eedf-4e4a-a3cb-600225450c64"
   },
   "outputs": [
    {
     "data": {
      "text/plain": [
       "6467"
      ]
     },
     "execution_count": 284,
     "metadata": {},
     "output_type": "execute_result"
    }
   ],
   "source": [
    "len(emb.wv.vocab)"
   ]
  },
  {
   "cell_type": "code",
   "execution_count": 285,
   "metadata": {
    "colab": {
     "base_uri": "https://localhost:8080/"
    },
    "id": "ExYo1Y5TWcAA",
    "outputId": "a52a43fe-7534-4787-cea9-c7132e79090f"
   },
   "outputs": [
    {
     "data": {
      "text/plain": [
       "{'barreeffama': <gensim.models.keyedvectors.Vocab at 0x7f8e65044650>,\n",
       " 'kamuu': <gensim.models.keyedvectors.Vocab at 0x7f8e557cb490>,\n",
       " 'dubistee': <gensim.models.keyedvectors.Vocab at 0x7f8e65052e50>,\n",
       " 'kutuun': <gensim.models.keyedvectors.Vocab at 0x7f8e65052cd0>,\n",
       " 'gaariidha': <gensim.models.keyedvectors.Vocab at 0x7f8e65052510>,\n",
       " 'jabaadha': <gensim.models.keyedvectors.Vocab at 0x7f8e65052850>,\n",
       " 'ummata': <gensim.models.keyedvectors.Vocab at 0x7f8e65052b90>,\n",
       " 'kenya': <gensim.models.keyedvectors.Vocab at 0x7f8e65052b50>,\n",
       " 'gootota': <gensim.models.keyedvectors.Vocab at 0x7f8e65052150>,\n",
       " 'kenyaa': <gensim.models.keyedvectors.Vocab at 0x7f8e65052c50>,\n",
       " 'barrefama': <gensim.models.keyedvectors.Vocab at 0x7f8e65052d90>,\n",
       " 'adda': <gensim.models.keyedvectors.Vocab at 0x7f8e6504f210>,\n",
       " 'maalif': <gensim.models.keyedvectors.Vocab at 0x7f8e6504f550>,\n",
       " 'hin': <gensim.models.keyedvectors.Vocab at 0x7f8e6504f2d0>,\n",
       " 'garsiftan': <gensim.models.keyedvectors.Vocab at 0x7f8e6504fd10>,\n",
       " 'sagaleen': <gensim.models.keyedvectors.Vocab at 0x7f8e6504f850>,\n",
       " 'sirrii': <gensim.models.keyedvectors.Vocab at 0x7f8e6504f5d0>,\n",
       " 'jiruu': <gensim.models.keyedvectors.Vocab at 0x7f8e6504f6d0>,\n",
       " 'wbo': <gensim.models.keyedvectors.Vocab at 0x7f8e6504f990>,\n",
       " 'waliin': <gensim.models.keyedvectors.Vocab at 0x7f8e6504f590>,\n",
       " 'dhaabanne': <gensim.models.keyedvectors.Vocab at 0x7f8e6504f3d0>,\n",
       " 'mootummaa': <gensim.models.keyedvectors.Vocab at 0x7f8e6504f410>,\n",
       " 'ofirraa': <gensim.models.keyedvectors.Vocab at 0x7f8e6504f450>,\n",
       " 'kaasu': <gensim.models.keyedvectors.Vocab at 0x7f8e6503b050>,\n",
       " 'qabna': <gensim.models.keyedvectors.Vocab at 0x7f8e6503b310>,\n",
       " 'abdii': <gensim.models.keyedvectors.Vocab at 0x7f8e6503b4d0>,\n",
       " 'kutinaa': <gensim.models.keyedvectors.Vocab at 0x7f8e6503b8d0>,\n",
       " 'rabbii': <gensim.models.keyedvectors.Vocab at 0x7f8e6503b950>,\n",
       " 'jiraa': <gensim.models.keyedvectors.Vocab at 0x7f8e6503b690>,\n",
       " 'abo': <gensim.models.keyedvectors.Vocab at 0x7f8e6503ba10>,\n",
       " 'abiyyi': <gensim.models.keyedvectors.Vocab at 0x7f8e6503b850>,\n",
       " 'ahimad': <gensim.models.keyedvectors.Vocab at 0x7f8e6503ba90>,\n",
       " 'malitti': <gensim.models.keyedvectors.Vocab at 0x7f8e6503b590>,\n",
       " 'nafxanyaa': <gensim.models.keyedvectors.Vocab at 0x7f8e6503bed0>,\n",
       " 'dha': <gensim.models.keyedvectors.Vocab at 0x7f8e6503bdd0>,\n",
       " 'male': <gensim.models.keyedvectors.Vocab at 0x7f8e6503bf90>,\n",
       " 'ummatta': <gensim.models.keyedvectors.Vocab at 0x7f8e6503ba50>,\n",
       " 'keenyaaf': <gensim.models.keyedvectors.Vocab at 0x7f8e6503b0d0>,\n",
       " 'sagalee': <gensim.models.keyedvectors.Vocab at 0x7f8e65058250>,\n",
       " 'tanuf': <gensim.models.keyedvectors.Vocab at 0x7f8e650586d0>,\n",
       " 'issin': <gensim.models.keyedvectors.Vocab at 0x7f8e65058390>,\n",
       " 'biraa': <gensim.models.keyedvectors.Vocab at 0x7f8e65058410>,\n",
       " 'jiratuu': <gensim.models.keyedvectors.Vocab at 0x7f8e65058ad0>,\n",
       " 'oromoo': <gensim.models.keyedvectors.Vocab at 0x7f8e65058890>,\n",
       " 'yommiyu': <gensim.models.keyedvectors.Vocab at 0x7f8e65058d90>,\n",
       " 'konkkoolataa': <gensim.models.keyedvectors.Vocab at 0x7f8e65058710>,\n",
       " 'keessaa': <gensim.models.keyedvectors.Vocab at 0x7f8e65058110>,\n",
       " 'bayyaa': <gensim.models.keyedvectors.Vocab at 0x7f8e65058b50>,\n",
       " 'kaa': <gensim.models.keyedvectors.Vocab at 0x7f8e650583d0>,\n",
       " 'gesse': <gensim.models.keyedvectors.Vocab at 0x7f8e65055690>,\n",
       " 'boqadhuu': <gensim.models.keyedvectors.Vocab at 0x7f8e650552d0>,\n",
       " 'dache': <gensim.models.keyedvectors.Vocab at 0x7f8e65055190>,\n",
       " 'gad': <gensim.models.keyedvectors.Vocab at 0x7f8e65055fd0>,\n",
       " 'dhisi': <gensim.models.keyedvectors.Vocab at 0x7f8e65055d50>,\n",
       " 'dafi': <gensim.models.keyedvectors.Vocab at 0x7f8e65055d90>,\n",
       " 'achi': <gensim.models.keyedvectors.Vocab at 0x7f8e650558d0>,\n",
       " 'tarkanfi': <gensim.models.keyedvectors.Vocab at 0x7f8e65055e10>,\n",
       " 'irratti': <gensim.models.keyedvectors.Vocab at 0x7f8e65055a90>,\n",
       " 'fudhana': <gensim.models.keyedvectors.Vocab at 0x7f8e65055890>,\n",
       " 'jabadha': <gensim.models.keyedvectors.Vocab at 0x7f8e65055390>,\n",
       " 'billisa': <gensim.models.keyedvectors.Vocab at 0x7f8e650553d0>,\n",
       " 'ni': <gensim.models.keyedvectors.Vocab at 0x7f8e65055f10>,\n",
       " 'banaa': <gensim.models.keyedvectors.Vocab at 0x7f8e65055650>,\n",
       " 'yaa': <gensim.models.keyedvectors.Vocab at 0x7f8e65049dd0>,\n",
       " 'biyya': <gensim.models.keyedvectors.Vocab at 0x7f8e65049250>,\n",
       " 'kotti': <gensim.models.keyedvectors.Vocab at 0x7f8e65049290>,\n",
       " 'kolonni': <gensim.models.keyedvectors.Vocab at 0x7f8e65049490>,\n",
       " 'addi': <gensim.models.keyedvectors.Vocab at 0x7f8e65049a50>,\n",
       " 'jalaa': <gensim.models.keyedvectors.Vocab at 0x7f8e65049a90>,\n",
       " 'oromoon': <gensim.models.keyedvectors.Vocab at 0x7f8e65049c10>,\n",
       " 'dhigaa': <gensim.models.keyedvectors.Vocab at 0x7f8e65049c50>,\n",
       " 'itoophiyaan': <gensim.models.keyedvectors.Vocab at 0x7f8e65049f10>,\n",
       " 'galatoommaa': <gensim.models.keyedvectors.Vocab at 0x7f8e650498d0>,\n",
       " 'qeerroo': <gensim.models.keyedvectors.Vocab at 0x7f8e65049d10>,\n",
       " 'fl': <gensim.models.keyedvectors.Vocab at 0x7f8e65049750>,\n",
       " 'rabbin': <gensim.models.keyedvectors.Vocab at 0x7f8e65043990>,\n",
       " 'garagalchuu': <gensim.models.keyedvectors.Vocab at 0x7f8e65043550>,\n",
       " 'abbiyi': <gensim.models.keyedvectors.Vocab at 0x7f8e65043e90>,\n",
       " 'amaadi': <gensim.models.keyedvectors.Vocab at 0x7f8e65043c50>,\n",
       " 'badu': <gensim.models.keyedvectors.Vocab at 0x7f8e65043b50>,\n",
       " 'qaba': <gensim.models.keyedvectors.Vocab at 0x7f8e65043390>,\n",
       " 'wal': <gensim.models.keyedvectors.Vocab at 0x7f8e650430d0>,\n",
       " 'cinna': <gensim.models.keyedvectors.Vocab at 0x7f8e65043d10>,\n",
       " 'dhabanu': <gensim.models.keyedvectors.Vocab at 0x7f8e65043950>,\n",
       " 'nagaa': <gensim.models.keyedvectors.Vocab at 0x7f8e6503f8d0>,\n",
       " 'aragatu': <gensim.models.keyedvectors.Vocab at 0x7f8e6503fb90>,\n",
       " 'biyyi': <gensim.models.keyedvectors.Vocab at 0x7f8e6503fcd0>,\n",
       " 'jedhan': <gensim.models.keyedvectors.Vocab at 0x7f8e6503f750>,\n",
       " 'suni': <gensim.models.keyedvectors.Vocab at 0x7f8e6503f190>,\n",
       " 'argatu': <gensim.models.keyedvectors.Vocab at 0x7f8e6503f610>,\n",
       " 'abiyoti': <gensim.models.keyedvectors.Vocab at 0x7f8e6503f3d0>,\n",
       " 'hangaa': <gensim.models.keyedvectors.Vocab at 0x7f8e6503fad0>,\n",
       " 'hidan': <gensim.models.keyedvectors.Vocab at 0x7f8e6503f6d0>,\n",
       " 'buqautti': <gensim.models.keyedvectors.Vocab at 0x7f8e65046190>,\n",
       " 'naga': <gensim.models.keyedvectors.Vocab at 0x7f8e650463d0>,\n",
       " 'rabbille': <gensim.models.keyedvectors.Vocab at 0x7f8e65046490>,\n",
       " 'birmmatu': <gensim.models.keyedvectors.Vocab at 0x7f8e650468d0>,\n",
       " 'nura': <gensim.models.keyedvectors.Vocab at 0x7f8e5571e490>,\n",
       " 'guti': <gensim.models.keyedvectors.Vocab at 0x7f8e569b9fd0>,\n",
       " 'warri': <gensim.models.keyedvectors.Vocab at 0x7f8e65048c50>,\n",
       " 'dhufne': <gensim.models.keyedvectors.Vocab at 0x7f8e650481d0>,\n",
       " 'harra': <gensim.models.keyedvectors.Vocab at 0x7f8e65048090>,\n",
       " 'gargaaru': <gensim.models.keyedvectors.Vocab at 0x7f8e557cba10>,\n",
       " 'mottuma': <gensim.models.keyedvectors.Vocab at 0x7f8e6504d3d0>,\n",
       " 'yarraabbii': <gensim.models.keyedvectors.Vocab at 0x7f8e6504d250>,\n",
       " 'furmata': <gensim.models.keyedvectors.Vocab at 0x7f8e6504da50>,\n",
       " 'nubussii': <gensim.models.keyedvectors.Vocab at 0x7f8e6504d210>,\n",
       " 'nurakassii': <gensim.models.keyedvectors.Vocab at 0x7f8e6504e590>,\n",
       " 'konkoolata': <gensim.models.keyedvectors.Vocab at 0x7f8e6504ea50>,\n",
       " 'buaa': <gensim.models.keyedvectors.Vocab at 0x7f8e6504ed50>,\n",
       " 'hara': <gensim.models.keyedvectors.Vocab at 0x7f8e6504ef50>,\n",
       " 'qofa': <gensim.models.keyedvectors.Vocab at 0x7f8e6504ee90>,\n",
       " 'miti': <gensim.models.keyedvectors.Vocab at 0x7f8e5576c710>,\n",
       " 'guyya': <gensim.models.keyedvectors.Vocab at 0x7f8e5576c250>,\n",
       " 'hunda': <gensim.models.keyedvectors.Vocab at 0x7f8e5576c750>,\n",
       " 'nu': <gensim.models.keyedvectors.Vocab at 0x7f8e64c9e250>,\n",
       " 'barbachisa': <gensim.models.keyedvectors.Vocab at 0x7f8e6503e650>,\n",
       " 'hiriri': <gensim.models.keyedvectors.Vocab at 0x7f8e65044950>,\n",
       " 'dinni': <gensim.models.keyedvectors.Vocab at 0x7f8e650559d0>,\n",
       " 'badutti': <gensim.models.keyedvectors.Vocab at 0x7f8e65059ed0>,\n",
       " 'jabdhaa': <gensim.models.keyedvectors.Vocab at 0x7f8e650592d0>,\n",
       " 'abshiraa': <gensim.models.keyedvectors.Vocab at 0x7f8e65041690>,\n",
       " 'nii': <gensim.models.keyedvectors.Vocab at 0x7f8e65041410>,\n",
       " 'monaa': <gensim.models.keyedvectors.Vocab at 0x7f8e65041b10>,\n",
       " 'jadhee': <gensim.models.keyedvectors.Vocab at 0x7f8e65041890>,\n",
       " 'bashannanaa': <gensim.models.keyedvectors.Vocab at 0x7f8e65041650>,\n",
       " 'kolfisiisaa': <gensim.models.keyedvectors.Vocab at 0x7f8e65041e50>,\n",
       " 'jabadhaa': <gensim.models.keyedvectors.Vocab at 0x7f8e65041210>,\n",
       " 'kiyaa': <gensim.models.keyedvectors.Vocab at 0x7f8e65071190>,\n",
       " 'oromuman': <gensim.models.keyedvectors.Vocab at 0x7f8e650716d0>,\n",
       " 'bonsee': <gensim.models.keyedvectors.Vocab at 0x7f8e65071510>,\n",
       " 'gototaa': <gensim.models.keyedvectors.Vocab at 0x7f8e65071590>,\n",
       " 'wallin': <gensim.models.keyedvectors.Vocab at 0x7f8e65071e50>,\n",
       " 'jira': <gensim.models.keyedvectors.Vocab at 0x7f8e65071110>,\n",
       " 'rabbiin': <gensim.models.keyedvectors.Vocab at 0x7f8e65071b50>,\n",
       " 'gargaru': <gensim.models.keyedvectors.Vocab at 0x7f8e650539d0>,\n",
       " 'garii': <gensim.models.keyedvectors.Vocab at 0x7f8e64ccab90>,\n",
       " 'dalgaa': <gensim.models.keyedvectors.Vocab at 0x7f8e64c72150>,\n",
       " 'jirtu': <gensim.models.keyedvectors.Vocab at 0x7f8e6504ccd0>,\n",
       " 'biyyaf': <gensim.models.keyedvectors.Vocab at 0x7f8e6504cd10>,\n",
       " 'yoomuu': <gensim.models.keyedvectors.Vocab at 0x7f8e6504c150>,\n",
       " 'injifataadha': <gensim.models.keyedvectors.Vocab at 0x7f8e6504cf50>,\n",
       " 'abiyyii': <gensim.models.keyedvectors.Vocab at 0x7f8e6504c950>,\n",
       " 'nuraa': <gensim.models.keyedvectors.Vocab at 0x7f8e6504c790>,\n",
       " 'kasu': <gensim.models.keyedvectors.Vocab at 0x7f8e65058ed0>,\n",
       " 'jabaadhaa': <gensim.models.keyedvectors.Vocab at 0x7f8e65051110>,\n",
       " 'oromoota': <gensim.models.keyedvectors.Vocab at 0x7f8e65051610>,\n",
       " 'barreefama': <gensim.models.keyedvectors.Vocab at 0x7f8e65063150>,\n",
       " 'muldhatu': <gensim.models.keyedvectors.Vocab at 0x7f8e650639d0>,\n",
       " 'qabadha': <gensim.models.keyedvectors.Vocab at 0x7f8e65063290>,\n",
       " 'fayya': <gensim.models.keyedvectors.Vocab at 0x7f8e65063750>,\n",
       " 'taha': <gensim.models.keyedvectors.Vocab at 0x7f8e650637d0>,\n",
       " 'hundumti': <gensim.models.keyedvectors.Vocab at 0x7f8e6505f810>,\n",
       " 'keessanu': <gensim.models.keyedvectors.Vocab at 0x7f8e6505f7d0>,\n",
       " 'ummanni': <gensim.models.keyedvectors.Vocab at 0x7f8e6505f190>,\n",
       " 'walloo': <gensim.models.keyedvectors.Vocab at 0x7f8e6505f8d0>,\n",
       " 'dhumaa': <gensim.models.keyedvectors.Vocab at 0x7f8e6505ff10>,\n",
       " 'jiru': <gensim.models.keyedvectors.Vocab at 0x7f8e6505fc50>,\n",
       " 'akkamitti': <gensim.models.keyedvectors.Vocab at 0x7f8e6505f210>,\n",
       " 'umata': <gensim.models.keyedvectors.Vocab at 0x7f8e6505f790>,\n",
       " 'tigree': <gensim.models.keyedvectors.Vocab at 0x7f8e6505fdd0>,\n",
       " 'gadi': <gensim.models.keyedvectors.Vocab at 0x7f8e6505fd90>,\n",
       " 'taatan': <gensim.models.keyedvectors.Vocab at 0x7f8e56c56a10>,\n",
       " 'woyyaneedha': <gensim.models.keyedvectors.Vocab at 0x7f8e56c56950>,\n",
       " 'kuuno': <gensim.models.keyedvectors.Vocab at 0x7f8e557dfed0>,\n",
       " 'koota': <gensim.models.keyedvectors.Vocab at 0x7f8e65073b90>,\n",
       " 'korommii': <gensim.models.keyedvectors.Vocab at 0x7f8e65073b50>,\n",
       " 'oromiyaan': <gensim.models.keyedvectors.Vocab at 0x7f8e65073110>,\n",
       " 'biqilchite': <gensim.models.keyedvectors.Vocab at 0x7f8e65073990>,\n",
       " 'hedduu': <gensim.models.keyedvectors.Vocab at 0x7f8e65073750>,\n",
       " 'galatoomaa': <gensim.models.keyedvectors.Vocab at 0x7f8e65073610>,\n",
       " 'obboleeyyan': <gensim.models.keyedvectors.Vocab at 0x7f8e65073590>,\n",
       " 'qaqqaalii': <gensim.models.keyedvectors.Vocab at 0x7f8e65073510>,\n",
       " 'muddaa': <gensim.models.keyedvectors.Vocab at 0x7f8e650732d0>,\n",
       " 'qabsoon': <gensim.models.keyedvectors.Vocab at 0x7f8e64f8b6d0>,\n",
       " 'fufa': <gensim.models.keyedvectors.Vocab at 0x7f8e64c212d0>,\n",
       " 'abiy': <gensim.models.keyedvectors.Vocab at 0x7f8e65078150>,\n",
       " 'kufa': <gensim.models.keyedvectors.Vocab at 0x7f8e65078f50>,\n",
       " 'biyyatti': <gensim.models.keyedvectors.Vocab at 0x7f8e65078fd0>,\n",
       " 'galaa': <gensim.models.keyedvectors.Vocab at 0x7f8e65078dd0>,\n",
       " 'hiriiraa': <gensim.models.keyedvectors.Vocab at 0x7f8e650785d0>,\n",
       " 'yoodhuguma': <gensim.models.keyedvectors.Vocab at 0x7f8e65078650>,\n",
       " 'biyyaaf': <gensim.models.keyedvectors.Vocab at 0x7f8e650789d0>,\n",
       " 'tae': <gensim.models.keyedvectors.Vocab at 0x7f8e65078a10>,\n",
       " 'jajjabaadha': <gensim.models.keyedvectors.Vocab at 0x7f8e64cd3750>,\n",
       " 'jenna': <gensim.models.keyedvectors.Vocab at 0x7f8e56c41d10>,\n",
       " 'raabii': <gensim.models.keyedvectors.Vocab at 0x7f8e64d810d0>,\n",
       " 'milkessu': <gensim.models.keyedvectors.Vocab at 0x7f8e64d81110>,\n",
       " 'baayyee': <gensim.models.keyedvectors.Vocab at 0x7f8e64d81950>,\n",
       " 'namatti': <gensim.models.keyedvectors.Vocab at 0x7f8e64caec90>,\n",
       " 'tolaa': <gensim.models.keyedvectors.Vocab at 0x7f8e56e68c50>,\n",
       " 'missomni': <gensim.models.keyedvectors.Vocab at 0x7f8e56e68c90>,\n",
       " 'hojetama': <gensim.models.keyedvectors.Vocab at 0x7f8e56e68590>,\n",
       " 'jabnee': <gensim.models.keyedvectors.Vocab at 0x7f8e56e68c10>,\n",
       " 'addunyaratii': <gensim.models.keyedvectors.Vocab at 0x7f8e56e68e10>,\n",
       " 'iyyu': <gensim.models.keyedvectors.Vocab at 0x7f8e55b19850>,\n",
       " 'qabana': <gensim.models.keyedvectors.Vocab at 0x7f8e650e1490>,\n",
       " 'dhibbaraa': <gensim.models.keyedvectors.Vocab at 0x7f8e64fd1410>,\n",
       " 'iyyuu': <gensim.models.keyedvectors.Vocab at 0x7f8e64fd1a10>,\n",
       " 'ammayyuu': <gensim.models.keyedvectors.Vocab at 0x7f8e64fd11d0>,\n",
       " 'jirtuuyi': <gensim.models.keyedvectors.Vocab at 0x7f8e64fd1910>,\n",
       " 'finfinneetti': <gensim.models.keyedvectors.Vocab at 0x7f8e64fd13d0>,\n",
       " 'marsitanii': <gensim.models.keyedvectors.Vocab at 0x7f8e64fd15d0>,\n",
       " 'turremoo': <gensim.models.keyedvectors.Vocab at 0x7f8e64fd1b50>,\n",
       " 'gafa': <gensim.models.keyedvectors.Vocab at 0x7f8e64fd1850>,\n",
       " 'finfinnee': <gensim.models.keyedvectors.Vocab at 0x7f8e64fd1a50>,\n",
       " 'geenye': <gensim.models.keyedvectors.Vocab at 0x7f8e64fd12d0>,\n",
       " 'jettan': <gensim.models.keyedvectors.Vocab at 0x7f8e64fd17d0>,\n",
       " 'abju': <gensim.models.keyedvectors.Vocab at 0x7f8e64fd1f50>,\n",
       " 'guyyaan': <gensim.models.keyedvectors.Vocab at 0x7f8e64fd10d0>,\n",
       " 'abjoottan': <gensim.models.keyedvectors.Vocab at 0x7f8e64fd1190>,\n",
       " 'biiyya': <gensim.models.keyedvectors.Vocab at 0x7f8e64fd1590>,\n",
       " 'mirgga': <gensim.models.keyedvectors.Vocab at 0x7f8e64fd1f90>,\n",
       " 'dhabee': <gensim.models.keyedvectors.Vocab at 0x7f8e64fd1c50>,\n",
       " 'ajjefamaa': <gensim.models.keyedvectors.Vocab at 0x7f8e64fd1750>,\n",
       " 'gidirfama': <gensim.models.keyedvectors.Vocab at 0x7f8e64fd1250>,\n",
       " 'jiraatuu': <gensim.models.keyedvectors.Vocab at 0x7f8e64fd1550>,\n",
       " 'yomitti': <gensim.models.keyedvectors.Vocab at 0x7f8e64fd1210>,\n",
       " 'sirnni': <gensim.models.keyedvectors.Vocab at 0x7f8e64fd1790>,\n",
       " 'sirnna': <gensim.models.keyedvectors.Vocab at 0x7f8e64fd1050>,\n",
       " 'ofifuu': <gensim.models.keyedvectors.Vocab at 0x7f8e64fd1310>,\n",
       " 'in': <gensim.models.keyedvectors.Vocab at 0x7f8e64fd1690>,\n",
       " 'tanee': <gensim.models.keyedvectors.Vocab at 0x7f8e64fd1e90>,\n",
       " 'sareen': <gensim.models.keyedvectors.Vocab at 0x7f8e64fd1fd0>,\n",
       " 'iddoo': <gensim.models.keyedvectors.Vocab at 0x7f8e64c86b50>,\n",
       " 'nyaatuuf': <gensim.models.keyedvectors.Vocab at 0x7f8e65079dd0>,\n",
       " 'dutii': <gensim.models.keyedvectors.Vocab at 0x7f8e650798d0>,\n",
       " 'jedha': <gensim.models.keyedvectors.Vocab at 0x7f8e650797d0>,\n",
       " 'finfine': <gensim.models.keyedvectors.Vocab at 0x7f8e65079610>,\n",
       " 'nun': <gensim.models.keyedvectors.Vocab at 0x7f8e65079090>,\n",
       " 'jetanii': <gensim.models.keyedvectors.Vocab at 0x7f8e65079510>,\n",
       " 'turtaan': <gensim.models.keyedvectors.Vocab at 0x7f8e650466d0>,\n",
       " 'immallii': <gensim.models.keyedvectors.Vocab at 0x7f8e65046a50>,\n",
       " 'garra': <gensim.models.keyedvectors.Vocab at 0x7f8e65046c10>,\n",
       " 'booyyiichaan': <gensim.models.keyedvectors.Vocab at 0x7f8e65046d50>,\n",
       " 'xumurammee': <gensim.models.keyedvectors.Vocab at 0x7f8e65046890>,\n",
       " 'jalla': <gensim.models.keyedvectors.Vocab at 0x7f8e65046650>,\n",
       " 'kaattuu': <gensim.models.keyedvectors.Vocab at 0x7f8e650467d0>,\n",
       " 'wayyaannee': <gensim.models.keyedvectors.Vocab at 0x7f8e650545d0>,\n",
       " 'abiyoot': <gensim.models.keyedvectors.Vocab at 0x7f8e65054810>,\n",
       " 'kufuun': <gensim.models.keyedvectors.Vocab at 0x7f8e650544d0>,\n",
       " 'ifa': <gensim.models.keyedvectors.Vocab at 0x7f8e65054e50>,\n",
       " 'lubbuun': <gensim.models.keyedvectors.Vocab at 0x7f8e65054690>,\n",
       " 'saba': <gensim.models.keyedvectors.Vocab at 0x7f8e65045850>,\n",
       " 'duguugamaa': <gensim.models.keyedvectors.Vocab at 0x7f8e65045ad0>,\n",
       " 'abaarsi': <gensim.models.keyedvectors.Vocab at 0x7f8e65045b50>,\n",
       " 'buuu': <gensim.models.keyedvectors.Vocab at 0x7f8e65045550>,\n",
       " 'abiyiin': <gensim.models.keyedvectors.Vocab at 0x7f8e65045090>,\n",
       " 'dhiigni': <gensim.models.keyedvectors.Vocab at 0x7f8e650450d0>,\n",
       " 'ilmaan': <gensim.models.keyedvectors.Vocab at 0x7f8e65045310>,\n",
       " 'baduu': <gensim.models.keyedvectors.Vocab at 0x7f8e65045150>,\n",
       " 'wara': <gensim.models.keyedvectors.Vocab at 0x7f8e650451d0>,\n",
       " 'gara': <gensim.models.keyedvectors.Vocab at 0x7f8e57b0ec90>,\n",
       " 'jalatu': <gensim.models.keyedvectors.Vocab at 0x7f8e57b0e050>,\n",
       " 'bilixiginani': <gensim.models.keyedvectors.Vocab at 0x7f8e57b0e190>,\n",
       " 'aboo': <gensim.models.keyedvectors.Vocab at 0x7f8e57b0ebd0>,\n",
       " 'isan': <gensim.models.keyedvectors.Vocab at 0x7f8e57b0ef10>,\n",
       " 'jeneraal': <gensim.models.keyedvectors.Vocab at 0x7f8e57b0ed90>,\n",
       " 'tsaadiqaan': <gensim.models.keyedvectors.Vocab at 0x7f8e6505ab50>,\n",
       " 'galuuf': <gensim.models.keyedvectors.Vocab at 0x7f8e6505ae90>,\n",
       " 'eessa': <gensim.models.keyedvectors.Vocab at 0x7f8e6505a110>,\n",
       " 'gahee': <gensim.models.keyedvectors.Vocab at 0x7f8e6505a2d0>,\n",
       " 'jarana': <gensim.models.keyedvectors.Vocab at 0x7f8e6505a1d0>,\n",
       " 'jaabaadhaa': <gensim.models.keyedvectors.Vocab at 0x7f8e6505a410>,\n",
       " 'jiiraachuun': <gensim.models.keyedvectors.Vocab at 0x7f8e6505a490>,\n",
       " 'jiiraachuudhaati': <gensim.models.keyedvectors.Vocab at 0x7f8e6505a610>,\n",
       " 'jaabadhaa': <gensim.models.keyedvectors.Vocab at 0x7f8e6505a7d0>,\n",
       " 'waraabessa': <gensim.models.keyedvectors.Vocab at 0x7f8e6505a6d0>,\n",
       " 'gogaa': <gensim.models.keyedvectors.Vocab at 0x7f8e6505a990>,\n",
       " 'hoolaa': <gensim.models.keyedvectors.Vocab at 0x7f8e6505a950>,\n",
       " 'uffatee': <gensim.models.keyedvectors.Vocab at 0x7f8e6505ac10>,\n",
       " 'gurbaan': <gensim.models.keyedvectors.Vocab at 0x7f8e6505add0>,\n",
       " 'kuni': <gensim.models.keyedvectors.Vocab at 0x7f8e6503cd10>,\n",
       " 'ajaaibaa': <gensim.models.keyedvectors.Vocab at 0x7f8e6503ce50>,\n",
       " 'dubbachaa': <gensim.models.keyedvectors.Vocab at 0x7f8e6503cf90>,\n",
       " 'oromiyan': <gensim.models.keyedvectors.Vocab at 0x7f8e6503c9d0>,\n",
       " 'waliigalaatti': <gensim.models.keyedvectors.Vocab at 0x7f8e6503c1d0>,\n",
       " 'ofitti': <gensim.models.keyedvectors.Vocab at 0x7f8e6503c490>,\n",
       " 'amanuu': <gensim.models.keyedvectors.Vocab at 0x7f8e6503c690>,\n",
       " 'dhabuu': <gensim.models.keyedvectors.Vocab at 0x7f8e6503c590>,\n",
       " 'maal': <gensim.models.keyedvectors.Vocab at 0x7f8e6503c5d0>,\n",
       " 'akkatahe': <gensim.models.keyedvectors.Vocab at 0x7f8e6503c650>,\n",
       " 'galuu': <gensim.models.keyedvectors.Vocab at 0x7f8e6503ce10>,\n",
       " 'dede': <gensim.models.keyedvectors.Vocab at 0x7f8e6503d3d0>,\n",
       " 'yaya': <gensim.models.keyedvectors.Vocab at 0x7f8e6503d250>,\n",
       " 'maali': <gensim.models.keyedvectors.Vocab at 0x7f8e6503de10>,\n",
       " 'umanni': <gensim.models.keyedvectors.Vocab at 0x7f8e6503d990>,\n",
       " 'jijiramni': <gensim.models.keyedvectors.Vocab at 0x7f8e6503d850>,\n",
       " 'tokko': <gensim.models.keyedvectors.Vocab at 0x7f8e6503df10>,\n",
       " 'dhufe': <gensim.models.keyedvectors.Vocab at 0x7f8e6503df50>,\n",
       " 'jarrjaree': <gensim.models.keyedvectors.Vocab at 0x7f8e6503d790>,\n",
       " 'gamade': <gensim.models.keyedvectors.Vocab at 0x7f8e57afe190>,\n",
       " 'hikachutu': <gensim.models.keyedvectors.Vocab at 0x7f8e57afe210>,\n",
       " 'fide': <gensim.models.keyedvectors.Vocab at 0x7f8e57afe3d0>,\n",
       " 'dadafnee': <gensim.models.keyedvectors.Vocab at 0x7f8e57afe510>,\n",
       " 'hikkachuu': <gensim.models.keyedvectors.Vocab at 0x7f8e57afe5d0>,\n",
       " 'qabnu': <gensim.models.keyedvectors.Vocab at 0x7f8e57afe750>,\n",
       " 'dagamne': <gensim.models.keyedvectors.Vocab at 0x7f8e57afe790>,\n",
       " 'baayinaa': <gensim.models.keyedvectors.Vocab at 0x7f8e57afebd0>,\n",
       " 'gootumaa': <gensim.models.keyedvectors.Vocab at 0x7f8e57afec50>,\n",
       " 'keenyatti': <gensim.models.keyedvectors.Vocab at 0x7f8e57afecd0>,\n",
       " 'guyyaa': <gensim.models.keyedvectors.Vocab at 0x7f8e57afee90>,\n",
       " 'tokkotti': <gensim.models.keyedvectors.Vocab at 0x7f8e57afc6d0>,\n",
       " 'bilisoomna': <gensim.models.keyedvectors.Vocab at 0x7f8e57afce10>,\n",
       " 'tokkummaa': <gensim.models.keyedvectors.Vocab at 0x7f8e57afcb50>,\n",
       " 'qabnuu': <gensim.models.keyedvectors.Vocab at 0x7f8e57afc610>,\n",
       " 'maaloo': <gensim.models.keyedvectors.Vocab at 0x7f8e57afc150>,\n",
       " 'amantii': <gensim.models.keyedvectors.Vocab at 0x7f8e57afc0d0>,\n",
       " 'gandan': <gensim.models.keyedvectors.Vocab at 0x7f8e57afc090>,\n",
       " 'qoodnu': <gensim.models.keyedvectors.Vocab at 0x7f8e57aff9d0>,\n",
       " 'tanuu': <gensim.models.keyedvectors.Vocab at 0x7f8e57aff350>,\n",
       " 'furmaani': <gensim.models.keyedvectors.Vocab at 0x7f8e57aff290>,\n",
       " 'woraani': <gensim.models.keyedvectors.Vocab at 0x7f8e57affe10>,\n",
       " 'bilisummaa': <gensim.models.keyedvectors.Vocab at 0x7f8e57affd50>,\n",
       " 'woraana': <gensim.models.keyedvectors.Vocab at 0x7f8e57aff6d0>,\n",
       " 'mootummaanti': <gensim.models.keyedvectors.Vocab at 0x7f8e57aff810>,\n",
       " 'makamee': <gensim.models.keyedvectors.Vocab at 0x7f8e57aff410>,\n",
       " 'tplf': <gensim.models.keyedvectors.Vocab at 0x7f8e57aff310>,\n",
       " 'bakkati': <gensim.models.keyedvectors.Vocab at 0x7f8e57affc10>,\n",
       " 'galchee': <gensim.models.keyedvectors.Vocab at 0x7f8e57aff650>,\n",
       " 'barbaachisu': <gensim.models.keyedvectors.Vocab at 0x7f8e57aff1d0>,\n",
       " 'gaafachuu': <gensim.models.keyedvectors.Vocab at 0x7f8e57b02090>,\n",
       " 'mootumman': <gensim.models.keyedvectors.Vocab at 0x7f8e57b02490>,\n",
       " 'abiyii': <gensim.models.keyedvectors.Vocab at 0x7f8e57b02f90>,\n",
       " 'tigiraayii': <gensim.models.keyedvectors.Vocab at 0x7f8e57b02b10>,\n",
       " 'wolitti': <gensim.models.keyedvectors.Vocab at 0x7f8e57b02750>,\n",
       " 'araraaman': <gensim.models.keyedvectors.Vocab at 0x7f8e57b02b90>,\n",
       " 'rakoon': <gensim.models.keyedvectors.Vocab at 0x7f8e57b02450>,\n",
       " 'ittuma': <gensim.models.keyedvectors.Vocab at 0x7f8e57b02210>,\n",
       " 'tahin': <gensim.models.keyedvectors.Vocab at 0x7f8e57b07e50>,\n",
       " 'bayyee': <gensim.models.keyedvectors.Vocab at 0x7f8e57b07a90>,\n",
       " 'tokkoo': <gensim.models.keyedvectors.Vocab at 0x7f8e57b07ed0>,\n",
       " 'galatoma': <gensim.models.keyedvectors.Vocab at 0x7f8e57b07f90>,\n",
       " 'ya': <gensim.models.keyedvectors.Vocab at 0x7f8e57b07350>,\n",
       " 'sabotota': <gensim.models.keyedvectors.Vocab at 0x7f8e57b07410>,\n",
       " 'fullaa': <gensim.models.keyedvectors.Vocab at 0x7f8e57b07650>,\n",
       " 'jiritan': <gensim.models.keyedvectors.Vocab at 0x7f8e57b07950>,\n",
       " 'cufati': <gensim.models.keyedvectors.Vocab at 0x7f8e57b07810>,\n",
       " 'manati': <gensim.models.keyedvectors.Vocab at 0x7f8e57b07710>,\n",
       " 'hingalina': <gensim.models.keyedvectors.Vocab at 0x7f8e57b076d0>,\n",
       " 'ittii': <gensim.models.keyedvectors.Vocab at 0x7f8e57b07390>,\n",
       " 'muda': <gensim.models.keyedvectors.Vocab at 0x7f8e57b07110>,\n",
       " 'oromon': <gensim.models.keyedvectors.Vocab at 0x7f8e57b07510>,\n",
       " 'wan': <gensim.models.keyedvectors.Vocab at 0x7f8e57b1df10>,\n",
       " 'biliissomee': <gensim.models.keyedvectors.Vocab at 0x7f8e57b1d4d0>,\n",
       " 'calisee': <gensim.models.keyedvectors.Vocab at 0x7f8e57b1df90>,\n",
       " 'rafaa': <gensim.models.keyedvectors.Vocab at 0x7f8e57b1ded0>,\n",
       " 'baran': <gensim.models.keyedvectors.Vocab at 0x7f8e57b1d090>,\n",
       " 'rabbuman': <gensim.models.keyedvectors.Vocab at 0x7f8e57b1db10>,\n",
       " 'hadamaqiisuu': <gensim.models.keyedvectors.Vocab at 0x7f8e57b1ddd0>,\n",
       " 'hiribba': <gensim.models.keyedvectors.Vocab at 0x7f8e57b1d850>,\n",
       " 'yaada': <gensim.models.keyedvectors.Vocab at 0x7f8e57b1d610>,\n",
       " 'qabannee': <gensim.models.keyedvectors.Vocab at 0x7f8e57b1d810>,\n",
       " 'garaan': <gensim.models.keyedvectors.Vocab at 0x7f8e57b1d650>,\n",
       " 'walaboomti': <gensim.models.keyedvectors.Vocab at 0x7f8e57b1d390>,\n",
       " 'oroomiyaan': <gensim.models.keyedvectors.Vocab at 0x7f8e57b0d090>,\n",
       " 'itoophiyanitiidha': <gensim.models.keyedvectors.Vocab at 0x7f8e57b0d250>,\n",
       " 'rakkiftan': <gensim.models.keyedvectors.Vocab at 0x7f8e57b0d290>,\n",
       " 'bagaa': <gensim.models.keyedvectors.Vocab at 0x7f8e57b0d350>,\n",
       " 'nagahaan': <gensim.models.keyedvectors.Vocab at 0x7f8e57b0d650>,\n",
       " 'dhuftaan': <gensim.models.keyedvectors.Vocab at 0x7f8e57b0d750>,\n",
       " 'gameessa': <gensim.models.keyedvectors.Vocab at 0x7f8e57b0da90>,\n",
       " 'heduu': <gensim.models.keyedvectors.Vocab at 0x7f8e57b0dbd0>,\n",
       " 'jaladha': <gensim.models.keyedvectors.Vocab at 0x7f8e57b0dc90>,\n",
       " 'nama': <gensim.models.keyedvectors.Vocab at 0x7f8e57b0dd90>,\n",
       " 'beekumsa': <gensim.models.keyedvectors.Vocab at 0x7f8e57b0ddd0>,\n",
       " 'gaumsa': <gensim.models.keyedvectors.Vocab at 0x7f8e57b0ded0>,\n",
       " 'dandauun': <gensim.models.keyedvectors.Vocab at 0x7f8e57af3050>,\n",
       " 'sabaaf': <gensim.models.keyedvectors.Vocab at 0x7f8e57af30d0>,\n",
       " 'dhaabbatu': <gensim.models.keyedvectors.Vocab at 0x7f8e57af3390>,\n",
       " 'jiraadhuu': <gensim.models.keyedvectors.Vocab at 0x7f8e57af3650>,\n",
       " 'dabre': <gensim.models.keyedvectors.Vocab at 0x7f8e57af3950>,\n",
       " 'barannee': <gensim.models.keyedvectors.Vocab at 0x7f8e57af3ad0>,\n",
       " 'godhuu': <gensim.models.keyedvectors.Vocab at 0x7f8e57af3c10>,\n",
       " 'walduuka': <gensim.models.keyedvectors.Vocab at 0x7f8e57af3d10>,\n",
       " 'sochouu': <gensim.models.keyedvectors.Vocab at 0x7f8e57af3e50>,\n",
       " 'danddeenna': <gensim.models.keyedvectors.Vocab at 0x7f8e57af3e90>,\n",
       " 'dhimmi': <gensim.models.keyedvectors.Vocab at 0x7f8e64ecef50>,\n",
       " 'biyyummaati': <gensim.models.keyedvectors.Vocab at 0x7f8e64ece610>,\n",
       " 'sabummaa': <gensim.models.keyedvectors.Vocab at 0x7f8e64ecef10>,\n",
       " 'mitti': <gensim.models.keyedvectors.Vocab at 0x7f8e64ece7d0>,\n",
       " 'kannafu': <gensim.models.keyedvectors.Vocab at 0x7f8e64ecec90>,\n",
       " 'ijaru': <gensim.models.keyedvectors.Vocab at 0x7f8e64eecf90>,\n",
       " 'hayyoonni': <gensim.models.keyedvectors.Vocab at 0x7f8e64eecf10>,\n",
       " 'idila': <gensim.models.keyedvectors.Vocab at 0x7f8e64eec850>,\n",
       " 'adunyaarra': <gensim.models.keyedvectors.Vocab at 0x7f8e64eeca50>,\n",
       " 'jiran': <gensim.models.keyedvectors.Vocab at 0x7f8e64eec510>,\n",
       " 'hatatamaan': <gensim.models.keyedvectors.Vocab at 0x7f8e64eec250>,\n",
       " 'mariatanii': <gensim.models.keyedvectors.Vocab at 0x7f8e64eec150>,\n",
       " 'fala': <gensim.models.keyedvectors.Vocab at 0x7f8e64eec610>,\n",
       " 'oromoof': <gensim.models.keyedvectors.Vocab at 0x7f8e64eecfd0>,\n",
       " 'kaayuu': <gensim.models.keyedvectors.Vocab at 0x7f8e64eecd90>,\n",
       " 'qaban': <gensim.models.keyedvectors.Vocab at 0x7f8e64eec9d0>,\n",
       " 'yoomiyyuu': <gensim.models.keyedvectors.Vocab at 0x7f8e64eec710>,\n",
       " 'kufu': <gensim.models.keyedvectors.Vocab at 0x7f8e64ef1c10>,\n",
       " 'dhugaa': <gensim.models.keyedvectors.Vocab at 0x7f8e64ef1450>,\n",
       " 'qabuuf': <gensim.models.keyedvectors.Vocab at 0x7f8e64ef11d0>,\n",
       " 'uummata': <gensim.models.keyedvectors.Vocab at 0x7f8e64ef1a10>,\n",
       " 'nagahaa': <gensim.models.keyedvectors.Vocab at 0x7f8e64ef1710>,\n",
       " 'dararuu': <gensim.models.keyedvectors.Vocab at 0x7f8e64ef1c90>,\n",
       " 'ajjeesuun': <gensim.models.keyedvectors.Vocab at 0x7f8e64ef1410>,\n",
       " 'nurraa': <gensim.models.keyedvectors.Vocab at 0x7f8e5591c850>,\n",
       " 'haadhaabbatu': <gensim.models.keyedvectors.Vocab at 0x7f8e64ebddd0>,\n",
       " 'dhugaan': <gensim.models.keyedvectors.Vocab at 0x7f8e64e2ded0>,\n",
       " 'tanuma': <gensim.models.keyedvectors.Vocab at 0x7f8e64e2d490>,\n",
       " 'dubbii': <gensim.models.keyedvectors.Vocab at 0x7f8e57af40d0>,\n",
       " 'mataa': <gensim.models.keyedvectors.Vocab at 0x7f8e57af4150>,\n",
       " 'nyaatte': <gensim.models.keyedvectors.Vocab at 0x7f8e57af4310>,\n",
       " 'dubbatte': <gensim.models.keyedvectors.Vocab at 0x7f8e57af4390>,\n",
       " 'gantoota': <gensim.models.keyedvectors.Vocab at 0x7f8e57af4710>,\n",
       " 'warana': <gensim.models.keyedvectors.Vocab at 0x7f8e57af4850>,\n",
       " 'bosona': <gensim.models.keyedvectors.Vocab at 0x7f8e57af4890>,\n",
       " 'motummatti': <gensim.models.keyedvectors.Vocab at 0x7f8e57af4b50>,\n",
       " 'galchuuf': <gensim.models.keyedvectors.Vocab at 0x7f8e57af4a50>,\n",
       " 'yaala': <gensim.models.keyedvectors.Vocab at 0x7f8e57af4d10>,\n",
       " 'turani': <gensim.models.keyedvectors.Vocab at 0x7f8e57af4d90>,\n",
       " 'wanni': <gensim.models.keyedvectors.Vocab at 0x7f8e57af4e90>,\n",
       " 'diinni': <gensim.models.keyedvectors.Vocab at 0x7f8e5887d350>,\n",
       " 'yadu': <gensim.models.keyedvectors.Vocab at 0x7f8e5887d510>,\n",
       " 'yomiyyu': <gensim.models.keyedvectors.Vocab at 0x7f8e5887d6d0>,\n",
       " 'gaari': <gensim.models.keyedvectors.Vocab at 0x7f8e5887d8d0>,\n",
       " 'abiyi': <gensim.models.keyedvectors.Vocab at 0x7f8e5887d810>,\n",
       " 'ahimed': <gensim.models.keyedvectors.Vocab at 0x7f8e5887d910>,\n",
       " 'kaasii': <gensim.models.keyedvectors.Vocab at 0x7f8e5887db50>,\n",
       " 'biyyaa': <gensim.models.keyedvectors.Vocab at 0x7f8e5887dd10>,\n",
       " 'argattu': <gensim.models.keyedvectors.Vocab at 0x7f8e5887dc10>,\n",
       " 'gonkuma': <gensim.models.keyedvectors.Vocab at 0x7f8e5887dd50>,\n",
       " 'tigreen': <gensim.models.keyedvectors.Vocab at 0x7f8e66db2250>,\n",
       " 'amas': <gensim.models.keyedvectors.Vocab at 0x7f8e66db2190>,\n",
       " 'debitee': <gensim.models.keyedvectors.Vocab at 0x7f8e66db2850>,\n",
       " 'qabanan': <gensim.models.keyedvectors.Vocab at 0x7f8e66db2b90>,\n",
       " 'rakkoo': <gensim.models.keyedvectors.Vocab at 0x7f8e66db2ad0>,\n",
       " 'gudadha': <gensim.models.keyedvectors.Vocab at 0x7f8e66db2c50>,\n",
       " 'duraa': <gensim.models.keyedvectors.Vocab at 0x7f8e66db2dd0>,\n",
       " 'taii': <gensim.models.keyedvectors.Vocab at 0x7f8e66db2f90>,\n",
       " 'waee': <gensim.models.keyedvectors.Vocab at 0x7f8e53edd0d0>,\n",
       " 'dubachu': <gensim.models.keyedvectors.Vocab at 0x7f8e53edd090>,\n",
       " 'durattii': <gensim.models.keyedvectors.Vocab at 0x7f8e53edd150>,\n",
       " 'kuniin': <gensim.models.keyedvectors.Vocab at 0x7f8e53edd310>,\n",
       " 'hundii': <gensim.models.keyedvectors.Vocab at 0x7f8e53edd250>,\n",
       " 'qabsoo': <gensim.models.keyedvectors.Vocab at 0x7f8e53edd350>,\n",
       " 'keessaatti': <gensim.models.keyedvectors.Vocab at 0x7f8e53edd790>,\n",
       " 'yaaddoo': <gensim.models.keyedvectors.Vocab at 0x7f8e53edd810>,\n",
       " 'guddoodhaa': <gensim.models.keyedvectors.Vocab at 0x7f8e53eddb10>,\n",
       " 'alaha': <gensim.models.keyedvectors.Vocab at 0x7f8e53edddd0>,\n",
       " 'atii': <gensim.models.keyedvectors.Vocab at 0x7f8e5809a3d0>,\n",
       " 'nuf': <gensim.models.keyedvectors.Vocab at 0x7f8e5809a450>,\n",
       " 'birmaadhu': <gensim.models.keyedvectors.Vocab at 0x7f8e5809a490>,\n",
       " 'of': <gensim.models.keyedvectors.Vocab at 0x7f8e5809a5d0>,\n",
       " 'jabeeysuu': <gensim.models.keyedvectors.Vocab at 0x7f8e5809a7d0>,\n",
       " 'kanafuu': <gensim.models.keyedvectors.Vocab at 0x7f8e5809abd0>,\n",
       " 'dammaqu': <gensim.models.keyedvectors.Vocab at 0x7f8e5809ac10>,\n",
       " 'qabnaa': <gensim.models.keyedvectors.Vocab at 0x7f8e5809af10>,\n",
       " 'ijoo': <gensim.models.keyedvectors.Vocab at 0x7f8e65280350>,\n",
       " 'galata': <gensim.models.keyedvectors.Vocab at 0x7f8e652802d0>,\n",
       " 'lammii': <gensim.models.keyedvectors.Vocab at 0x7f8e65280310>,\n",
       " 'qabdu': <gensim.models.keyedvectors.Vocab at 0x7f8e65280450>,\n",
       " 'kessani': <gensim.models.keyedvectors.Vocab at 0x7f8e65280510>,\n",
       " 'jababdhaa': <gensim.models.keyedvectors.Vocab at 0x7f8e65280690>,\n",
       " 'hegeree': <gensim.models.keyedvectors.Vocab at 0x7f8e652806d0>,\n",
       " 'oromiyaaa': <gensim.models.keyedvectors.Vocab at 0x7f8e65280710>,\n",
       " 'irrati': <gensim.models.keyedvectors.Vocab at 0x7f8e65280890>,\n",
       " 'dubbadha': <gensim.models.keyedvectors.Vocab at 0x7f8e5814c1d0>,\n",
       " 'xiinxala': <gensim.models.keyedvectors.Vocab at 0x7f8e5814c310>,\n",
       " 'bilchatadha': <gensim.models.keyedvectors.Vocab at 0x7f8e5814c610>,\n",
       " 'yayya': <gensim.models.keyedvectors.Vocab at 0x7f8e5814c810>,\n",
       " 'galatoomi': <gensim.models.keyedvectors.Vocab at 0x7f8e5814c790>,\n",
       " 'nagaan': <gensim.models.keyedvectors.Vocab at 0x7f8e5814cb90>,\n",
       " 'basii': <gensim.models.keyedvectors.Vocab at 0x7f8e5814cd50>,\n",
       " 'hundaa': <gensim.models.keyedvectors.Vocab at 0x7f8e651ae150>,\n",
       " 'kenyaaf': <gensim.models.keyedvectors.Vocab at 0x7f8e651ae250>,\n",
       " 'yaani': <gensim.models.keyedvectors.Vocab at 0x7f8e651ae590>,\n",
       " 'fixee': <gensim.models.keyedvectors.Vocab at 0x7f8e651ae6d0>,\n",
       " 'kanumaa': <gensim.models.keyedvectors.Vocab at 0x7f8e651ae9d0>,\n",
       " 'yaachsu': <gensim.models.keyedvectors.Vocab at 0x7f8e651aecd0>,\n",
       " 'namichaa': <gensim.models.keyedvectors.Vocab at 0x7f8e651aefd0>,\n",
       " 'jedhamu': <gensim.models.keyedvectors.Vocab at 0x7f8e5c940350>,\n",
       " 'kunii': <gensim.models.keyedvectors.Vocab at 0x7f8e5c940510>,\n",
       " 'hubadhaa': <gensim.models.keyedvectors.Vocab at 0x7f8e5c940790>,\n",
       " 'gota': <gensim.models.keyedvectors.Vocab at 0x7f8e5c940ad0>,\n",
       " 'jiradhu': <gensim.models.keyedvectors.Vocab at 0x7f8e5c940dd0>,\n",
       " 'halan': <gensim.models.keyedvectors.Vocab at 0x7f8e5c940ed0>,\n",
       " 'garidha': <gensim.models.keyedvectors.Vocab at 0x7f8e5c948350>,\n",
       " 'furmataa': <gensim.models.keyedvectors.Vocab at 0x7f8e5c948590>,\n",
       " 'fidii': <gensim.models.keyedvectors.Vocab at 0x7f8e5c948690>,\n",
       " 'allaah': <gensim.models.keyedvectors.Vocab at 0x7f8e67139250>,\n",
       " 'jabaadhaaa': <gensim.models.keyedvectors.Vocab at 0x7f8e67139290>,\n",
       " 'diina': <gensim.models.keyedvectors.Vocab at 0x7f8e67139750>,\n",
       " 'nimoonaa': <gensim.models.keyedvectors.Vocab at 0x7f8e671398d0>,\n",
       " 'birmaadumma': <gensim.models.keyedvectors.Vocab at 0x7f8e67139950>,\n",
       " 'motummaa': <gensim.models.keyedvectors.Vocab at 0x7f8e67139a90>,\n",
       " 'mirgaa': <gensim.models.keyedvectors.Vocab at 0x7f8e67137050>,\n",
       " 'ofin': <gensim.models.keyedvectors.Vocab at 0x7f8e671375d0>,\n",
       " 'bulchuu': <gensim.models.keyedvectors.Vocab at 0x7f8e671377d0>,\n",
       " 'qabdudha': <gensim.models.keyedvectors.Vocab at 0x7f8e67137890>,\n",
       " 'keessaan': <gensim.models.keyedvectors.Vocab at 0x7f8e67137c90>,\n",
       " 'koppaasin': <gensim.models.keyedvectors.Vocab at 0x7f8e67137e10>,\n",
       " 'badee': <gensim.models.keyedvectors.Vocab at 0x7f8e67137e90>,\n",
       " 'deemu': <gensim.models.keyedvectors.Vocab at 0x7f8e67137ed0>,\n",
       " 'tuni': <gensim.models.keyedvectors.Vocab at 0x7f8e6713b110>,\n",
       " 'yoomittuu': <gensim.models.keyedvectors.Vocab at 0x7f8e6713b290>,\n",
       " 'bahaatti': <gensim.models.keyedvectors.Vocab at 0x7f8e6713b4d0>,\n",
       " 'baqattan': <gensim.models.keyedvectors.Vocab at 0x7f8e6713b910>,\n",
       " 'marti': <gensim.models.keyedvectors.Vocab at 0x7f8e6713b850>,\n",
       " 'haala': <gensim.models.keyedvectors.Vocab at 0x7f8e6713bb10>,\n",
       " 'hammaa': <gensim.models.keyedvectors.Vocab at 0x7f8e6713bd50>,\n",
       " 'duraan': <gensim.models.keyedvectors.Vocab at 0x7f8e6713be10>,\n",
       " 'turree': <gensim.models.keyedvectors.Vocab at 0x7f8e6713be90>,\n",
       " 'qaata': <gensim.models.keyedvectors.Vocab at 0x7f8e6713bf50>,\n",
       " 'milkoofne': <gensim.models.keyedvectors.Vocab at 0x7f8e671322d0>,\n",
       " 'waanti': <gensim.models.keyedvectors.Vocab at 0x7f8e67132310>,\n",
       " 'walii': <gensim.models.keyedvectors.Vocab at 0x7f8e67132590>,\n",
       " 'galamu': <gensim.models.keyedvectors.Vocab at 0x7f8e67132a10>,\n",
       " 'hidhannoo': <gensim.models.keyedvectors.Vocab at 0x7f8e67132c10>,\n",
       " 'qofaatu': <gensim.models.keyedvectors.Vocab at 0x7f8e67132e50>,\n",
       " 'furmaata': <gensim.models.keyedvectors.Vocab at 0x7f8e67132d90>,\n",
       " 'nuutii': <gensim.models.keyedvectors.Vocab at 0x7f8e67132ed0>,\n",
       " 'mooatiin': <gensim.models.keyedvectors.Vocab at 0x7f8e671360d0>,\n",
       " 'angoo': <gensim.models.keyedvectors.Vocab at 0x7f8e671362d0>,\n",
       " 'qoddachuuf': <gensim.models.keyedvectors.Vocab at 0x7f8e67136510>,\n",
       " 'jecha': <gensim.models.keyedvectors.Vocab at 0x7f8e67136490>,\n",
       " 'wol': <gensim.models.keyedvectors.Vocab at 0x7f8e67136850>,\n",
       " 'loolluu': <gensim.models.keyedvectors.Vocab at 0x7f8e67136990>,\n",
       " 'dhufee': <gensim.models.keyedvectors.Vocab at 0x7f8e67136b50>,\n",
       " 'fudhata': <gensim.models.keyedvectors.Vocab at 0x7f8e67136d90>,\n",
       " 'hunddayyuu': <gensim.models.keyedvectors.Vocab at 0x7f8e67136dd0>,\n",
       " 'baheessa': <gensim.models.keyedvectors.Vocab at 0x7f8e67136e90>,\n",
       " 'namoota': <gensim.models.keyedvectors.Vocab at 0x7f8e67136f90>,\n",
       " 'bebbeekamoo': <gensim.models.keyedvectors.Vocab at 0x7f8e6713d090>,\n",
       " 'hayyuu': <gensim.models.keyedvectors.Vocab at 0x7f8e6713d510>,\n",
       " 'siyaasaa': <gensim.models.keyedvectors.Vocab at 0x7f8e6713d610>,\n",
       " 'yerotti': <gensim.models.keyedvectors.Vocab at 0x7f8e6713da10>,\n",
       " 'affeeruu': <gensim.models.keyedvectors.Vocab at 0x7f8e6713dc10>,\n",
       " 'ummani': <gensim.models.keyedvectors.Vocab at 0x7f8e57b14e10>,\n",
       " 'waligalaan': <gensim.models.keyedvectors.Vocab at 0x7f8e57b14850>,\n",
       " 'fuulduratti': <gensim.models.keyedvectors.Vocab at 0x7f8e57b14950>,\n",
       " 'wani': <gensim.models.keyedvectors.Vocab at 0x7f8e57b148d0>,\n",
       " 'filannoo': <gensim.models.keyedvectors.Vocab at 0x7f8e57b14f50>,\n",
       " 'jirru': <gensim.models.keyedvectors.Vocab at 0x7f8e57b142d0>,\n",
       " 'ijollen': <gensim.models.keyedvectors.Vocab at 0x7f8e57b14590>,\n",
       " 'badhadhina': <gensim.models.keyedvectors.Vocab at 0x7f8e57b14750>,\n",
       " 'dhitaa': <gensim.models.keyedvectors.Vocab at 0x7f8e57b14790>,\n",
       " 'me': <gensim.models.keyedvectors.Vocab at 0x7f8e57b14490>,\n",
       " 'hima': <gensim.models.keyedvectors.Vocab at 0x7f8e57b14190>,\n",
       " 'wobon': <gensim.models.keyedvectors.Vocab at 0x7f8e57b14310>,\n",
       " 'essa': <gensim.models.keyedvectors.Vocab at 0x7f8e57af71d0>,\n",
       " 'gahe': <gensim.models.keyedvectors.Vocab at 0x7f8e57af74d0>,\n",
       " 'obbaleyaan': <gensim.models.keyedvectors.Vocab at 0x7f8e57af7750>,\n",
       " 'islamaaa': <gensim.models.keyedvectors.Vocab at 0x7f8e57af7810>,\n",
       " 'amantaa': <gensim.models.keyedvectors.Vocab at 0x7f8e57af7b90>,\n",
       " 'kessaanif': <gensim.models.keyedvectors.Vocab at 0x7f8e57af7c10>,\n",
       " 'dhimaamaa': <gensim.models.keyedvectors.Vocab at 0x7f8e57b11050>,\n",
       " 'cinqmaa': <gensim.models.keyedvectors.Vocab at 0x7f8e57b11cd0>,\n",
       " 'amantaatti': <gensim.models.keyedvectors.Vocab at 0x7f8e57b11750>,\n",
       " 'demnu': <gensim.models.keyedvectors.Vocab at 0x7f8e57b11b50>,\n",
       " 'wanta': <gensim.models.keyedvectors.Vocab at 0x7f8e57b11510>,\n",
       " 'dhiisani': <gensim.models.keyedvectors.Vocab at 0x7f8e57b11190>,\n",
       " 'waligalite': <gensim.models.keyedvectors.Vocab at 0x7f8e57b164d0>,\n",
       " 'uumun': <gensim.models.keyedvectors.Vocab at 0x7f8e57b16590>,\n",
       " 'barbaachisadha': <gensim.models.keyedvectors.Vocab at 0x7f8e57b16750>,\n",
       " 'jajjabaadhaa': <gensim.models.keyedvectors.Vocab at 0x7f8e57b16910>,\n",
       " 'tahaa': <gensim.models.keyedvectors.Vocab at 0x7f8e57b16a50>,\n",
       " 'jabeessaa': <gensim.models.keyedvectors.Vocab at 0x7f8e57b16ed0>,\n",
       " 'jiirtuuuu': <gensim.models.keyedvectors.Vocab at 0x7f8e57af8090>,\n",
       " 'jabeessa': <gensim.models.keyedvectors.Vocab at 0x7f8e57af8250>,\n",
       " 'wanii': <gensim.models.keyedvectors.Vocab at 0x7f8e57af86d0>,\n",
       " 'durani': <gensim.models.keyedvectors.Vocab at 0x7f8e57af87d0>,\n",
       " 'dubachuu': <gensim.models.keyedvectors.Vocab at 0x7f8e57af89d0>,\n",
       " 'qabdanii': <gensim.models.keyedvectors.Vocab at 0x7f8e57af8b10>,\n",
       " 'dubatini': <gensim.models.keyedvectors.Vocab at 0x7f8e57af8b90>,\n",
       " 'tuffatamera': <gensim.models.keyedvectors.Vocab at 0x7f8e57af8e50>,\n",
       " 'dhuga': <gensim.models.keyedvectors.Vocab at 0x7f8e57b17190>,\n",
       " 'kaaa': <gensim.models.keyedvectors.Vocab at 0x7f8e57b172d0>,\n",
       " 'tokkuman': <gensim.models.keyedvectors.Vocab at 0x7f8e57b17390>,\n",
       " 'loluu': <gensim.models.keyedvectors.Vocab at 0x7f8e57b175d0>,\n",
       " 'maaliif': <gensim.models.keyedvectors.Vocab at 0x7f8e57b17610>,\n",
       " 'haasawuun': <gensim.models.keyedvectors.Vocab at 0x7f8e57b177d0>,\n",
       " 'barbaachise': <gensim.models.keyedvectors.Vocab at 0x7f8e57b17990>,\n",
       " 'mariin': <gensim.models.keyedvectors.Vocab at 0x7f8e57b17f10>,\n",
       " 'tamaaliiti': <gensim.models.keyedvectors.Vocab at 0x7f8e57b17e90>,\n",
       " 'hinqaanfattanii': <gensim.models.keyedvectors.Vocab at 0x7f8e57b12150>,\n",
       " 'eenyu': <gensim.models.keyedvectors.Vocab at 0x7f8e57b12550>,\n",
       " 'isindhagaha': <gensim.models.keyedvectors.Vocab at 0x7f8e57b12710>,\n",
       " 'mariifii': <gensim.models.keyedvectors.Vocab at 0x7f8e57b12790>,\n",
       " 'manguddummaan': <gensim.models.keyedvectors.Vocab at 0x7f8e57b12750>,\n",
       " 'oromoodhaaf': <gensim.models.keyedvectors.Vocab at 0x7f8e57b12890>,\n",
       " 'humaa': <gensim.models.keyedvectors.Vocab at 0x7f8e57b128d0>,\n",
       " 'buufne': <gensim.models.keyedvectors.Vocab at 0x7f8e57b12910>,\n",
       " 'seenaarraa': <gensim.models.keyedvectors.Vocab at 0x7f8e57b12990>,\n",
       " 'yoobarattan': <gensim.models.keyedvectors.Vocab at 0x7f8e57b12ad0>,\n",
       " 'tahe': <gensim.models.keyedvectors.Vocab at 0x7f8e57b12d10>,\n",
       " 'dubbachuun': <gensim.models.keyedvectors.Vocab at 0x7f8e57b12dd0>,\n",
       " 'osuma': <gensim.models.keyedvectors.Vocab at 0x7f8e57b12fd0>,\n",
       " 'shamarran': <gensim.models.keyedvectors.Vocab at 0x7f8e57afb2d0>,\n",
       " 'islaamaa': <gensim.models.keyedvectors.Vocab at 0x7f8e57afb590>,\n",
       " 'rifeensa': <gensim.models.keyedvectors.Vocab at 0x7f8e57afb650>,\n",
       " 'qullaa': <gensim.models.keyedvectors.Vocab at 0x7f8e57afb710>,\n",
       " 'media': <gensim.models.keyedvectors.Vocab at 0x7f8e57afb790>,\n",
       " 'baati': <gensim.models.keyedvectors.Vocab at 0x7f8e57afb7d0>,\n",
       " 'namoonni': <gensim.models.keyedvectors.Vocab at 0x7f8e57afb8d0>,\n",
       " 'mallattoo': <gensim.models.keyedvectors.Vocab at 0x7f8e57afbc50>,\n",
       " 'garaagaraa': <gensim.models.keyedvectors.Vocab at 0x7f8e57afbdd0>,\n",
       " 'fayyadamtan': <gensim.models.keyedvectors.Vocab at 0x7f8e57b00150>,\n",
       " 'dhiisaa': <gensim.models.keyedvectors.Vocab at 0x7f8e57b00350>,\n",
       " 'kennaa': <gensim.models.keyedvectors.Vocab at 0x7f8e57b00210>,\n",
       " 'hayyoni': <gensim.models.keyedvectors.Vocab at 0x7f8e57b00610>,\n",
       " 'xiyyefano': <gensim.models.keyedvectors.Vocab at 0x7f8e57b00850>,\n",
       " 'tokkon': <gensim.models.keyedvectors.Vocab at 0x7f8e57b00a10>,\n",
       " 'demamee': <gensim.models.keyedvectors.Vocab at 0x7f8e57b00d90>,\n",
       " 'furumata': <gensim.models.keyedvectors.Vocab at 0x7f8e57b00dd0>,\n",
       " 'kanaf': <gensim.models.keyedvectors.Vocab at 0x7f8e57b06050>,\n",
       " 'fidu': <gensim.models.keyedvectors.Vocab at 0x7f8e57b06390>,\n",
       " 'dandaama': <gensim.models.keyedvectors.Vocab at 0x7f8e57b066d0>,\n",
       " 'humaan': <gensim.models.keyedvectors.Vocab at 0x7f8e57b06810>,\n",
       " 'qabuu': <gensim.models.keyedvectors.Vocab at 0x7f8e57b06750>,\n",
       " 'addunyaat': <gensim.models.keyedvectors.Vocab at 0x7f8e57b06790>,\n",
       " 'agarsiifnee': <gensim.models.keyedvectors.Vocab at 0x7f8e57b06a50>,\n",
       " 'qawween': <gensim.models.keyedvectors.Vocab at 0x7f8e57b06a10>,\n",
       " 'rakkon': <gensim.models.keyedvectors.Vocab at 0x7f8e57b06a90>,\n",
       " 'hidhachu': <gensim.models.keyedvectors.Vocab at 0x7f8e57b06c50>,\n",
       " 'qbana': <gensim.models.keyedvectors.Vocab at 0x7f8e57b06b50>,\n",
       " 'daakuun': <gensim.models.keyedvectors.Vocab at 0x7f8e57b06bd0>,\n",
       " 'barbaadde': <gensim.models.keyedvectors.Vocab at 0x7f8e57b06dd0>,\n",
       " 'bubbeetti': <gensim.models.keyedvectors.Vocab at 0x7f8e57b06e10>,\n",
       " 'michiti': <gensim.models.keyedvectors.Vocab at 0x7f8e57b1a050>,\n",
       " 'rakko': <gensim.models.keyedvectors.Vocab at 0x7f8e57b1a4d0>,\n",
       " 'umtani': <gensim.models.keyedvectors.Vocab at 0x7f8e57b1a550>,\n",
       " 'himattan': <gensim.models.keyedvectors.Vocab at 0x7f8e57b1a690>,\n",
       " 'rakkoon': <gensim.models.keyedvectors.Vocab at 0x7f8e57b1aed0>,\n",
       " 'ammaaf': <gensim.models.keyedvectors.Vocab at 0x7f8e57b1add0>,\n",
       " 'jiiru': <gensim.models.keyedvectors.Vocab at 0x7f8e57b1a250>,\n",
       " 'motumma': <gensim.models.keyedvectors.Vocab at 0x7f8e57b1ac90>,\n",
       " 'addunyaa': <gensim.models.keyedvectors.Vocab at 0x7f8e57b1a310>,\n",
       " 'fii': <gensim.models.keyedvectors.Vocab at 0x7f8e57b1a450>,\n",
       " 'oroomiyaa': <gensim.models.keyedvectors.Vocab at 0x7f8e57b19090>,\n",
       " 'dhimma': <gensim.models.keyedvectors.Vocab at 0x7f8e57b19250>,\n",
       " 'hinqabu': <gensim.models.keyedvectors.Vocab at 0x7f8e57b19190>,\n",
       " 'itoophiya': <gensim.models.keyedvectors.Vocab at 0x7f8e57b191d0>,\n",
       " 'bilisomsuu': <gensim.models.keyedvectors.Vocab at 0x7f8e57b19210>,\n",
       " 'barbaddan': <gensim.models.keyedvectors.Vocab at 0x7f8e57b19390>,\n",
       " 'kaan': <gensim.models.keyedvectors.Vocab at 0x7f8e57b19810>,\n",
       " 'hinqabdanif': <gensim.models.keyedvectors.Vocab at 0x7f8e57b19a50>,\n",
       " 'sababni': <gensim.models.keyedvectors.Vocab at 0x7f8e57b19ad0>,\n",
       " 'addunyaan': <gensim.models.keyedvectors.Vocab at 0x7f8e57b19c10>,\n",
       " 'dhageeffachuu': <gensim.models.keyedvectors.Vocab at 0x7f8e57b19d90>,\n",
       " 'dhabeef': <gensim.models.keyedvectors.Vocab at 0x7f8e57b19e50>,\n",
       " 'mataansaa': <gensim.models.keyedvectors.Vocab at 0x7f8e57b19fd0>,\n",
       " 'dhageeffatee': <gensim.models.keyedvectors.Vocab at 0x7f8e57b1e250>,\n",
       " 'kaayyoo': <gensim.models.keyedvectors.Vocab at 0x7f8e57b1e990>,\n",
       " 'tokkorratti': <gensim.models.keyedvectors.Vocab at 0x7f8e57b1ebd0>,\n",
       " 'dadhabeefi': <gensim.models.keyedvectors.Vocab at 0x7f8e57b1e0d0>,\n",
       " 'yoomiyu': <gensim.models.keyedvectors.Vocab at 0x7f8e57b1e290>,\n",
       " 'itoophiyuma': <gensim.models.keyedvectors.Vocab at 0x7f8e57b1edd0>,\n",
       " 'oromumaa': <gensim.models.keyedvectors.Vocab at 0x7f8e57b1ec90>,\n",
       " 'dursa': <gensim.models.keyedvectors.Vocab at 0x7f8e57b1e150>,\n",
       " 'sababiin': <gensim.models.keyedvectors.Vocab at 0x7f8e57b1ed90>,\n",
       " 'dhagauu': <gensim.models.keyedvectors.Vocab at 0x7f8e57b1ee10>,\n",
       " 'dadhabdeef': <gensim.models.keyedvectors.Vocab at 0x7f8e57b1e810>,\n",
       " 'beeka': <gensim.models.keyedvectors.Vocab at 0x7f8e57b1e490>,\n",
       " 'qabu': <gensim.models.keyedvectors.Vocab at 0x7f8e57b1e690>,\n",
       " 'rabbi': <gensim.models.keyedvectors.Vocab at 0x7f8e57b1e450>,\n",
       " 'fidi': <gensim.models.keyedvectors.Vocab at 0x7f8e57b1c050>,\n",
       " 'waanin': <gensim.models.keyedvectors.Vocab at 0x7f8e57b1c110>,\n",
       " 'nudhibee': <gensim.models.keyedvectors.Vocab at 0x7f8e57b1c210>,\n",
       " 'kanuu': <gensim.models.keyedvectors.Vocab at 0x7f8e57b1c390>,\n",
       " 'tiluufi': <gensim.models.keyedvectors.Vocab at 0x7f8e57b1c510>,\n",
       " 'lolu': <gensim.models.keyedvectors.Vocab at 0x7f8e57b1ca50>,\n",
       " 'addaan': <gensim.models.keyedvectors.Vocab at 0x7f8e57b1cc10>,\n",
       " 'wallaalle': <gensim.models.keyedvectors.Vocab at 0x7f8e57b1cb50>,\n",
       " 'yaaa': <gensim.models.keyedvectors.Vocab at 0x7f8e57b1cdd0>,\n",
       " 'rabii': <gensim.models.keyedvectors.Vocab at 0x7f8e57b1cf50>,\n",
       " 'tokummaa': <gensim.models.keyedvectors.Vocab at 0x7f8e57af9110>,\n",
       " 'jabessii': <gensim.models.keyedvectors.Vocab at 0x7f8e57af9150>,\n",
       " 'dhagahuu': <gensim.models.keyedvectors.Vocab at 0x7f8e57af9310>,\n",
       " 'diddee': <gensim.models.keyedvectors.Vocab at 0x7f8e57af9490>,\n",
       " 'nafxanyaan': <gensim.models.keyedvectors.Vocab at 0x7f8e57af9610>,\n",
       " 'butee': <gensim.models.keyedvectors.Vocab at 0x7f8e57af9650>,\n",
       " 'masaraa': <gensim.models.keyedvectors.Vocab at 0x7f8e57af9810>,\n",
       " 'galte': <gensim.models.keyedvectors.Vocab at 0x7f8e57af9990>,\n",
       " 'waalif': <gensim.models.keyedvectors.Vocab at 0x7f8e57af9cd0>,\n",
       " 'obsuun': <gensim.models.keyedvectors.Vocab at 0x7f8e57af9e10>,\n",
       " 'dadhabame': <gensim.models.keyedvectors.Vocab at 0x7f8e57afd090>,\n",
       " 'walirati': <gensim.models.keyedvectors.Vocab at 0x7f8e57afd1d0>,\n",
       " 'qabsofnaa': <gensim.models.keyedvectors.Vocab at 0x7f8e57afd410>,\n",
       " 'milkesu': <gensim.models.keyedvectors.Vocab at 0x7f8e57afd710>,\n",
       " 'hatii': <gensim.models.keyedvectors.Vocab at 0x7f8e57afd810>,\n",
       " 'dhuumanif': <gensim.models.keyedvectors.Vocab at 0x7f8e57afda50>,\n",
       " 'qofaa': <gensim.models.keyedvectors.Vocab at 0x7f8e57afdc10>,\n",
       " 'osso': <gensim.models.keyedvectors.Vocab at 0x7f8e57afdc90>,\n",
       " 'lubbu': <gensim.models.keyedvectors.Vocab at 0x7f8e57afdd50>,\n",
       " 'jiiraanifis': <gensim.models.keyedvectors.Vocab at 0x7f8e57afdf90>,\n",
       " 'booaa': <gensim.models.keyedvectors.Vocab at 0x7f8e57b08590>,\n",
       " 'jiirti': <gensim.models.keyedvectors.Vocab at 0x7f8e57b08b50>,\n",
       " 'dhignii': <gensim.models.keyedvectors.Vocab at 0x7f8e57b08ad0>,\n",
       " 'jabba': <gensim.models.keyedvectors.Vocab at 0x7f8e57b08b10>,\n",
       " 'xiqaa': <gensim.models.keyedvectors.Vocab at 0x7f8e57b08d90>,\n",
       " 'ganaa': <gensim.models.keyedvectors.Vocab at 0x7f8e57b08dd0>,\n",
       " 'galanna': <gensim.models.keyedvectors.Vocab at 0x7f8e57b08f90>,\n",
       " 'taee': <gensim.models.keyedvectors.Vocab at 0x7f8e57b0a290>,\n",
       " 'nyataa': <gensim.models.keyedvectors.Vocab at 0x7f8e57b0a590>,\n",
       " 'lafeen': <gensim.models.keyedvectors.Vocab at 0x7f8e57b0a750>,\n",
       " 'cubbun': <gensim.models.keyedvectors.Vocab at 0x7f8e57b0aa90>,\n",
       " 'ajefamani': <gensim.models.keyedvectors.Vocab at 0x7f8e57b0af50>,\n",
       " 'eeboo': <gensim.models.keyedvectors.Vocab at 0x7f8e57b03250>,\n",
       " 'waranna': <gensim.models.keyedvectors.Vocab at 0x7f8e57b03450>,\n",
       " 'mitte': <gensim.models.keyedvectors.Vocab at 0x7f8e57b033d0>,\n",
       " 'salphinna': <gensim.models.keyedvectors.Vocab at 0x7f8e57b034d0>,\n",
       " 'bahuuf': <gensim.models.keyedvectors.Vocab at 0x7f8e57b03ad0>,\n",
       " 'itoophiyaa': <gensim.models.keyedvectors.Vocab at 0x7f8e57b03d10>,\n",
       " 'immiyyee': <gensim.models.keyedvectors.Vocab at 0x7f8e57b03d90>,\n",
       " 'mancasee': <gensim.models.keyedvectors.Vocab at 0x7f8e57b03dd0>,\n",
       " 'oromiyaa': <gensim.models.keyedvectors.Vocab at 0x7f8e57b03f50>,\n",
       " 'dhuunfachuu': <gensim.models.keyedvectors.Vocab at 0x7f8e57b0f410>,\n",
       " 'daaimni': <gensim.models.keyedvectors.Vocab at 0x7f8e57b0f590>,\n",
       " 'takka': <gensim.models.keyedvectors.Vocab at 0x7f8e57b0f9d0>,\n",
       " 'dhibamtee': <gensim.models.keyedvectors.Vocab at 0x7f8e57b0fb50>,\n",
       " 'duute': <gensim.models.keyedvectors.Vocab at 0x7f8e57b0fcd0>,\n",
       " 'hammam': <gensim.models.keyedvectors.Vocab at 0x7f8e57b0ff10>,\n",
       " 'gubdi': <gensim.models.keyedvectors.Vocab at 0x7f8e57b1b250>,\n",
       " 'abiyyiin': <gensim.models.keyedvectors.Vocab at 0x7f8e57b1b390>,\n",
       " 'ijoollee': <gensim.models.keyedvectors.Vocab at 0x7f8e57b1b410>,\n",
       " 'miskiina': <gensim.models.keyedvectors.Vocab at 0x7f8e57b1b750>,\n",
       " 'haadha': <gensim.models.keyedvectors.Vocab at 0x7f8e57b1b810>,\n",
       " 'guuree': <gensim.models.keyedvectors.Vocab at 0x7f8e57b1b850>,\n",
       " 'rasaasaaf': <gensim.models.keyedvectors.Vocab at 0x7f8e57b1bad0>,\n",
       " 'gumaachaa': <gensim.models.keyedvectors.Vocab at 0x7f8e57b1bc90>,\n",
       " 'jaalanee': <gensim.models.keyedvectors.Vocab at 0x7f8e57b1bf90>,\n",
       " 'jibinee': <gensim.models.keyedvectors.Vocab at 0x7f8e57b1bf10>,\n",
       " 'nageenyi': <gensim.models.keyedvectors.Vocab at 0x7f8e57aed050>,\n",
       " 'sanii': <gensim.models.keyedvectors.Vocab at 0x7f8e57aed490>,\n",
       " 'gurmuu': <gensim.models.keyedvectors.Vocab at 0x7f8e57aed6d0>,\n",
       " 'kufeera': <gensim.models.keyedvectors.Vocab at 0x7f8e57aed910>,\n",
       " 'baayina': <gensim.models.keyedvectors.Vocab at 0x7f8e57aed8d0>,\n",
       " 'dachii': <gensim.models.keyedvectors.Vocab at 0x7f8e57aed990>,\n",
       " 'qabnuuf': <gensim.models.keyedvectors.Vocab at 0x7f8e57aedb50>,\n",
       " 'nagaya': <gensim.models.keyedvectors.Vocab at 0x7f8e57aedb10>,\n",
       " 'tuanne': <gensim.models.keyedvectors.Vocab at 0x7f8e57aedd50>,\n",
       " 'tasgabeesu': <gensim.models.keyedvectors.Vocab at 0x7f8e57aede90>,\n",
       " 'dhabuun': <gensim.models.keyedvectors.Vocab at 0x7f8e57ae7050>,\n",
       " 'gowwa': <gensim.models.keyedvectors.Vocab at 0x7f8e57ae7150>,\n",
       " 'nufakeese': <gensim.models.keyedvectors.Vocab at 0x7f8e57ae7250>,\n",
       " 'kaasayee': <gensim.models.keyedvectors.Vocab at 0x7f8e57ae7310>,\n",
       " 'kaasi': <gensim.models.keyedvectors.Vocab at 0x7f8e57ae7390>,\n",
       " 'nafxanyadha': <gensim.models.keyedvectors.Vocab at 0x7f8e57ae75d0>,\n",
       " 'mootummaan': <gensim.models.keyedvectors.Vocab at 0x7f8e57ae7750>,\n",
       " 'ajjeesaa': <gensim.models.keyedvectors.Vocab at 0x7f8e57ae77d0>,\n",
       " 'hidhaa': <gensim.models.keyedvectors.Vocab at 0x7f8e57ae7bd0>,\n",
       " 'buqqisaa': <gensim.models.keyedvectors.Vocab at 0x7f8e57ae7c90>,\n",
       " 'qabeenya': <gensim.models.keyedvectors.Vocab at 0x7f8e57af2290>,\n",
       " 'saamaa': <gensim.models.keyedvectors.Vocab at 0x7f8e57af2310>,\n",
       " 'jennee': <gensim.models.keyedvectors.Vocab at 0x7f8e57af2450>,\n",
       " 'gaafa': <gensim.models.keyedvectors.Vocab at 0x7f8e57af29d0>,\n",
       " 'iyyaa': <gensim.models.keyedvectors.Vocab at 0x7f8e57af2990>,\n",
       " 'turee': <gensim.models.keyedvectors.Vocab at 0x7f8e57af2b50>,\n",
       " 'ammas': <gensim.models.keyedvectors.Vocab at 0x7f8e57af2c10>,\n",
       " 'akkasuma': <gensim.models.keyedvectors.Vocab at 0x7f8e57af2dd0>,\n",
       " 'mottuman': <gensim.models.keyedvectors.Vocab at 0x7f8e57af2d50>,\n",
       " 'ilmani': <gensim.models.keyedvectors.Vocab at 0x7f8e57af2fd0>,\n",
       " 'oromo': <gensim.models.keyedvectors.Vocab at 0x7f8e57af6250>,\n",
       " 'has': <gensim.models.keyedvectors.Vocab at 0x7f8e57af6450>,\n",
       " 'basuu': <gensim.models.keyedvectors.Vocab at 0x7f8e57af6390>,\n",
       " 'dhamaa': <gensim.models.keyedvectors.Vocab at 0x7f8e57af65d0>,\n",
       " 'goona': <gensim.models.keyedvectors.Vocab at 0x7f8e57af66d0>,\n",
       " 'jedhe': <gensim.models.keyedvectors.Vocab at 0x7f8e57af6710>,\n",
       " 'deemaa': <gensim.models.keyedvectors.Vocab at 0x7f8e57af67d0>,\n",
       " 'aas': <gensim.models.keyedvectors.Vocab at 0x7f8e57af6790>,\n",
       " 'jarjarinaa': <gensim.models.keyedvectors.Vocab at 0x7f8e57af68d0>,\n",
       " 'sutaa': <gensim.models.keyedvectors.Vocab at 0x7f8e57af6a10>,\n",
       " 'jedhaa': <gensim.models.keyedvectors.Vocab at 0x7f8e57af6a90>,\n",
       " 'ijolle': <gensim.models.keyedvectors.Vocab at 0x7f8e57af6cd0>,\n",
       " 'tatanii': <gensim.models.keyedvectors.Vocab at 0x7f8e57af6e90>,\n",
       " 'post': <gensim.models.keyedvectors.Vocab at 0x7f8e57af6ed0>,\n",
       " 'godhinaa': <gensim.models.keyedvectors.Vocab at 0x7f8e57b101d0>,\n",
       " 'wayyo': <gensim.models.keyedvectors.Vocab at 0x7f8e57b10450>,\n",
       " 'caba': <gensim.models.keyedvectors.Vocab at 0x7f8e57b105d0>,\n",
       " 'bulle': <gensim.models.keyedvectors.Vocab at 0x7f8e57b10690>,\n",
       " 'woyyaaneettin': <gensim.models.keyedvectors.Vocab at 0x7f8e57b10810>,\n",
       " 'yowana': <gensim.models.keyedvectors.Vocab at 0x7f8e57b10950>,\n",
       " 'kufaatii': <gensim.models.keyedvectors.Vocab at 0x7f8e57b10a90>,\n",
       " 'faarsitan': <gensim.models.keyedvectors.Vocab at 0x7f8e57b10fd0>,\n",
       " 'kuftanii': <gensim.models.keyedvectors.Vocab at 0x7f8e57a7f050>,\n",
       " 'kufisuuf': <gensim.models.keyedvectors.Vocab at 0x7f8e57a7f0d0>,\n",
       " 'wayyanetti': <gensim.models.keyedvectors.Vocab at 0x7f8e57a7f150>,\n",
       " 'galtan': <gensim.models.keyedvectors.Vocab at 0x7f8e57a7f350>,\n",
       " 'ummataa': <gensim.models.keyedvectors.Vocab at 0x7f8e57a7f410>,\n",
       " 'fixa': <gensim.models.keyedvectors.Vocab at 0x7f8e57a7f6d0>,\n",
       " 'ajaaibdu': <gensim.models.keyedvectors.Vocab at 0x7f8e57a7f910>,\n",
       " 'hawwiin': <gensim.models.keyedvectors.Vocab at 0x7f8e57a7f9d0>,\n",
       " 'dhorkaamu': <gensim.models.keyedvectors.Vocab at 0x7f8e57a7fa50>,\n",
       " 'fudhaa': <gensim.models.keyedvectors.Vocab at 0x7f8e57a7fb90>,\n",
       " 'amerikaatti': <gensim.models.keyedvectors.Vocab at 0x7f8e57a7fdd0>,\n",
       " 'achii': <gensim.models.keyedvectors.Vocab at 0x7f8e57a7ff90>,\n",
       " 'sinii': <gensim.models.keyedvectors.Vocab at 0x7f8e57a762d0>,\n",
       " 'woliin': <gensim.models.keyedvectors.Vocab at 0x7f8e57a76410>,\n",
       " 'sobduu': <gensim.models.keyedvectors.Vocab at 0x7f8e57a76450>,\n",
       " 'daaraa': <gensim.models.keyedvectors.Vocab at 0x7f8e57a76550>,\n",
       " 'snihiman': <gensim.models.keyedvectors.Vocab at 0x7f8e57a76690>,\n",
       " 'siniif': <gensim.models.keyedvectors.Vocab at 0x7f8e57a76910>,\n",
       " 'gala': <gensim.models.keyedvectors.Vocab at 0x7f8e57a76a90>,\n",
       " 'siidaa': <gensim.models.keyedvectors.Vocab at 0x7f8e57a76a10>,\n",
       " 'mililik': <gensim.models.keyedvectors.Vocab at 0x7f8e57a76c90>,\n",
       " 'jaari': <gensim.models.keyedvectors.Vocab at 0x7f8e57a76c50>,\n",
       " 'jenaan': <gensim.models.keyedvectors.Vocab at 0x7f8e57a76d10>,\n",
       " 'harkumaatti': <gensim.models.keyedvectors.Vocab at 0x7f8e57a78090>,\n",
       " 'soddo': <gensim.models.keyedvectors.Vocab at 0x7f8e57a780d0>,\n",
       " 'ijaaref': <gensim.models.keyedvectors.Vocab at 0x7f8e57a78490>,\n",
       " 'jawaar': <gensim.models.keyedvectors.Vocab at 0x7f8e57a785d0>,\n",
       " 'hidhii': <gensim.models.keyedvectors.Vocab at 0x7f8e57a78890>,\n",
       " 'soddoo': <gensim.models.keyedvectors.Vocab at 0x7f8e57a78a50>,\n",
       " 'hidheef': <gensim.models.keyedvectors.Vocab at 0x7f8e57a78dd0>,\n",
       " 'yootahe': <gensim.models.keyedvectors.Vocab at 0x7f8e57a922d0>,\n",
       " 'qabddee': <gensim.models.keyedvectors.Vocab at 0x7f8e57a92450>,\n",
       " 'dhiifttu': <gensim.models.keyedvectors.Vocab at 0x7f8e57a92590>,\n",
       " 'wollaalte': <gensim.models.keyedvectors.Vocab at 0x7f8e57a92610>,\n",
       " 'umataa': <gensim.models.keyedvectors.Vocab at 0x7f8e57a92750>,\n",
       " 'soban': <gensim.models.keyedvectors.Vocab at 0x7f8e57a92790>,\n",
       " 'gutamtee': <gensim.models.keyedvectors.Vocab at 0x7f8e57a92a10>,\n",
       " 'rabin': <gensim.models.keyedvectors.Vocab at 0x7f8e57a927d0>,\n",
       " 'haqajelchuu': <gensim.models.keyedvectors.Vocab at 0x7f8e57a92c10>,\n",
       " 'kuffatii': <gensim.models.keyedvectors.Vocab at 0x7f8e57a92f90>,\n",
       " 'bilxigina': <gensim.models.keyedvectors.Vocab at 0x7f8e57a8e390>,\n",
       " 'bilxiginnaa': <gensim.models.keyedvectors.Vocab at 0x7f8e57a8e510>,\n",
       " 'akkanatti': <gensim.models.keyedvectors.Vocab at 0x7f8e57a8ea90>,\n",
       " 'barreffama': <gensim.models.keyedvectors.Vocab at 0x7f8e57a8eb10>,\n",
       " 'afaan': <gensim.models.keyedvectors.Vocab at 0x7f8e57a8ee90>,\n",
       " 'baraa': <gensim.models.keyedvectors.Vocab at 0x7f8e57a8ed90>,\n",
       " 'tigiriffa': <gensim.models.keyedvectors.Vocab at 0x7f8e57a91110>,\n",
       " 'dandeessuu': <gensim.models.keyedvectors.Vocab at 0x7f8e57a91290>,\n",
       " 'ergamtu': <gensim.models.keyedvectors.Vocab at 0x7f8e57a914d0>,\n",
       " 'nafxenyati': <gensim.models.keyedvectors.Vocab at 0x7f8e57a91590>,\n",
       " 'sidaa': <gensim.models.keyedvectors.Vocab at 0x7f8e57a91690>,\n",
       " 'yaate': <gensim.models.keyedvectors.Vocab at 0x7f8e57a917d0>,\n",
       " 'wacxii': <gensim.models.keyedvectors.Vocab at 0x7f8e57a91ad0>,\n",
       " 'mali': <gensim.models.keyedvectors.Vocab at 0x7f8e57a91b10>,\n",
       " 'godhaa': <gensim.models.keyedvectors.Vocab at 0x7f8e57a91b90>,\n",
       " 'motumman': <gensim.models.keyedvectors.Vocab at 0x7f8e57a9a290>,\n",
       " 'gurraa': <gensim.models.keyedvectors.Vocab at 0x7f8e57a9a3d0>,\n",
       " 'kenu': <gensim.models.keyedvectors.Vocab at 0x7f8e57a9a710>,\n",
       " 'oduu': <gensim.models.keyedvectors.Vocab at 0x7f8e57a9aa10>,\n",
       " 'amaa': <gensim.models.keyedvectors.Vocab at 0x7f8e57a9a950>,\n",
       " 'dhaqabee': <gensim.models.keyedvectors.Vocab at 0x7f8e57a9abd0>,\n",
       " 'rigaa': <gensim.models.keyedvectors.Vocab at 0x7f8e57a9ab90>,\n",
       " 'kasala': <gensim.models.keyedvectors.Vocab at 0x7f8e57a9ae10>,\n",
       " 'biyaa': <gensim.models.keyedvectors.Vocab at 0x7f8e57a9add0>,\n",
       " 'bahuf': <gensim.models.keyedvectors.Vocab at 0x7f8e57a893d0>,\n",
       " 'bolee': <gensim.models.keyedvectors.Vocab at 0x7f8e57a895d0>,\n",
       " 'ergaa': <gensim.models.keyedvectors.Vocab at 0x7f8e57a897d0>,\n",
       " 'senee': <gensim.models.keyedvectors.Vocab at 0x7f8e57a89910>,\n",
       " 'qabamee': <gensim.models.keyedvectors.Vocab at 0x7f8e57a89810>,\n",
       " 'debifama': <gensim.models.keyedvectors.Vocab at 0x7f8e57a89950>,\n",
       " 'bayee': <gensim.models.keyedvectors.Vocab at 0x7f8e57a899d0>,\n",
       " 'gadisisaa': <gensim.models.keyedvectors.Vocab at 0x7f8e57a89a90>,\n",
       " 'feete': <gensim.models.keyedvectors.Vocab at 0x7f8e57a89d10>,\n",
       " 'diigamtu': <gensim.models.keyedvectors.Vocab at 0x7f8e57a89d90>,\n",
       " 'akkan': <gensim.models.keyedvectors.Vocab at 0x7f8e57a89f50>,\n",
       " 'diigamne': <gensim.models.keyedvectors.Vocab at 0x7f8e57a8d910>,\n",
       " 'ooluun': <gensim.models.keyedvectors.Vocab at 0x7f8e57a8d650>,\n",
       " 'buaan': <gensim.models.keyedvectors.Vocab at 0x7f8e57a8d610>,\n",
       " 'diigamtii': <gensim.models.keyedvectors.Vocab at 0x7f8e57a8d490>,\n",
       " 'abadan': <gensim.models.keyedvectors.Vocab at 0x7f8e57a8d310>,\n",
       " 'milkaauu': <gensim.models.keyedvectors.Vocab at 0x7f8e57a8d150>,\n",
       " 'wayyaaneef': <gensim.models.keyedvectors.Vocab at 0x7f8e57a8f950>,\n",
       " 'milkaaee': <gensim.models.keyedvectors.Vocab at 0x7f8e57a8f8d0>,\n",
       " 'jalqaba': <gensim.models.keyedvectors.Vocab at 0x7f8e57a8f850>,\n",
       " 'shanee': <gensim.models.keyedvectors.Vocab at 0x7f8e57a8fc50>,\n",
       " 'boolla': <gensim.models.keyedvectors.Vocab at 0x7f8e57a8fe50>,\n",
       " 'awwaalti': <gensim.models.keyedvectors.Vocab at 0x7f8e57a8fd50>,\n",
       " 'salphattoota': <gensim.models.keyedvectors.Vocab at 0x7f8e57a8fc10>,\n",
       " 'balaa': <gensim.models.keyedvectors.Vocab at 0x7f8e57a8f9d0>,\n",
       " 'gaanfaa': <gensim.models.keyedvectors.Vocab at 0x7f8e57a8f750>,\n",
       " 'afrikaati': <gensim.models.keyedvectors.Vocab at 0x7f8e57a8f5d0>,\n",
       " 'bicuu': <gensim.models.keyedvectors.Vocab at 0x7f8e57a8f790>,\n",
       " 'juntaaf': <gensim.models.keyedvectors.Vocab at 0x7f8e57a93110>,\n",
       " 'gugguuftuu': <gensim.models.keyedvectors.Vocab at 0x7f8e57a93f10>,\n",
       " 'salphoo': <gensim.models.keyedvectors.Vocab at 0x7f8e57a93d90>,\n",
       " 'ilimii': <gensim.models.keyedvectors.Vocab at 0x7f8e57a93e90>,\n",
       " 'hangaan': <gensim.models.keyedvectors.Vocab at 0x7f8e57a93f90>,\n",
       " 'jaraa': <gensim.models.keyedvectors.Vocab at 0x7f8e57a93b10>,\n",
       " 'durattiif': <gensim.models.keyedvectors.Vocab at 0x7f8e57a93a10>,\n",
       " 'dhagesisee': <gensim.models.keyedvectors.Vocab at 0x7f8e57a93a50>,\n",
       " 'yonaa': <gensim.models.keyedvectors.Vocab at 0x7f8e57a936d0>,\n",
       " 'manaa': <gensim.models.keyedvectors.Vocab at 0x7f8e57a93710>,\n",
       " 'hidhaattii': <gensim.models.keyedvectors.Vocab at 0x7f8e57a93390>,\n",
       " 'darbitee': <gensim.models.keyedvectors.Vocab at 0x7f8e57a5f050>,\n",
       " 'esaa': <gensim.models.keyedvectors.Vocab at 0x7f8e57a5f150>,\n",
       " 'ammaa': <gensim.models.keyedvectors.Vocab at 0x7f8e57a5f350>,\n",
       " 'gishtaa': <gensim.models.keyedvectors.Vocab at 0x7f8e57a5f310>,\n",
       " 'ginnaan': <gensim.models.keyedvectors.Vocab at 0x7f8e57a5f410>,\n",
       " 'obsaa': <gensim.models.keyedvectors.Vocab at 0x7f8e57a5f450>,\n",
       " 'fixatee': <gensim.models.keyedvectors.Vocab at 0x7f8e57a5f5d0>,\n",
       " 'loltotaa': <gensim.models.keyedvectors.Vocab at 0x7f8e57a5f790>,\n",
       " 'bilxiqinaa': <gensim.models.keyedvectors.Vocab at 0x7f8e57a5f910>,\n",
       " 'kessaat': <gensim.models.keyedvectors.Vocab at 0x7f8e57a5fe90>,\n",
       " 'bayyiin': <gensim.models.keyedvectors.Vocab at 0x7f8e57a67190>,\n",
       " 'dhumaruu': <gensim.models.keyedvectors.Vocab at 0x7f8e57a673d0>,\n",
       " 'dhalatotaa': <gensim.models.keyedvectors.Vocab at 0x7f8e57a67750>,\n",
       " 'dabuubi': <gensim.models.keyedvectors.Vocab at 0x7f8e57a67950>,\n",
       " 'oromoodhaa': <gensim.models.keyedvectors.Vocab at 0x7f8e57a679d0>,\n",
       " 'nutii': <gensim.models.keyedvectors.Vocab at 0x7f8e57a67ad0>,\n",
       " 'wabon': <gensim.models.keyedvectors.Vocab at 0x7f8e57a67d90>,\n",
       " 'dhumnee': <gensim.models.keyedvectors.Vocab at 0x7f8e57a67f50>,\n",
       " 'dhabamna': <gensim.models.keyedvectors.Vocab at 0x7f8e57a67e50>,\n",
       " 'hiin': <gensim.models.keyedvectors.Vocab at 0x7f8e57a67f10>,\n",
       " 'araramnuu': <gensim.models.keyedvectors.Vocab at 0x7f8e57a8a1d0>,\n",
       " 'daraa': <gensim.models.keyedvectors.Vocab at 0x7f8e57a8a150>,\n",
       " 'gonaa': <gensim.models.keyedvectors.Vocab at 0x7f8e57a8a590>,\n",
       " 'inshalaa': <gensim.models.keyedvectors.Vocab at 0x7f8e57a8a690>,\n",
       " 'qabaa': <gensim.models.keyedvectors.Vocab at 0x7f8e57a8a6d0>,\n",
       " 'tolfanee': <gensim.models.keyedvectors.Vocab at 0x7f8e57a8a810>,\n",
       " 'darbbu': <gensim.models.keyedvectors.Vocab at 0x7f8e57a8a850>,\n",
       " 'hafee': <gensim.models.keyedvectors.Vocab at 0x7f8e57a8a950>,\n",
       " 'nyatee': <gensim.models.keyedvectors.Vocab at 0x7f8e57a8aa10>,\n",
       " 'sanyiin': <gensim.models.keyedvectors.Vocab at 0x7f8e57a8aa50>,\n",
       " 'dhaltee': <gensim.models.keyedvectors.Vocab at 0x7f8e57a8acd0>,\n",
       " 'argiin': <gensim.models.keyedvectors.Vocab at 0x7f8e57a8ad10>,\n",
       " 'gubbatu': <gensim.models.keyedvectors.Vocab at 0x7f8e57a8ae50>,\n",
       " 'duaan': <gensim.models.keyedvectors.Vocab at 0x7f8e57a8afd0>,\n",
       " 'isaas': <gensim.models.keyedvectors.Vocab at 0x7f8e57a99110>,\n",
       " 'boqootin': <gensim.models.keyedvectors.Vocab at 0x7f8e57a99190>,\n",
       " 'hacee': <gensim.models.keyedvectors.Vocab at 0x7f8e57a99590>,\n",
       " 'atti': <gensim.models.keyedvectors.Vocab at 0x7f8e57a995d0>,\n",
       " 'jirtaa': <gensim.models.keyedvectors.Vocab at 0x7f8e57a99790>,\n",
       " 'jiruuti': <gensim.models.keyedvectors.Vocab at 0x7f8e57a99690>,\n",
       " 'bilxiginaan': <gensim.models.keyedvectors.Vocab at 0x7f8e57a99750>,\n",
       " 'haaqisutti': <gensim.models.keyedvectors.Vocab at 0x7f8e57a99990>,\n",
       " 'jiritti': <gensim.models.keyedvectors.Vocab at 0x7f8e57a99b50>,\n",
       " 'haacee': <gensim.models.keyedvectors.Vocab at 0x7f8e57a99c50>,\n",
       " 'sifefaattu': <gensim.models.keyedvectors.Vocab at 0x7f8e57a99c90>,\n",
       " 'haanga': <gensim.models.keyedvectors.Vocab at 0x7f8e57a99e10>,\n",
       " 'bilxiginaa': <gensim.models.keyedvectors.Vocab at 0x7f8e57a99fd0>,\n",
       " 'raabbin': <gensim.models.keyedvectors.Vocab at 0x7f8e57a68050>,\n",
       " 'qabdi': <gensim.models.keyedvectors.Vocab at 0x7f8e57a68150>,\n",
       " 'jarsumma': <gensim.models.keyedvectors.Vocab at 0x7f8e57a68190>,\n",
       " 'egaa': <gensim.models.keyedvectors.Vocab at 0x7f8e57a682d0>,\n",
       " 'wantii': <gensim.models.keyedvectors.Vocab at 0x7f8e57a68210>,\n",
       " 'tahee': <gensim.models.keyedvectors.Vocab at 0x7f8e57a68350>,\n",
       " 'walin': <gensim.models.keyedvectors.Vocab at 0x7f8e57a68610>,\n",
       " 'araarrii': <gensim.models.keyedvectors.Vocab at 0x7f8e57a68810>,\n",
       " 'barbanuu': <gensim.models.keyedvectors.Vocab at 0x7f8e57a687d0>,\n",
       " 'barbadeessuu': <gensim.models.keyedvectors.Vocab at 0x7f8e57a68a50>,\n",
       " 'maalee': <gensim.models.keyedvectors.Vocab at 0x7f8e57a68b90>,\n",
       " 'naamni': <gensim.models.keyedvectors.Vocab at 0x7f8e57a68f10>,\n",
       " 'abiiyin': <gensim.models.keyedvectors.Vocab at 0x7f8e57a725d0>,\n",
       " 'jeedhu': <gensim.models.keyedvectors.Vocab at 0x7f8e57a72a10>,\n",
       " 'naama': <gensim.models.keyedvectors.Vocab at 0x7f8e57a72590>,\n",
       " 'hiiribaa': <gensim.models.keyedvectors.Vocab at 0x7f8e57a720d0>,\n",
       " 'mana': <gensim.models.keyedvectors.Vocab at 0x7f8e57a72550>,\n",
       " 'deemanii': <gensim.models.keyedvectors.Vocab at 0x7f8e57a72f10>,\n",
       " 'walgaii': <gensim.models.keyedvectors.Vocab at 0x7f8e57a60190>,\n",
       " 'baaa': <gensim.models.keyedvectors.Vocab at 0x7f8e57a60090>,\n",
       " 'jedhanii': <gensim.models.keyedvectors.Vocab at 0x7f8e57a600d0>,\n",
       " 'namaa': <gensim.models.keyedvectors.Vocab at 0x7f8e57a60390>,\n",
       " 'barreessan': <gensim.models.keyedvectors.Vocab at 0x7f8e57a60250>,\n",
       " 'hedduun': <gensim.models.keyedvectors.Vocab at 0x7f8e57a60490>,\n",
       " 'sodaa': <gensim.models.keyedvectors.Vocab at 0x7f8e57a60650>,\n",
       " 'kae': <gensim.models.keyedvectors.Vocab at 0x7f8e57a606d0>,\n",
       " 'hiriira': <gensim.models.keyedvectors.Vocab at 0x7f8e57a60990>,\n",
       " 'bae': <gensim.models.keyedvectors.Vocab at 0x7f8e57a60850>,\n",
       " 'isiinii': <gensim.models.keyedvectors.Vocab at 0x7f8e57a60a10>,\n",
       " 'wojjiin': <gensim.models.keyedvectors.Vocab at 0x7f8e57a60c50>,\n",
       " 'booyichaama': <gensim.models.keyedvectors.Vocab at 0x7f8e57a60d10>,\n",
       " 'dhabaa': <gensim.models.keyedvectors.Vocab at 0x7f8e57a60e90>,\n",
       " 'ciinaa': <gensim.models.keyedvectors.Vocab at 0x7f8e57a790d0>,\n",
       " 'dhaabadhaa': <gensim.models.keyedvectors.Vocab at 0x7f8e57a79250>,\n",
       " 'bilxgiinaan': <gensim.models.keyedvectors.Vocab at 0x7f8e57a79450>,\n",
       " 'qabdii': <gensim.models.keyedvectors.Vocab at 0x7f8e57a793d0>,\n",
       " 'ayyolee': <gensim.models.keyedvectors.Vocab at 0x7f8e57a795d0>,\n",
       " 'marate': <gensim.models.keyedvectors.Vocab at 0x7f8e57a797d0>,\n",
       " 'marata': <gensim.models.keyedvectors.Vocab at 0x7f8e57a79890>,\n",
       " 'ayyole': <gensim.models.keyedvectors.Vocab at 0x7f8e57a79910>,\n",
       " 'marachee': <gensim.models.keyedvectors.Vocab at 0x7f8e57a79c50>,\n",
       " 'biyyale': <gensim.models.keyedvectors.Vocab at 0x7f8e57a79b90>,\n",
       " 'balesara': <gensim.models.keyedvectors.Vocab at 0x7f8e57a84f50>,\n",
       " 'iji': <gensim.models.keyedvectors.Vocab at 0x7f8e57a84a10>,\n",
       " 'bulguu': <gensim.models.keyedvectors.Vocab at 0x7f8e57a84810>,\n",
       " 'jarattii': <gensim.models.keyedvectors.Vocab at 0x7f8e57a84450>,\n",
       " 'burjaajofttuu': <gensim.models.keyedvectors.Vocab at 0x7f8e57a849d0>,\n",
       " 'ilaalaa': <gensim.models.keyedvectors.Vocab at 0x7f8e57a84990>,\n",
       " 'haceen': <gensim.models.keyedvectors.Vocab at 0x7f8e57a84a50>,\n",
       " 'enyuun': <gensim.models.keyedvectors.Vocab at 0x7f8e57a84050>,\n",
       " 'gaafas': <gensim.models.keyedvectors.Vocab at 0x7f8e57a74650>,\n",
       " 'ho': <gensim.models.keyedvectors.Vocab at 0x7f8e57a74890>,\n",
       " 'faarssaa': <gensim.models.keyedvectors.Vocab at 0x7f8e57a744d0>,\n",
       " 'jirttu': <gensim.models.keyedvectors.Vocab at 0x7f8e57a74110>,\n",
       " 'gantu': <gensim.models.keyedvectors.Vocab at 0x7f8e57a742d0>,\n",
       " 'hadharawu': <gensim.models.keyedvectors.Vocab at 0x7f8e57a7b890>,\n",
       " 'umani': <gensim.models.keyedvectors.Vocab at 0x7f8e57a7b950>,\n",
       " 'malumaf': <gensim.models.keyedvectors.Vocab at 0x7f8e57a7be10>,\n",
       " 'gowoma': <gensim.models.keyedvectors.Vocab at 0x7f8e57a7b310>,\n",
       " 'kanna': <gensim.models.keyedvectors.Vocab at 0x7f8e57a7b550>,\n",
       " 'mara': <gensim.models.keyedvectors.Vocab at 0x7f8e57a7bb90>,\n",
       " 'issa': <gensim.models.keyedvectors.Vocab at 0x7f8e57a7b650>,\n",
       " 'godhani': <gensim.models.keyedvectors.Vocab at 0x7f8e57a7bed0>,\n",
       " 'acalu': <gensim.models.keyedvectors.Vocab at 0x7f8e57a7b710>,\n",
       " 'nyatani': <gensim.models.keyedvectors.Vocab at 0x7f8e57a7bbd0>,\n",
       " 'ka': <gensim.models.keyedvectors.Vocab at 0x7f8e57a7bd50>,\n",
       " 'haffele': <gensim.models.keyedvectors.Vocab at 0x7f8e57a7bd10>,\n",
       " 'adamsa': <gensim.models.keyedvectors.Vocab at 0x7f8e57a7b810>,\n",
       " 'kuno': <gensim.models.keyedvectors.Vocab at 0x7f8e57a7b4d0>,\n",
       " 'dhiigaa': <gensim.models.keyedvectors.Vocab at 0x7f8e57a7b190>,\n",
       " ...}"
      ]
     },
     "execution_count": 285,
     "metadata": {},
     "output_type": "execute_result"
    }
   ],
   "source": [
    "emb.wv.vocab"
   ]
  },
  {
   "cell_type": "code",
   "execution_count": 286,
   "metadata": {
    "colab": {
     "base_uri": "https://localhost:8080/"
    },
    "id": "K0NSZfwcWcCI",
    "outputId": "98bd5cde-804e-440f-aec2-75ce38c41bac"
   },
   "outputs": [
    {
     "data": {
      "text/plain": [
       "[('hin', 0.7855319976806641),\n",
       " ('oromoo', 0.7805348634719849),\n",
       " ('jira', 0.7739956378936768),\n",
       " ('ni', 0.7589368224143982),\n",
       " ('tokko', 0.7501821517944336),\n",
       " ('wbo', 0.7462140321731567),\n",
       " ('oromo', 0.7438040375709534),\n",
       " ('nama', 0.734398603439331),\n",
       " ('biyyaa', 0.731334388256073),\n",
       " ('kenyaa', 0.7312307357788086)]"
      ]
     },
     "execution_count": 286,
     "metadata": {},
     "output_type": "execute_result"
    }
   ],
   "source": [
    "emb.wv.most_similar('itoophiyaa')"
   ]
  },
  {
   "cell_type": "markdown",
   "metadata": {
    "id": "YqE37vPbwXzB"
   },
   "source": [
    "# **Spliting Dataset Into Trainign And Testing**"
   ]
  },
  {
   "cell_type": "code",
   "execution_count": 287,
   "metadata": {
    "id": "KGgVIAC4Xmm_"
   },
   "outputs": [],
   "source": [
    "data_train, data_test = train_test_split(data, test_size=0.2, random_state=42)"
   ]
  },
  {
   "cell_type": "code",
   "execution_count": 288,
   "metadata": {
    "colab": {
     "base_uri": "https://localhost:8080/"
    },
    "id": "ocEoPVoEXmpH",
    "outputId": "a6745ffc-c728-4058-f174-1014a7b85ab3"
   },
   "outputs": [
    {
     "name": "stdout",
     "output_type": "stream",
     "text": [
      "17499 words total, with a vocabulary size of 5827\n",
      "Max sentence length is 37\n"
     ]
    }
   ],
   "source": [
    "all_training_words = [word for tokens in data_train[\"tokens\"] for word in tokens]\n",
    "training_sentence_lengths = [len(tokens) for tokens in data_train[\"tokens\"]]\n",
    "TRAINING_VOCAB = sorted(list(set(all_training_words)))\n",
    "print(\"%s words total, with a vocabulary size of %s\" % (len(all_training_words), len(TRAINING_VOCAB)))\n",
    "print(\"Max sentence length is %s\" % max(training_sentence_lengths))"
   ]
  },
  {
   "cell_type": "code",
   "execution_count": 289,
   "metadata": {
    "colab": {
     "base_uri": "https://localhost:8080/"
    },
    "id": "HHdyZ6ypXmrE",
    "outputId": "a79befaf-ccff-406c-ad1c-5775646ded1a"
   },
   "outputs": [
    {
     "name": "stdout",
     "output_type": "stream",
     "text": [
      "4431 words total, with a vocabulary size of 2444\n",
      "Max sentence length is 42\n"
     ]
    }
   ],
   "source": [
    "all_test_words = [word for tokens in data_test[\"tokens\"] for word in tokens]\n",
    "test_sentence_lengths = [len(tokens) for tokens in data_test[\"tokens\"]]\n",
    "TEST_VOCAB = sorted(list(set(all_test_words)))\n",
    "print(\"%s words total, with a vocabulary size of %s\" % (len(all_test_words), len(TEST_VOCAB)))\n",
    "print(\"Max sentence length is %s\" % max(test_sentence_lengths))"
   ]
  },
  {
   "cell_type": "code",
   "execution_count": 290,
   "metadata": {
    "id": "5Hi6tolDXmtD"
   },
   "outputs": [],
   "source": [
    "from gensim import models"
   ]
  },
  {
   "cell_type": "code",
   "execution_count": 291,
   "metadata": {
    "id": "VtJ546gGWcGS"
   },
   "outputs": [],
   "source": [
    "def get_average_word2vec(tokens_list, vector, generate_missing=False, k=300):\n",
    "    if len(tokens_list)<1:\n",
    "        return np.zeros(k)\n",
    "    if generate_missing:\n",
    "        vectorized = [vector[word] if word in vector else np.random.rand(k) for word in tokens_list]\n",
    "    else:\n",
    "        vectorized = [vector[word] if word in vector else np.zeros(k) for word in tokens_list]\n",
    "    length = len(vectorized)\n",
    "    summed = np.sum(vectorized, axis=0)\n",
    "    averaged = np.divide(summed, length)\n",
    "    return averaged\n",
    "\n",
    "def get_word2vec_embeddings(vectors, clean_comments, generate_missing=False):\n",
    "    embeddings = clean_comments['tokens'].apply(lambda x: get_average_word2vec(x, vectors, \n",
    "                                                                                generate_missing=generate_missing))\n",
    "    return list(embeddings)"
   ]
  },
  {
   "cell_type": "code",
   "execution_count": 292,
   "metadata": {
    "colab": {
     "base_uri": "https://localhost:8080/"
    },
    "id": "9OUkFOvDYEio",
    "outputId": "e03951c6-3b5d-4d45-9ff6-b588307b15b2"
   },
   "outputs": [
    {
     "data": {
      "text/plain": [
       "[('hin', 0.9515320062637329),\n",
       " ('oromoon', 0.9030275344848633),\n",
       " ('jira', 0.8922939300537109),\n",
       " ('wbo', 0.8897060751914978),\n",
       " ('ni', 0.8861595988273621),\n",
       " ('jiru', 0.8768099546432495),\n",
       " ('oromo', 0.8755456209182739),\n",
       " ('nama', 0.8695470094680786),\n",
       " ('qaba', 0.8691385388374329),\n",
       " ('biyyaa', 0.8677172064781189)]"
      ]
     },
     "execution_count": 292,
     "metadata": {},
     "output_type": "execute_result"
    }
   ],
   "source": [
    "emb.wv.most_similar('oromoo')"
   ]
  },
  {
   "cell_type": "code",
   "execution_count": null,
   "metadata": {
    "id": "m5Jz2NMQYEkY"
   },
   "outputs": [],
   "source": [
    "training_embeddings = get_word2vec_embeddings(emb, data_train, generate_missing=True)"
   ]
  },
  {
   "cell_type": "code",
   "execution_count": 294,
   "metadata": {
    "id": "lJ3N92mOYEmX"
   },
   "outputs": [],
   "source": [
    "MAX_SEQUENCE_LENGTH = 40\n",
    "EMBEDDING_DIM = 100"
   ]
  },
  {
   "cell_type": "code",
   "execution_count": 295,
   "metadata": {
    "colab": {
     "base_uri": "https://localhost:8080/"
    },
    "id": "phhYTMviYEo5",
    "outputId": "a004eebd-c8b3-47ad-de61-c07402020f5e"
   },
   "outputs": [
    {
     "name": "stdout",
     "output_type": "stream",
     "text": [
      "Found 5827 unique tokens.\n"
     ]
    }
   ],
   "source": [
    "tokenizer = Tokenizer(num_words=len(TRAINING_VOCAB), lower=True, char_level=False)\n",
    "tokenizer.fit_on_texts(data_train[\"Text_Final\"].tolist())\n",
    "training_sequences = tokenizer.texts_to_sequences(data_train[\"Text_Final\"].tolist())\n",
    "\n",
    "train_word_index = tokenizer.word_index\n",
    "print('Found %s unique tokens.' % len(train_word_index))"
   ]
  },
  {
   "cell_type": "code",
   "execution_count": 296,
   "metadata": {
    "id": "gXzRTbJDYEsn"
   },
   "outputs": [],
   "source": [
    "train_cnn_data = pad_sequences(training_sequences, maxlen=MAX_SEQUENCE_LENGTH)"
   ]
  },
  {
   "cell_type": "code",
   "execution_count": null,
   "metadata": {
    "id": "NyRp-z9iYlN6"
   },
   "outputs": [],
   "source": [
    "train_embedding_weights = np.zeros((len(train_word_index)+1, EMBEDDING_DIM))\n",
    "for word,index in train_word_index.items():\n",
    "    train_embedding_weights[index,:] = emb[word] if word in emb else np.random.rand(EMBEDDING_DIM)\n",
    "print(train_embedding_weights.shape)"
   ]
  },
  {
   "cell_type": "code",
   "execution_count": 298,
   "metadata": {
    "id": "_bXthPkjYlPT"
   },
   "outputs": [],
   "source": [
    "test_sequences = tokenizer.texts_to_sequences(data_test[\"Text_Final\"].tolist())\n",
    "test_cnn_data = pad_sequences(test_sequences, maxlen=MAX_SEQUENCE_LENGTH)"
   ]
  },
  {
   "cell_type": "markdown",
   "metadata": {
    "id": "Gb_ZIM_zwrcx"
   },
   "source": [
    "# **Convolutional Neural Network Model**"
   ]
  },
  {
   "cell_type": "code",
   "execution_count": 299,
   "metadata": {
    "id": "MCtQZMUCYlRW"
   },
   "outputs": [],
   "source": [
    "def ConvNet(embeddings, max_sequence_length, num_words, embedding_dim, labels_index):\n",
    "    \n",
    "    embedding_layer = Embedding(num_words,\n",
    "                            embedding_dim,\n",
    "                            weights=[embeddings],\n",
    "                            input_length=max_sequence_length,\n",
    "                            trainable=True)\n",
    "    \n",
    "    sequence_input = Input(shape=(max_sequence_length,), dtype='int32')\n",
    "    embedded_sequences = embedding_layer(sequence_input)\n",
    "\n",
    "    convs = []\n",
    "    filter_sizes = [2,3,4,5,6]\n",
    "\n",
    "    for filter_size in filter_sizes:\n",
    "        l_conv = Conv1D(filters=200, kernel_size=filter_size, activation='relu')(embedded_sequences)\n",
    "        l_pool = GlobalMaxPooling1D()(l_conv)\n",
    "        convs.append(l_pool)\n",
    "\n",
    "\n",
    "    l_merge = concatenate(convs, axis=1)\n",
    "\n",
    "    x = Dropout(0.2)(l_merge)  \n",
    "    x = Dense(128, activation='relu')(x)\n",
    "    x = Dropout(0.2)(x)\n",
    "    preds = Dense(labels_index, activation='softmax')(x)\n",
    "\n",
    "    model = Model(sequence_input, preds)\n",
    "    model.compile(loss='binary_crossentropy',\n",
    "                  optimizer='adam',\n",
    "                  metrics=['acc'])\n",
    "    model.summary()\n",
    "    return model"
   ]
  },
  {
   "cell_type": "code",
   "execution_count": 300,
   "metadata": {
    "id": "VHw5u8eUY0Av"
   },
   "outputs": [],
   "source": [
    "label_names = ['Anti_Extreme', 'Exterem', 'Neutral']\n",
    "y_train = data_train[label_names].values\n",
    "x_train = train_cnn_data\n",
    "y_tr = y_train\n",
    "y_test = data_test[label_names].values"
   ]
  },
  {
   "cell_type": "code",
   "execution_count": 301,
   "metadata": {
    "colab": {
     "base_uri": "https://localhost:8080/"
    },
    "id": "vLmlt9pvY0Cj",
    "outputId": "4002762c-1d2a-4e15-d8c9-778c868401ea"
   },
   "outputs": [
    {
     "name": "stdout",
     "output_type": "stream",
     "text": [
      "Model: \"model_5\"\n",
      "__________________________________________________________________________________________________\n",
      " Layer (type)                   Output Shape         Param #     Connected to                     \n",
      "==================================================================================================\n",
      " input_6 (InputLayer)           [(None, 40)]         0           []                               \n",
      "                                                                                                  \n",
      " embedding_5 (Embedding)        (None, 40, 100)      582800      ['input_6[0][0]']                \n",
      "                                                                                                  \n",
      " conv1d_25 (Conv1D)             (None, 39, 200)      40200       ['embedding_5[0][0]']            \n",
      "                                                                                                  \n",
      " conv1d_26 (Conv1D)             (None, 38, 200)      60200       ['embedding_5[0][0]']            \n",
      "                                                                                                  \n",
      " conv1d_27 (Conv1D)             (None, 37, 200)      80200       ['embedding_5[0][0]']            \n",
      "                                                                                                  \n",
      " conv1d_28 (Conv1D)             (None, 36, 200)      100200      ['embedding_5[0][0]']            \n",
      "                                                                                                  \n",
      " conv1d_29 (Conv1D)             (None, 35, 200)      120200      ['embedding_5[0][0]']            \n",
      "                                                                                                  \n",
      " global_max_pooling1d_25 (Globa  (None, 200)         0           ['conv1d_25[0][0]']              \n",
      " lMaxPooling1D)                                                                                   \n",
      "                                                                                                  \n",
      " global_max_pooling1d_26 (Globa  (None, 200)         0           ['conv1d_26[0][0]']              \n",
      " lMaxPooling1D)                                                                                   \n",
      "                                                                                                  \n",
      " global_max_pooling1d_27 (Globa  (None, 200)         0           ['conv1d_27[0][0]']              \n",
      " lMaxPooling1D)                                                                                   \n",
      "                                                                                                  \n",
      " global_max_pooling1d_28 (Globa  (None, 200)         0           ['conv1d_28[0][0]']              \n",
      " lMaxPooling1D)                                                                                   \n",
      "                                                                                                  \n",
      " global_max_pooling1d_29 (Globa  (None, 200)         0           ['conv1d_29[0][0]']              \n",
      " lMaxPooling1D)                                                                                   \n",
      "                                                                                                  \n",
      " concatenate_5 (Concatenate)    (None, 1000)         0           ['global_max_pooling1d_25[0][0]',\n",
      "                                                                  'global_max_pooling1d_26[0][0]',\n",
      "                                                                  'global_max_pooling1d_27[0][0]',\n",
      "                                                                  'global_max_pooling1d_28[0][0]',\n",
      "                                                                  'global_max_pooling1d_29[0][0]']\n",
      "                                                                                                  \n",
      " dropout_10 (Dropout)           (None, 1000)         0           ['concatenate_5[0][0]']          \n",
      "                                                                                                  \n",
      " dense_10 (Dense)               (None, 128)          128128      ['dropout_10[0][0]']             \n",
      "                                                                                                  \n",
      " dropout_11 (Dropout)           (None, 128)          0           ['dense_10[0][0]']               \n",
      "                                                                                                  \n",
      " dense_11 (Dense)               (None, 3)            387         ['dropout_11[0][0]']             \n",
      "                                                                                                  \n",
      "==================================================================================================\n",
      "Total params: 1,112,315\n",
      "Trainable params: 1,112,315\n",
      "Non-trainable params: 0\n",
      "__________________________________________________________________________________________________\n"
     ]
    }
   ],
   "source": [
    "model = ConvNet(train_embedding_weights, MAX_SEQUENCE_LENGTH, len(train_word_index)+1, EMBEDDING_DIM, \n",
    "                len(list(label_names)))"
   ]
  },
  {
   "cell_type": "code",
   "execution_count": 302,
   "metadata": {
    "id": "4qf1quJmY0EL"
   },
   "outputs": [],
   "source": [
    "num_epochs = 10\n",
    "batch_size = 68"
   ]
  },
  {
   "cell_type": "code",
   "execution_count": 303,
   "metadata": {
    "colab": {
     "base_uri": "https://localhost:8080/"
    },
    "id": "GRbSEcYHY0Gx",
    "outputId": "96687445-d7bd-49e6-f7b4-0c71c4fb5eba"
   },
   "outputs": [
    {
     "name": "stdout",
     "output_type": "stream",
     "text": [
      "Epoch 1/10\n",
      "23/23 [==============================] - 5s 188ms/step - loss: 0.6141 - acc: 0.5071 - val_loss: 0.5707 - val_acc: 0.4948\n",
      "Epoch 2/10\n",
      "23/23 [==============================] - 4s 179ms/step - loss: 0.4669 - acc: 0.6154 - val_loss: 0.4562 - val_acc: 0.6321\n",
      "Epoch 3/10\n",
      "23/23 [==============================] - 4s 179ms/step - loss: 0.2782 - acc: 0.7873 - val_loss: 0.4953 - val_acc: 0.7306\n",
      "Epoch 4/10\n",
      "23/23 [==============================] - 4s 184ms/step - loss: 0.1362 - acc: 0.9598 - val_loss: 0.4210 - val_acc: 0.8031\n",
      "Epoch 5/10\n",
      "23/23 [==============================] - 4s 182ms/step - loss: 0.0285 - acc: 0.9883 - val_loss: 0.4663 - val_acc: 0.7824\n",
      "Epoch 6/10\n",
      "23/23 [==============================] - 4s 182ms/step - loss: 0.0087 - acc: 0.9974 - val_loss: 0.4947 - val_acc: 0.7902\n",
      "Epoch 7/10\n",
      "23/23 [==============================] - 4s 187ms/step - loss: 0.0068 - acc: 0.9974 - val_loss: 0.5012 - val_acc: 0.7953\n",
      "Epoch 8/10\n",
      "23/23 [==============================] - 4s 184ms/step - loss: 0.0036 - acc: 0.9994 - val_loss: 0.5208 - val_acc: 0.8005\n",
      "Epoch 9/10\n",
      "23/23 [==============================] - 4s 184ms/step - loss: 0.0037 - acc: 0.9981 - val_loss: 0.5377 - val_acc: 0.7850\n",
      "Epoch 10/10\n",
      "23/23 [==============================] - 4s 183ms/step - loss: 0.0026 - acc: 0.9994 - val_loss: 0.5523 - val_acc: 0.7876\n"
     ]
    }
   ],
   "source": [
    "hist = model.fit(x_train, y_train, epochs=num_epochs, validation_split=0.2, shuffle=True, batch_size=batch_size)"
   ]
  },
  {
   "cell_type": "code",
   "execution_count": 304,
   "metadata": {
    "colab": {
     "base_uri": "https://localhost:8080/"
    },
    "id": "-3Lq5qFmY0JI",
    "outputId": "02b6ef81-fcb7-4a51-e448-30a740066dd3"
   },
   "outputs": [
    {
     "name": "stdout",
     "output_type": "stream",
     "text": [
      "1/1 [==============================] - 0s 369ms/step\n"
     ]
    }
   ],
   "source": [
    "predictions = model.predict(test_cnn_data, batch_size=1024, verbose=1)"
   ]
  },
  {
   "cell_type": "code",
   "execution_count": 305,
   "metadata": {
    "id": "LvEBMJL0Y0Mv"
   },
   "outputs": [],
   "source": [
    "labels = [1, 0,2]"
   ]
  },
  {
   "cell_type": "code",
   "execution_count": 306,
   "metadata": {
    "id": "texFXNKOYlTl"
   },
   "outputs": [],
   "source": [
    "prediction_labels=[]\n",
    "for p in predictions:\n",
    "    prediction_labels.append(labels[np.argmax(p)])"
   ]
  },
  {
   "cell_type": "markdown",
   "metadata": {
    "id": "taRi0cVPw4tI"
   },
   "source": [
    "# **Accuracy Of the model**"
   ]
  },
  {
   "cell_type": "code",
   "execution_count": 307,
   "metadata": {
    "colab": {
     "base_uri": "https://localhost:8080/"
    },
    "id": "Nea6uIcSYlV8",
    "outputId": "7a25015d-94d3-48a9-9fd2-2bdf1d29aa89"
   },
   "outputs": [
    {
     "data": {
      "text/plain": [
       "0.8008298755186722"
      ]
     },
     "execution_count": 307,
     "metadata": {},
     "output_type": "execute_result"
    }
   ],
   "source": [
    "sum(data_test.Label==prediction_labels)/len(prediction_labels)"
   ]
  },
  {
   "cell_type": "code",
   "execution_count": 308,
   "metadata": {
    "colab": {
     "base_uri": "https://localhost:8080/"
    },
    "id": "IG9JulYQdhTr",
    "outputId": "978a6732-f8de-43f2-f8c6-4cface079a86"
   },
   "outputs": [
    {
     "data": {
      "text/plain": [
       "array([[103,   7,  15],\n",
       "       [ 17, 219,  22],\n",
       "       [ 23,  12,  64]])"
      ]
     },
     "execution_count": 308,
     "metadata": {},
     "output_type": "execute_result"
    }
   ],
   "source": [
    "from sklearn.metrics import confusion_matrix\n",
    "\n",
    "y_pred = model.predict(test_cnn_data)\n",
    "y_pred = np.argmax(y_pred, axis=1)\n",
    "\n",
    "conf_mat = confusion_matrix(np.argmax(y_test,axis=1),y_pred)\n",
    "conf_mat"
   ]
  },
  {
   "cell_type": "markdown",
   "metadata": {
    "id": "FsCpbfT2xEIa"
   },
   "source": [
    "# **Precision, Recall f1-score of the model**"
   ]
  },
  {
   "cell_type": "code",
   "execution_count": 309,
   "metadata": {
    "colab": {
     "base_uri": "https://localhost:8080/"
    },
    "id": "NeHi7OLz_AAy",
    "outputId": "fec04bca-e5fb-4fc7-f19c-2dad913ad20d"
   },
   "outputs": [
    {
     "name": "stdout",
     "output_type": "stream",
     "text": [
      "              precision    recall  f1-score   support\n",
      "\n",
      "           0       0.72      0.82      0.77       125\n",
      "           1       0.92      0.85      0.88       258\n",
      "           2       0.63      0.65      0.64        99\n",
      "\n",
      "    accuracy                           0.80       482\n",
      "   macro avg       0.76      0.77      0.76       482\n",
      "weighted avg       0.81      0.80      0.80       482\n",
      "\n"
     ]
    }
   ],
   "source": [
    "from sklearn.metrics import classification_report\n",
    "y_pred = model.predict(test_cnn_data)\n",
    "y_pred = np.argmax(y_pred, axis=1)\n",
    "print(classification_report(np.argmax(y_test,axis=1), y_pred))"
   ]
  },
  {
   "cell_type": "code",
   "execution_count": 310,
   "metadata": {
    "colab": {
     "base_uri": "https://localhost:8080/",
     "height": 337
    },
    "id": "SjDnNFgpr2eU",
    "outputId": "22f7619e-87df-4623-dec0-d71070c7347c"
   },
   "outputs": [
    {
     "data": {
      "image/png": "[encoded data removed]",
      "text/plain": [
       "<Figure size 864x360 with 1 Axes>"
      ]
     },
     "metadata": {
      "needs_background": "light"
     },
     "output_type": "display_data"
    }
   ],
   "source": [
    "import matplotlib.pyplot as plt \n",
    " \n",
    "plt.style.use('ggplot') \n",
    " \n",
    "def plot_history(history): \n",
    "    acc = history.history['acc'] \n",
    "    val_acc = history.history['val_acc'] \n",
    "    x = range(1, len(acc) + 1) \n",
    " \n",
    "    plt.figure(figsize=(12, 5)) \n",
    "    plt.subplot(1, 2, 1) \n",
    "    plt.plot(x, acc, 'b', label='Training acc') \n",
    "    plt.plot(x, val_acc, 'r', label='Validation acc') \n",
    "    plt.title('Training and validation accuracy') \n",
    "    plt.legend() \n",
    "    plt.legend() \n",
    " \n",
    "%matplotlib inline \n",
    "plot_history(hist)"
   ]
  },
  {
   "cell_type": "code",
   "execution_count": null,
   "metadata": {
    "id": "YEC9qhyR72el"
   },
   "outputs": [],
   "source": [
    "import matplotlib.pyplot as plt \n",
    " \n",
    "plt.style.use('ggplot') \n",
    " \n",
    "def plot_history(history): \n",
    "    acc = history.history['acc'] \n",
    "    val_acc = history.history['val_acc'] \n",
    "    loss = history.history['loss'] \n",
    "    val_loss = history.history['val_loss'] \n",
    "    x = range(1, len(acc) + 1) \n",
    " \n",
    "    plt.figure(figsize=(12, 5)) \n",
    "    plt.subplot(1, 2, 1) \n",
    "    plt.plot(x, acc, 'b', label='Training acc') \n",
    "    plt.plot(x, val_acc, 'r', label='Validation acc') \n",
    "    plt.title('Training and validation accuracy') \n",
    "    plt.legend() \n",
    "    plt.subplot(1, 2, 2) \n",
    "    plt.plot(x, loss, 'b', label='Training loss') \n",
    "    plt.plot(x, val_loss, 'r', label='Validation loss') \n",
    "    plt.title('Training and validation loss') \n",
    "    plt.legend() \n",
    " \n",
    "%matplotlib inline \n",
    "plot_history(hist)"
   ]
  },
  {
   "cell_type": "code",
   "execution_count": 312,
   "metadata": {
    "colab": {
     "base_uri": "https://localhost:8080/",
     "height": 658
    },
    "id": "gxHFFHUvLg6b",
    "outputId": "a3954fd5-f686-4db5-a077-34adc3989c75"
   },
   "outputs": [
    {
     "data": {
      "image/png": "[encoded data removed]",
      "text/plain": [
       "<IPython.core.display.Image object>"
      ]
     },
     "execution_count": 312,
     "metadata": {},
     "output_type": "execute_result"
    }
   ],
   "source": [
    "#pip install -q pydot\n",
    "from keras .utils.vis_utils import plot_model\n",
    "plot_model(model, to_file='model_plot3.png', show_shapes=False, show_layer_names=False)"
   ]
  }
 ],
 "metadata": {
  "colab": {
   "collapsed_sections": [],
   "name": "LAST haraa CNN final one for defense.ipynb",
   "provenance": []
  },
  "kernelspec": {
   "display_name": "Python 3",
   "language": "python",
   "name": "python3"
  },
  "language_info": {
   "codemirror_mode": {
    "name": "ipython",
    "version": 3
   },
   "file_extension": ".py",
   "mimetype": "text/x-python",
   "name": "python",
   "nbconvert_exporter": "python",
   "pygments_lexer": "ipython3",
   "version": "3.7.4"
  }
 },
 "nbformat": 4,
 "nbformat_minor": 1
}
