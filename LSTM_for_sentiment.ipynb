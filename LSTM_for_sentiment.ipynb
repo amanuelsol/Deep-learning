{
 "cells": [
  {
   "cell_type": "markdown",
   "metadata": {
    "id": "FeURxPpvqtxT"
   },
   "source": [
    "### **LIBRARY**"
   ]
  },
  {
   "cell_type": "code",
   "execution_count": 95,
   "metadata": {
    "colab": {
     "base_uri": "https://localhost:8080/"
    },
    "id": "1nnsMXICjhSj",
    "outputId": "db9c9615-9005-4120-fc26-5782e8d4f357"
   },
   "outputs": [
    {
     "name": "stdout",
     "output_type": "stream",
     "text": [
      "[nltk_data] Downloading package punkt to /root/nltk_data...\n",
      "[nltk_data]   Package punkt is already up-to-date!\n"
     ]
    }
   ],
   "source": [
    "from keras.callbacks import ModelCheckpoint\n",
    "from keras.layers import Dense, Dropout, Reshape, Flatten, concatenate, Input, Conv1D, GlobalMaxPooling1D, Embedding\n",
    "from keras.layers.recurrent import LSTM\n",
    "from keras.models import Sequential\n",
    "from keras.preprocessing.text import Tokenizer\n",
    "from keras.preprocessing.sequence import pad_sequences\n",
    "from keras.models import Model\n",
    "from sklearn.model_selection import train_test_split\n",
    "from tensorflow.python import tf2\n",
    "import tensorflow as tf\n",
    "from tensorflow.keras.models import Sequential\n",
    "from tensorflow import keras\n",
    "import numpy as np\n",
    "import tensorflow\n",
    "import pandas as pd\n",
    "import os\n",
    "import collections\n",
    "import re\n",
    "import string\n",
    "import keras\n",
    "import nltk\n",
    "import nltk\n",
    "nltk.download('punkt')\n",
    "from gensim import models"
   ]
  },
  {
   "cell_type": "markdown",
   "metadata": {
    "id": "ZE8pclFxq6oQ"
   },
   "source": [
    "### **READING DATA SET FROM INTERNAL DIRECTORY**"
   ]
  },
  {
   "cell_type": "code",
   "execution_count": 96,
   "metadata": {
    "id": "1ukvM4dblq08"
   },
   "outputs": [],
   "source": [
    "data = pd.read_csv('finaldatasettt.TSV', error_bad_lines=False, header = None, delimiter='\\t')"
   ]
  },
  {
   "cell_type": "code",
   "execution_count": 97,
   "metadata": {
    "id": "rOfX_4Rylq8U"
   },
   "outputs": [],
   "source": [
    "data.columns = ['Text', 'Label']"
   ]
  },
  {
   "cell_type": "code",
   "execution_count": 98,
   "metadata": {
    "colab": {
     "base_uri": "https://localhost:8080/",
     "height": 424
    },
    "id": "BXO7dUd1lrCG",
    "outputId": "ea0f230e-d226-4667-81d9-a28bb4c5dcd0"
   },
   "outputs": [
    {
     "data": {
      "text/html": [
       "<div>\n",
       "<style scoped>\n",
       "    .dataframe tbody tr th:only-of-type {\n",
       "        vertical-align: middle;\n",
       "    }\n",
       "\n",
       "    .dataframe tbody tr th {\n",
       "        vertical-align: top;\n",
       "    }\n",
       "\n",
       "    .dataframe thead th {\n",
       "        text-align: right;\n",
       "    }\n",
       "</style>\n",
       "<table border=\"1\" class=\"dataframe\">\n",
       "  <thead>\n",
       "    <tr style=\"text-align: right;\">\n",
       "      <th></th>\n",
       "      <th>Text</th>\n",
       "      <th>Label</th>\n",
       "    </tr>\n",
       "  </thead>\n",
       "  <tbody>\n",
       "    <tr>\n",
       "      <th>0</th>\n",
       "      <td>BARREEFFAMA KAMUU DUBISTEE BIRA KUTUUN GAARIIDHA.</td>\n",
       "      <td>2.0</td>\n",
       "    </tr>\n",
       "    <tr>\n",
       "      <th>1</th>\n",
       "      <td>Jabaadha ummata kenya gootota kenyaa.</td>\n",
       "      <td>1.0</td>\n",
       "    </tr>\n",
       "    <tr>\n",
       "      <th>2</th>\n",
       "      <td>Barrefama adda adda maalif hin garsiftan.</td>\n",
       "      <td>2.0</td>\n",
       "    </tr>\n",
       "    <tr>\n",
       "      <th>3</th>\n",
       "      <td>Sagaleen sirrii hin jiruu.</td>\n",
       "      <td>2.0</td>\n",
       "    </tr>\n",
       "    <tr>\n",
       "      <th>4</th>\n",
       "      <td>WBO waliin dhaabanne Mootummaa kana Ofirraa ka...</td>\n",
       "      <td>0.0</td>\n",
       "    </tr>\n",
       "    <tr>\n",
       "      <th>...</th>\n",
       "      <td>...</td>\n",
       "      <td>...</td>\n",
       "    </tr>\n",
       "    <tr>\n",
       "      <th>2094</th>\n",
       "      <td>Oromoo bilxgiinaan badu qabdii.</td>\n",
       "      <td>0.0</td>\n",
       "    </tr>\n",
       "    <tr>\n",
       "      <th>2095</th>\n",
       "      <td>Ayyolee hin marate namichaa marata ayyole mara...</td>\n",
       "      <td>0.0</td>\n",
       "    </tr>\n",
       "    <tr>\n",
       "      <th>2096</th>\n",
       "      <td>Jarattii burjaajofttuu kana ilaalaa me haceen ...</td>\n",
       "      <td>0.0</td>\n",
       "    </tr>\n",
       "    <tr>\n",
       "      <th>2098</th>\n",
       "      <td>umani oromoo kun malumaf gowoma kanna mara iss...</td>\n",
       "      <td>2.0</td>\n",
       "    </tr>\n",
       "    <tr>\n",
       "      <th>2099</th>\n",
       "      <td>Dhiigaa miskina dhaangalassa imimmaan hiyyeess...</td>\n",
       "      <td>0.0</td>\n",
       "    </tr>\n",
       "  </tbody>\n",
       "</table>\n",
       "<p>2072 rows × 2 columns</p>\n",
       "</div>"
      ],
      "text/plain": [
       "                                                   Text  Label\n",
       "0     BARREEFFAMA KAMUU DUBISTEE BIRA KUTUUN GAARIIDHA.    2.0\n",
       "1                 Jabaadha ummata kenya gootota kenyaa.    1.0\n",
       "2             Barrefama adda adda maalif hin garsiftan.    2.0\n",
       "3                            Sagaleen sirrii hin jiruu.    2.0\n",
       "4     WBO waliin dhaabanne Mootummaa kana Ofirraa ka...    0.0\n",
       "...                                                 ...    ...\n",
       "2094                    Oromoo bilxgiinaan badu qabdii.    0.0\n",
       "2095  Ayyolee hin marate namichaa marata ayyole mara...    0.0\n",
       "2096  Jarattii burjaajofttuu kana ilaalaa me haceen ...    0.0\n",
       "2098  umani oromoo kun malumaf gowoma kanna mara iss...    2.0\n",
       "2099  Dhiigaa miskina dhaangalassa imimmaan hiyyeess...    0.0\n",
       "\n",
       "[2072 rows x 2 columns]"
      ]
     },
     "execution_count": 98,
     "metadata": {},
     "output_type": "execute_result"
    }
   ],
   "source": [
    "data.dropna()\n"
   ]
  },
  {
   "cell_type": "code",
   "execution_count": 99,
   "metadata": {
    "colab": {
     "base_uri": "https://localhost:8080/"
    },
    "id": "XB2FfltYlrHU",
    "outputId": "2e617e63-0e54-475a-c5aa-10d9bc5094ec"
   },
   "outputs": [
    {
     "data": {
      "text/plain": [
       "array([2., 1., 0.])"
      ]
     },
     "execution_count": 99,
     "metadata": {},
     "output_type": "execute_result"
    }
   ],
   "source": [
    "data.Label.unique()\n",
    "data=data.dropna()\n",
    "data.Label.unique()"
   ]
  },
  {
   "cell_type": "code",
   "execution_count": 100,
   "metadata": {
    "colab": {
     "base_uri": "https://localhost:8080/"
    },
    "id": "exlUo0C9lrNH",
    "outputId": "5543743c-3fc4-4acb-fcf6-b25fa4bb90d1"
   },
   "outputs": [
    {
     "data": {
      "text/plain": [
       "(2072, 2)"
      ]
     },
     "execution_count": 100,
     "metadata": {},
     "output_type": "execute_result"
    }
   ],
   "source": [
    "data.shape"
   ]
  },
  {
   "cell_type": "code",
   "execution_count": 101,
   "metadata": {
    "id": "IcDtYag9lrQI"
   },
   "outputs": [],
   "source": [
    "#data.Label.value_counts()"
   ]
  },
  {
   "cell_type": "markdown",
   "metadata": {
    "id": "i7gufvSVsqb7"
   },
   "source": [
    "## **Panctuation mark removal**"
   ]
  },
  {
   "cell_type": "code",
   "execution_count": 102,
   "metadata": {
    "id": "8uCYu3ZamVFx"
   },
   "outputs": [],
   "source": [
    "def remove_punct(text):\n",
    "    text_nopunct = ''\n",
    "    text_nopunct = re.sub('['+string.punctuation+']', '', text)\n",
    "    return text_nopunct\n",
    "\n",
    "data['Text_Clean'] = data['Text'].apply(lambda x: remove_punct(x))"
   ]
  },
  {
   "cell_type": "markdown",
   "metadata": {
    "id": "szK4WXoas54p"
   },
   "source": [
    "## **Tokenization**"
   ]
  },
  {
   "cell_type": "code",
   "execution_count": 103,
   "metadata": {
    "id": "5qbF8B5ZmVLQ"
   },
   "outputs": [],
   "source": [
    "from nltk import word_tokenize, WordNetLemmatizer\n",
    "tokens = [word_tokenize(sen) for sen in data.Text_Clean] "
   ]
  },
  {
   "cell_type": "markdown",
   "metadata": {
    "id": "D7w33xI_tBNW"
   },
   "source": [
    "# **Lower case Conversion**"
   ]
  },
  {
   "cell_type": "code",
   "execution_count": 104,
   "metadata": {
    "id": "0N9Fi7u1mVNi"
   },
   "outputs": [],
   "source": [
    "def lower_token(tokens): \n",
    "    return [w.lower() for w in tokens]    \n",
    "    \n",
    "lower_tokens = [lower_token(token) for token in tokens] \n",
    "data['tokens']=lower_tokens"
   ]
  },
  {
   "cell_type": "markdown",
   "metadata": {
    "id": "_trq3Y8BtLau"
   },
   "source": [
    "## **Stop word Removal**"
   ]
  },
  {
   "cell_type": "code",
   "execution_count": 105,
   "metadata": {
    "id": "_ZKXTzhDmVQB"
   },
   "outputs": [],
   "source": [
    "with open(\"AfaanOromoStopwords.csv\",encoding ='unicode_escape') as f:\n",
    "   stoplist=f.read().strip().split(',')"
   ]
  },
  {
   "cell_type": "code",
   "execution_count": 106,
   "metadata": {
    "id": "wat4ugTdmVSM"
   },
   "outputs": [],
   "source": [
    "variable=data['tokens'].tolist()"
   ]
  },
  {
   "cell_type": "code",
   "execution_count": 107,
   "metadata": {
    "id": "lkY9HycBmVUX"
   },
   "outputs": [],
   "source": [
    "def remove_stop_words(tokens): \n",
    "    return [word for word in tokens if word not in stoplist]"
   ]
  },
  {
   "cell_type": "code",
   "execution_count": 108,
   "metadata": {
    "id": "qDebpIdxmVWp"
   },
   "outputs": [],
   "source": [
    "f=[remove_stop_words(sen) for sen in variable]\n",
    "result=[' '.join(sen) for sen in f]\n",
    "data['Text_Final']=result"
   ]
  },
  {
   "cell_type": "code",
   "execution_count": 109,
   "metadata": {
    "id": "AvqLRoMDmVYx"
   },
   "outputs": [],
   "source": [
    "filtered_words = [remove_stop_words(sen) for sen in lower_tokens]\n",
    "result = [' '.join(sen) for sen in filtered_words] \n",
    "data['Text_Final'] = result"
   ]
  },
  {
   "cell_type": "code",
   "execution_count": 110,
   "metadata": {
    "colab": {
     "base_uri": "https://localhost:8080/",
     "height": 719
    },
    "id": "aZri3ZuvmVbJ",
    "outputId": "ce2d1cda-f340-4cb4-9ed4-e920ab5aa7b3"
   },
   "outputs": [
    {
     "data": {
      "text/html": [
       "<div>\n",
       "<style scoped>\n",
       "    .dataframe tbody tr th:only-of-type {\n",
       "        vertical-align: middle;\n",
       "    }\n",
       "\n",
       "    .dataframe tbody tr th {\n",
       "        vertical-align: top;\n",
       "    }\n",
       "\n",
       "    .dataframe thead th {\n",
       "        text-align: right;\n",
       "    }\n",
       "</style>\n",
       "<table border=\"1\" class=\"dataframe\">\n",
       "  <thead>\n",
       "    <tr style=\"text-align: right;\">\n",
       "      <th></th>\n",
       "      <th>Text</th>\n",
       "      <th>Label</th>\n",
       "      <th>Text_Clean</th>\n",
       "      <th>tokens</th>\n",
       "      <th>Text_Final</th>\n",
       "    </tr>\n",
       "  </thead>\n",
       "  <tbody>\n",
       "    <tr>\n",
       "      <th>0</th>\n",
       "      <td>BARREEFFAMA KAMUU DUBISTEE BIRA KUTUUN GAARIIDHA.</td>\n",
       "      <td>2.0</td>\n",
       "      <td>BARREEFFAMA KAMUU DUBISTEE BIRA KUTUUN GAARIIDHA</td>\n",
       "      <td>[barreeffama, kamuu, dubistee, bira, kutuun, g...</td>\n",
       "      <td>barreeffama kamuu dubistee kutuun gaariidha</td>\n",
       "    </tr>\n",
       "    <tr>\n",
       "      <th>1</th>\n",
       "      <td>Jabaadha ummata kenya gootota kenyaa.</td>\n",
       "      <td>1.0</td>\n",
       "      <td>Jabaadha ummata kenya gootota kenyaa</td>\n",
       "      <td>[jabaadha, ummata, kenya, gootota, kenyaa]</td>\n",
       "      <td>jabaadha ummata kenya gootota kenyaa</td>\n",
       "    </tr>\n",
       "    <tr>\n",
       "      <th>2</th>\n",
       "      <td>Barrefama adda adda maalif hin garsiftan.</td>\n",
       "      <td>2.0</td>\n",
       "      <td>Barrefama adda adda maalif hin garsiftan</td>\n",
       "      <td>[barrefama, adda, adda, maalif, hin, garsiftan]</td>\n",
       "      <td>barrefama adda adda maalif hin garsiftan</td>\n",
       "    </tr>\n",
       "    <tr>\n",
       "      <th>3</th>\n",
       "      <td>Sagaleen sirrii hin jiruu.</td>\n",
       "      <td>2.0</td>\n",
       "      <td>Sagaleen sirrii hin jiruu</td>\n",
       "      <td>[sagaleen, sirrii, hin, jiruu]</td>\n",
       "      <td>sagaleen sirrii hin jiruu</td>\n",
       "    </tr>\n",
       "    <tr>\n",
       "      <th>4</th>\n",
       "      <td>WBO waliin dhaabanne Mootummaa kana Ofirraa ka...</td>\n",
       "      <td>0.0</td>\n",
       "      <td>WBO waliin dhaabanne Mootummaa kana Ofirraa ka...</td>\n",
       "      <td>[wbo, waliin, dhaabanne, mootummaa, kana, ofir...</td>\n",
       "      <td>wbo waliin dhaabanne mootummaa ofirraa kaasu q...</td>\n",
       "    </tr>\n",
       "    <tr>\n",
       "      <th>...</th>\n",
       "      <td>...</td>\n",
       "      <td>...</td>\n",
       "      <td>...</td>\n",
       "      <td>...</td>\n",
       "      <td>...</td>\n",
       "    </tr>\n",
       "    <tr>\n",
       "      <th>2094</th>\n",
       "      <td>Oromoo bilxgiinaan badu qabdii.</td>\n",
       "      <td>0.0</td>\n",
       "      <td>Oromoo bilxgiinaan badu qabdii</td>\n",
       "      <td>[oromoo, bilxgiinaan, badu, qabdii]</td>\n",
       "      <td>oromoo bilxgiinaan badu qabdii</td>\n",
       "    </tr>\n",
       "    <tr>\n",
       "      <th>2095</th>\n",
       "      <td>Ayyolee hin marate namichaa marata ayyole mara...</td>\n",
       "      <td>0.0</td>\n",
       "      <td>Ayyolee hin marate namichaa marata ayyole mara...</td>\n",
       "      <td>[ayyolee, hin, marate, namichaa, marata, ayyol...</td>\n",
       "      <td>ayyolee hin marate namichaa marata ayyole mara...</td>\n",
       "    </tr>\n",
       "    <tr>\n",
       "      <th>2096</th>\n",
       "      <td>Jarattii burjaajofttuu kana ilaalaa me haceen ...</td>\n",
       "      <td>0.0</td>\n",
       "      <td>Jarattii burjaajofttuu kana ilaalaa me haceen ...</td>\n",
       "      <td>[jarattii, burjaajofttuu, kana, ilaalaa, me, h...</td>\n",
       "      <td>jarattii burjaajofttuu ilaalaa me haceen enyuu...</td>\n",
       "    </tr>\n",
       "    <tr>\n",
       "      <th>2098</th>\n",
       "      <td>umani oromoo kun malumaf gowoma kanna mara iss...</td>\n",
       "      <td>2.0</td>\n",
       "      <td>umani oromoo kun malumaf gowoma kanna mara iss...</td>\n",
       "      <td>[umani, oromoo, kun, malumaf, gowoma, kanna, m...</td>\n",
       "      <td>umani oromoo malumaf gowoma kanna mara issa go...</td>\n",
       "    </tr>\n",
       "    <tr>\n",
       "      <th>2099</th>\n",
       "      <td>Dhiigaa miskina dhaangalassa imimmaan hiyyeess...</td>\n",
       "      <td>0.0</td>\n",
       "      <td>Dhiigaa miskina dhaangalassa imimmaan hiyyeess...</td>\n",
       "      <td>[dhiigaa, miskina, dhaangalassa, imimmaan, hiy...</td>\n",
       "      <td>dhiigaa miskina dhaangalassa imimmaan hiyyeess...</td>\n",
       "    </tr>\n",
       "  </tbody>\n",
       "</table>\n",
       "<p>2072 rows × 5 columns</p>\n",
       "</div>"
      ],
      "text/plain": [
       "                                                   Text  ...                                         Text_Final\n",
       "0     BARREEFFAMA KAMUU DUBISTEE BIRA KUTUUN GAARIIDHA.  ...        barreeffama kamuu dubistee kutuun gaariidha\n",
       "1                 Jabaadha ummata kenya gootota kenyaa.  ...               jabaadha ummata kenya gootota kenyaa\n",
       "2             Barrefama adda adda maalif hin garsiftan.  ...           barrefama adda adda maalif hin garsiftan\n",
       "3                            Sagaleen sirrii hin jiruu.  ...                          sagaleen sirrii hin jiruu\n",
       "4     WBO waliin dhaabanne Mootummaa kana Ofirraa ka...  ...  wbo waliin dhaabanne mootummaa ofirraa kaasu q...\n",
       "...                                                 ...  ...                                                ...\n",
       "2094                    Oromoo bilxgiinaan badu qabdii.  ...                     oromoo bilxgiinaan badu qabdii\n",
       "2095  Ayyolee hin marate namichaa marata ayyole mara...  ...  ayyolee hin marate namichaa marata ayyole mara...\n",
       "2096  Jarattii burjaajofttuu kana ilaalaa me haceen ...  ...  jarattii burjaajofttuu ilaalaa me haceen enyuu...\n",
       "2098  umani oromoo kun malumaf gowoma kanna mara iss...  ...  umani oromoo malumaf gowoma kanna mara issa go...\n",
       "2099  Dhiigaa miskina dhaangalassa imimmaan hiyyeess...  ...  dhiigaa miskina dhaangalassa imimmaan hiyyeess...\n",
       "\n",
       "[2072 rows x 5 columns]"
      ]
     },
     "execution_count": 110,
     "metadata": {},
     "output_type": "execute_result"
    }
   ],
   "source": [
    "data"
   ]
  },
  {
   "cell_type": "markdown",
   "metadata": {
    "id": "mpxdqWgwtWwq"
   },
   "source": [
    "# **Assign Dataset to the class**"
   ]
  },
  {
   "cell_type": "code",
   "execution_count": 111,
   "metadata": {
    "id": "qq2OEcn-mVes"
   },
   "outputs": [],
   "source": [
    "anti = []\n",
    "ext = []\n",
    "neu = []\n",
    "for l in data.Label:\n",
    "    if l == 0:\n",
    "        anti.append(0)\n",
    "        ext.append(1)\n",
    "        neu.append(0)\n",
    "    elif l == 1:\n",
    "        anti.append(1)\n",
    "        ext.append(0)\n",
    "        neu.append(0)\n",
    "    elif l == 2:\n",
    "        neu.append(1)\n",
    "        anti.append(0)\n",
    "        ext.append(0)"
   ]
  },
  {
   "cell_type": "code",
   "execution_count": 112,
   "metadata": {
    "id": "_xTuM0b3m4ts"
   },
   "outputs": [],
   "source": [
    "data['Anti_Extreme']= anti\n",
    "data['Extreme']= ext\n",
    "data['Neutral']= neu"
   ]
  },
  {
   "cell_type": "code",
   "execution_count": 113,
   "metadata": {
    "colab": {
     "base_uri": "https://localhost:8080/",
     "height": 484
    },
    "id": "gVLMXLjQm4zT",
    "outputId": "957a8c34-4b68-4a90-9a0c-728b9365b1b5"
   },
   "outputs": [
    {
     "data": {
      "text/html": [
       "<div>\n",
       "<style scoped>\n",
       "    .dataframe tbody tr th:only-of-type {\n",
       "        vertical-align: middle;\n",
       "    }\n",
       "\n",
       "    .dataframe tbody tr th {\n",
       "        vertical-align: top;\n",
       "    }\n",
       "\n",
       "    .dataframe thead th {\n",
       "        text-align: right;\n",
       "    }\n",
       "</style>\n",
       "<table border=\"1\" class=\"dataframe\">\n",
       "  <thead>\n",
       "    <tr style=\"text-align: right;\">\n",
       "      <th></th>\n",
       "      <th>Text</th>\n",
       "      <th>Label</th>\n",
       "      <th>Text_Clean</th>\n",
       "      <th>tokens</th>\n",
       "      <th>Text_Final</th>\n",
       "      <th>Anti_Extreme</th>\n",
       "      <th>Extreme</th>\n",
       "      <th>Neutral</th>\n",
       "    </tr>\n",
       "  </thead>\n",
       "  <tbody>\n",
       "    <tr>\n",
       "      <th>0</th>\n",
       "      <td>BARREEFFAMA KAMUU DUBISTEE BIRA KUTUUN GAARIIDHA.</td>\n",
       "      <td>2.0</td>\n",
       "      <td>BARREEFFAMA KAMUU DUBISTEE BIRA KUTUUN GAARIIDHA</td>\n",
       "      <td>[barreeffama, kamuu, dubistee, bira, kutuun, g...</td>\n",
       "      <td>barreeffama kamuu dubistee kutuun gaariidha</td>\n",
       "      <td>0</td>\n",
       "      <td>0</td>\n",
       "      <td>1</td>\n",
       "    </tr>\n",
       "    <tr>\n",
       "      <th>1</th>\n",
       "      <td>Jabaadha ummata kenya gootota kenyaa.</td>\n",
       "      <td>1.0</td>\n",
       "      <td>Jabaadha ummata kenya gootota kenyaa</td>\n",
       "      <td>[jabaadha, ummata, kenya, gootota, kenyaa]</td>\n",
       "      <td>jabaadha ummata kenya gootota kenyaa</td>\n",
       "      <td>1</td>\n",
       "      <td>0</td>\n",
       "      <td>0</td>\n",
       "    </tr>\n",
       "    <tr>\n",
       "      <th>2</th>\n",
       "      <td>Barrefama adda adda maalif hin garsiftan.</td>\n",
       "      <td>2.0</td>\n",
       "      <td>Barrefama adda adda maalif hin garsiftan</td>\n",
       "      <td>[barrefama, adda, adda, maalif, hin, garsiftan]</td>\n",
       "      <td>barrefama adda adda maalif hin garsiftan</td>\n",
       "      <td>0</td>\n",
       "      <td>0</td>\n",
       "      <td>1</td>\n",
       "    </tr>\n",
       "    <tr>\n",
       "      <th>3</th>\n",
       "      <td>Sagaleen sirrii hin jiruu.</td>\n",
       "      <td>2.0</td>\n",
       "      <td>Sagaleen sirrii hin jiruu</td>\n",
       "      <td>[sagaleen, sirrii, hin, jiruu]</td>\n",
       "      <td>sagaleen sirrii hin jiruu</td>\n",
       "      <td>0</td>\n",
       "      <td>0</td>\n",
       "      <td>1</td>\n",
       "    </tr>\n",
       "    <tr>\n",
       "      <th>4</th>\n",
       "      <td>WBO waliin dhaabanne Mootummaa kana Ofirraa ka...</td>\n",
       "      <td>0.0</td>\n",
       "      <td>WBO waliin dhaabanne Mootummaa kana Ofirraa ka...</td>\n",
       "      <td>[wbo, waliin, dhaabanne, mootummaa, kana, ofir...</td>\n",
       "      <td>wbo waliin dhaabanne mootummaa ofirraa kaasu q...</td>\n",
       "      <td>0</td>\n",
       "      <td>1</td>\n",
       "      <td>0</td>\n",
       "    </tr>\n",
       "  </tbody>\n",
       "</table>\n",
       "</div>"
      ],
      "text/plain": [
       "                                                Text  Label  ... Extreme Neutral\n",
       "0  BARREEFFAMA KAMUU DUBISTEE BIRA KUTUUN GAARIIDHA.    2.0  ...       0       1\n",
       "1              Jabaadha ummata kenya gootota kenyaa.    1.0  ...       0       0\n",
       "2          Barrefama adda adda maalif hin garsiftan.    2.0  ...       0       1\n",
       "3                         Sagaleen sirrii hin jiruu.    2.0  ...       0       1\n",
       "4  WBO waliin dhaabanne Mootummaa kana Ofirraa ka...    0.0  ...       1       0\n",
       "\n",
       "[5 rows x 8 columns]"
      ]
     },
     "execution_count": 113,
     "metadata": {},
     "output_type": "execute_result"
    }
   ],
   "source": [
    "data.head()"
   ]
  },
  {
   "cell_type": "code",
   "execution_count": 114,
   "metadata": {
    "colab": {
     "base_uri": "https://localhost:8080/",
     "height": 227
    },
    "id": "Hb30LSqrm42Z",
    "outputId": "140cedfc-fbd2-41fe-e895-177986605c31"
   },
   "outputs": [
    {
     "data": {
      "text/html": [
       "<div>\n",
       "<style scoped>\n",
       "    .dataframe tbody tr th:only-of-type {\n",
       "        vertical-align: middle;\n",
       "    }\n",
       "\n",
       "    .dataframe tbody tr th {\n",
       "        vertical-align: top;\n",
       "    }\n",
       "\n",
       "    .dataframe thead th {\n",
       "        text-align: right;\n",
       "    }\n",
       "</style>\n",
       "<table border=\"1\" class=\"dataframe\">\n",
       "  <thead>\n",
       "    <tr style=\"text-align: right;\">\n",
       "      <th></th>\n",
       "      <th>Text_Final</th>\n",
       "      <th>tokens</th>\n",
       "      <th>Label</th>\n",
       "      <th>Anti_Extreme</th>\n",
       "      <th>Extreme</th>\n",
       "      <th>Neutral</th>\n",
       "    </tr>\n",
       "  </thead>\n",
       "  <tbody>\n",
       "    <tr>\n",
       "      <th>0</th>\n",
       "      <td>barreeffama kamuu dubistee kutuun gaariidha</td>\n",
       "      <td>[barreeffama, kamuu, dubistee, kutuun, gaariidha]</td>\n",
       "      <td>2.0</td>\n",
       "      <td>0</td>\n",
       "      <td>0</td>\n",
       "      <td>1</td>\n",
       "    </tr>\n",
       "    <tr>\n",
       "      <th>1</th>\n",
       "      <td>jabaadha ummata kenya gootota kenyaa</td>\n",
       "      <td>[jabaadha, ummata, kenya, gootota, kenyaa]</td>\n",
       "      <td>1.0</td>\n",
       "      <td>1</td>\n",
       "      <td>0</td>\n",
       "      <td>0</td>\n",
       "    </tr>\n",
       "    <tr>\n",
       "      <th>2</th>\n",
       "      <td>barrefama adda adda maalif hin garsiftan</td>\n",
       "      <td>[barrefama, adda, adda, maalif, hin, garsiftan]</td>\n",
       "      <td>2.0</td>\n",
       "      <td>0</td>\n",
       "      <td>0</td>\n",
       "      <td>1</td>\n",
       "    </tr>\n",
       "    <tr>\n",
       "      <th>3</th>\n",
       "      <td>sagaleen sirrii hin jiruu</td>\n",
       "      <td>[sagaleen, sirrii, hin, jiruu]</td>\n",
       "      <td>2.0</td>\n",
       "      <td>0</td>\n",
       "      <td>0</td>\n",
       "      <td>1</td>\n",
       "    </tr>\n",
       "  </tbody>\n",
       "</table>\n",
       "</div>"
      ],
      "text/plain": [
       "                                    Text_Final  ... Neutral\n",
       "0  barreeffama kamuu dubistee kutuun gaariidha  ...       1\n",
       "1         jabaadha ummata kenya gootota kenyaa  ...       0\n",
       "2     barrefama adda adda maalif hin garsiftan  ...       1\n",
       "3                    sagaleen sirrii hin jiruu  ...       1\n",
       "\n",
       "[4 rows x 6 columns]"
      ]
     },
     "execution_count": 114,
     "metadata": {},
     "output_type": "execute_result"
    }
   ],
   "source": [
    "data['tokens'] = filtered_words\n",
    "data = data[['Text_Final', 'tokens', 'Label', 'Anti_Extreme', 'Extreme', 'Neutral']]\n",
    "data[:4]"
   ]
  },
  {
   "cell_type": "markdown",
   "metadata": {
    "id": "UrJDA_X9tnKH"
   },
   "source": [
    "# **Word Embeding #Word2Vec**"
   ]
  },
  {
   "cell_type": "code",
   "execution_count": 115,
   "metadata": {
    "id": "zauVi8RJm48c"
   },
   "outputs": [],
   "source": [
    "X=list(data['tokens'])"
   ]
  },
  {
   "cell_type": "code",
   "execution_count": 116,
   "metadata": {
    "id": "Y3Da28Kgm4_f"
   },
   "outputs": [],
   "source": [
    "from gensim.models import Word2Vec\n",
    "emb=Word2Vec(X,size=100,min_count=1)"
   ]
  },
  {
   "cell_type": "code",
   "execution_count": 117,
   "metadata": {
    "colab": {
     "base_uri": "https://localhost:8080/"
    },
    "id": "Qe07OtmDm5HS",
    "outputId": "5d8c6c2e-89df-488b-9e63-9858ab875672"
   },
   "outputs": [
    {
     "data": {
      "text/plain": [
       "6338"
      ]
     },
     "execution_count": 117,
     "metadata": {},
     "output_type": "execute_result"
    }
   ],
   "source": [
    "len(emb.wv.vocab)"
   ]
  },
  {
   "cell_type": "code",
   "execution_count": 118,
   "metadata": {
    "colab": {
     "base_uri": "https://localhost:8080/"
    },
    "id": "73ZaTupSnLe0",
    "outputId": "5ec56446-0b45-4e72-863f-c0a376377811"
   },
   "outputs": [
    {
     "data": {
      "text/plain": [
       "[('hin', 0.6740466952323914),\n",
       " ('oromoo', 0.655398428440094),\n",
       " ('biyyaa', 0.6493326425552368),\n",
       " ('afaan', 0.6121487617492676),\n",
       " ('bakka', 0.6114537119865417),\n",
       " ('jira', 0.5997276306152344),\n",
       " ('yaa', 0.5943645238876343),\n",
       " ('walloo', 0.5894581079483032),\n",
       " ('abiyi', 0.5781440734863281),\n",
       " ('tokko', 0.576689600944519)]"
      ]
     },
     "execution_count": 118,
     "metadata": {},
     "output_type": "execute_result"
    }
   ],
   "source": [
    "emb.wv.most_similar('mottuma')"
   ]
  },
  {
   "cell_type": "markdown",
   "metadata": {
    "id": "aHrucmpyt0dz"
   },
   "source": [
    "# **Dataset Spliting for Training and testing**"
   ]
  },
  {
   "cell_type": "code",
   "execution_count": 119,
   "metadata": {
    "id": "S5coHeXpnLjF"
   },
   "outputs": [],
   "source": [
    "data_train, data_test = train_test_split(data, test_size=0.2, random_state=42)"
   ]
  },
  {
   "cell_type": "code",
   "execution_count": 120,
   "metadata": {
    "colab": {
     "base_uri": "https://localhost:8080/"
    },
    "id": "ShAdaGXEnLlO",
    "outputId": "82fe5d5e-4ef5-46b9-83b3-cac13ac58a4e"
   },
   "outputs": [
    {
     "name": "stdout",
     "output_type": "stream",
     "text": [
      "15155 words total, with a vocabulary size of 5607\n",
      "Max sentence length is 42\n"
     ]
    }
   ],
   "source": [
    "all_training_words = [word for tokens in data_train[\"tokens\"] for word in tokens]\n",
    "training_sentence_lengths = [len(tokens) for tokens in data_train[\"tokens\"]]\n",
    "TRAINING_VOCAB = sorted(list(set(all_training_words)))\n",
    "print(\"%s words total, with a vocabulary size of %s\" % (len(all_training_words), len(TRAINING_VOCAB)))\n",
    "print(\"Max sentence length is %s\" % max(training_sentence_lengths))"
   ]
  },
  {
   "cell_type": "code",
   "execution_count": 121,
   "metadata": {
    "colab": {
     "base_uri": "https://localhost:8080/"
    },
    "id": "6IlkRzpPnLn7",
    "outputId": "da376dec-49a4-47c3-ed47-796d18776d6f"
   },
   "outputs": [
    {
     "name": "stdout",
     "output_type": "stream",
     "text": [
      "3767 words total, with a vocabulary size of 2118\n",
      "Max sentence length is 28\n"
     ]
    }
   ],
   "source": [
    "all_test_words = [word for tokens in data_test[\"tokens\"] for word in tokens]\n",
    "test_sentence_lengths = [len(tokens) for tokens in data_test[\"tokens\"]]\n",
    "TEST_VOCAB = sorted(list(set(all_test_words)))\n",
    "print(\"%s words total, with a vocabulary size of %s\" % (len(all_test_words), len(TEST_VOCAB)))\n",
    "print(\"Max sentence length is %s\" % max(test_sentence_lengths))"
   ]
  },
  {
   "cell_type": "code",
   "execution_count": 122,
   "metadata": {
    "id": "zJ76Of_ynLtx"
   },
   "outputs": [],
   "source": [
    "def get_average_word2vec(tokens_list, vector, generate_missing=False, k=300):\n",
    "    if len(tokens_list)<1:\n",
    "        return np.zeros(k)\n",
    "    if generate_missing:\n",
    "        vectorized = [vector[word] if word in vector else np.random.rand(k) for word in tokens_list]\n",
    "    else:\n",
    "        vectorized = [vector[word] if word in vector else np.zeros(k) for word in tokens_list]\n",
    "    length = len(vectorized)\n",
    "    summed = np.sum(vectorized, axis=0)\n",
    "    averaged = np.divide(summed, length)\n",
    "    return averaged\n",
    "\n",
    "def get_word2vec_embeddings(vectors, clean_comments, generate_missing=False):\n",
    "    embeddings = clean_comments['tokens'].apply(lambda x: get_average_word2vec(x, vectors, \n",
    "                                                                                generate_missing=generate_missing))\n",
    "    return list(embeddings)"
   ]
  },
  {
   "cell_type": "code",
   "execution_count": 123,
   "metadata": {
    "colab": {
     "base_uri": "https://localhost:8080/"
    },
    "id": "t0mTYovBnLyk",
    "outputId": "3a057f89-ad67-4952-c7fd-80b542d0476d"
   },
   "outputs": [
    {
     "data": {
      "text/plain": [
       "[('hin', 0.915169894695282),\n",
       " ('jira', 0.8148970603942871),\n",
       " ('ummata', 0.7991864681243896),\n",
       " ('jiru', 0.7985255718231201),\n",
       " ('bakka', 0.79607093334198),\n",
       " ('tokko', 0.7924201488494873),\n",
       " ('oromo', 0.7868816256523132),\n",
       " ('nama', 0.7799258232116699),\n",
       " ('qaba', 0.7779949903488159),\n",
       " ('oromoon', 0.767450749874115)]"
      ]
     },
     "execution_count": 123,
     "metadata": {},
     "output_type": "execute_result"
    }
   ],
   "source": [
    "emb.wv.most_similar('oromoo')"
   ]
  },
  {
   "cell_type": "code",
   "execution_count": 124,
   "metadata": {
    "colab": {
     "base_uri": "https://localhost:8080/"
    },
    "id": "lCgtN6r7neqV",
    "outputId": "e327364d-12fa-4699-c78d-f1bdeebb520d"
   },
   "outputs": [
    {
     "name": "stderr",
     "output_type": "stream",
     "text": [
      "/usr/local/lib/python3.7/dist-packages/ipykernel_launcher.py:5: DeprecationWarning: Call to deprecated `__contains__` (Method will be removed in 4.0.0, use self.wv.__contains__() instead).\n",
      "  \"\"\"\n",
      "/usr/local/lib/python3.7/dist-packages/ipykernel_launcher.py:5: DeprecationWarning: Call to deprecated `__getitem__` (Method will be removed in 4.0.0, use self.wv.__getitem__() instead).\n",
      "  \"\"\"\n"
     ]
    }
   ],
   "source": [
    "training_embeddings = get_word2vec_embeddings(emb, data_train, generate_missing=True)"
   ]
  },
  {
   "cell_type": "code",
   "execution_count": 125,
   "metadata": {
    "id": "Ex-9tMH7ner0"
   },
   "outputs": [],
   "source": [
    "MAX_SEQUENCE_LENGTH = 40\n",
    "EMBEDDING_DIM = 100"
   ]
  },
  {
   "cell_type": "code",
   "execution_count": 126,
   "metadata": {
    "colab": {
     "base_uri": "https://localhost:8080/"
    },
    "id": "UdkNuBjTneuK",
    "outputId": "801bb8e2-90ef-48aa-ce56-1f1a852be79d"
   },
   "outputs": [
    {
     "name": "stdout",
     "output_type": "stream",
     "text": [
      "Found 5607 unique tokens.\n"
     ]
    }
   ],
   "source": [
    "tokenizer = Tokenizer(num_words=len(TRAINING_VOCAB), lower=True, char_level=False)\n",
    "tokenizer.fit_on_texts(data_train[\"Text_Final\"].tolist())\n",
    "training_sequences = tokenizer.texts_to_sequences(data_train[\"Text_Final\"].tolist())\n",
    "\n",
    "train_word_index = tokenizer.word_index\n",
    "print('Found %s unique tokens.' % len(train_word_index))"
   ]
  },
  {
   "cell_type": "code",
   "execution_count": 127,
   "metadata": {
    "id": "pGhiK--Dnexs"
   },
   "outputs": [],
   "source": [
    "train_cnn_data = pad_sequences(training_sequences, maxlen=MAX_SEQUENCE_LENGTH)"
   ]
  },
  {
   "cell_type": "code",
   "execution_count": 128,
   "metadata": {
    "colab": {
     "base_uri": "https://localhost:8080/"
    },
    "id": "pOoYqLz4nuM1",
    "outputId": "ef018d7b-b55f-4dec-8251-cab4c9698888"
   },
   "outputs": [
    {
     "name": "stdout",
     "output_type": "stream",
     "text": [
      "(5608, 100)\n"
     ]
    },
    {
     "name": "stderr",
     "output_type": "stream",
     "text": [
      "/usr/local/lib/python3.7/dist-packages/ipykernel_launcher.py:3: DeprecationWarning: Call to deprecated `__contains__` (Method will be removed in 4.0.0, use self.wv.__contains__() instead).\n",
      "  This is separate from the ipykernel package so we can avoid doing imports until\n",
      "/usr/local/lib/python3.7/dist-packages/ipykernel_launcher.py:3: DeprecationWarning: Call to deprecated `__getitem__` (Method will be removed in 4.0.0, use self.wv.__getitem__() instead).\n",
      "  This is separate from the ipykernel package so we can avoid doing imports until\n"
     ]
    }
   ],
   "source": [
    "train_embedding_weights = np.zeros((len(train_word_index)+1, EMBEDDING_DIM))\n",
    "for word,index in train_word_index.items():\n",
    "    train_embedding_weights[index,:] = emb[word] if word in emb else np.random.rand(EMBEDDING_DIM)\n",
    "print(train_embedding_weights.shape)"
   ]
  },
  {
   "cell_type": "code",
   "execution_count": 129,
   "metadata": {
    "id": "7wqqE1HYnuVo"
   },
   "outputs": [],
   "source": [
    "test_sequences = tokenizer.texts_to_sequences(data_test[\"Text_Final\"].tolist())\n",
    "test_cnn_data = pad_sequences(test_sequences, maxlen=MAX_SEQUENCE_LENGTH)"
   ]
  },
  {
   "cell_type": "markdown",
   "metadata": {
    "id": "inraY5htuJCx"
   },
   "source": [
    "# **Long Short-Term Memory model**"
   ]
  },
  {
   "cell_type": "code",
   "execution_count": 130,
   "metadata": {
    "id": "ZysDiVaznub6"
   },
   "outputs": [],
   "source": [
    "def rnn(embeddings, \n",
    "        max_sequence_length, \n",
    "        num_words, \n",
    "        embedding_dim, \n",
    "        labels_index):\n",
    "    \n",
    "    embedding_layer = Embedding(num_words,\n",
    "                                embedding_dim,\n",
    "                                weights=[embeddings],\n",
    "                                input_length=max_sequence_length,\n",
    "                                trainable=True)\n",
    "    \n",
    "    sequence_input = Input(shape=(max_sequence_length,),\n",
    "                                  dtype='int32')\n",
    "    embedded_sequences = embedding_layer(sequence_input) \n",
    "    lstm = LSTM(128)(embedded_sequences)\n",
    "    \n",
    "    x = Dense(128, activation='relu')(lstm)\n",
    "    x = Dropout(0.2)(x)\n",
    "    preds = Dense(labels_index, activation='softmax')(x)    \n",
    "    model = Model(sequence_input, preds)\n",
    "    model.compile(loss='binary_crossentropy',\n",
    "                  optimizer='adam',\n",
    "                  metrics=['acc'])\n",
    "    model.summary()\n",
    "    return model"
   ]
  },
  {
   "cell_type": "code",
   "execution_count": 131,
   "metadata": {
    "id": "w0zUBJTUoRGi"
   },
   "outputs": [],
   "source": [
    "label_names = ['Anti_Extreme', 'Extreme', 'Neutral']\n",
    "labels = [1, 0,2]\n",
    "y_train = data_train[label_names].values\n",
    "x_train = train_cnn_data\n",
    "y_tr = y_train\n",
    "y_test = data_test[label_names].values"
   ]
  },
  {
   "cell_type": "code",
   "execution_count": 132,
   "metadata": {
    "colab": {
     "base_uri": "https://localhost:8080/"
    },
    "id": "JGRD-KYeoRUz",
    "outputId": "759819ad-b09b-44cb-b411-915274eefaf5"
   },
   "outputs": [
    {
     "name": "stdout",
     "output_type": "stream",
     "text": [
      "Model: \"model_2\"\n",
      "_________________________________________________________________\n",
      " Layer (type)                Output Shape              Param #   \n",
      "=================================================================\n",
      " input_3 (InputLayer)        [(None, 40)]              0         \n",
      "                                                                 \n",
      " embedding_2 (Embedding)     (None, 40, 100)           560800    \n",
      "                                                                 \n",
      " lstm_2 (LSTM)               (None, 128)               117248    \n",
      "                                                                 \n",
      " dense_4 (Dense)             (None, 128)               16512     \n",
      "                                                                 \n",
      " dropout_2 (Dropout)         (None, 128)               0         \n",
      "                                                                 \n",
      " dense_5 (Dense)             (None, 3)                 387       \n",
      "                                                                 \n",
      "=================================================================\n",
      "Total params: 694,947\n",
      "Trainable params: 694,947\n",
      "Non-trainable params: 0\n",
      "_________________________________________________________________\n"
     ]
    }
   ],
   "source": [
    "model = rnn(train_embedding_weights, \n",
    "            MAX_SEQUENCE_LENGTH, \n",
    "            len(train_word_index)+1, \n",
    "            EMBEDDING_DIM, \n",
    "            len(list(label_names)))"
   ]
  },
  {
   "cell_type": "markdown",
   "metadata": {
    "id": "5dLeKbrKuXOV"
   },
   "source": [
    "# **Testing Accuracy of The model**"
   ]
  },
  {
   "cell_type": "code",
   "execution_count": 133,
   "metadata": {
    "colab": {
     "base_uri": "https://localhost:8080/"
    },
    "id": "PagxLJi6oRf8",
    "outputId": "4699f856-3800-4bf4-993e-44fa2b149d5b"
   },
   "outputs": [
    {
     "name": "stdout",
     "output_type": "stream",
     "text": [
      "Epoch 1/10\n",
      "39/39 [==============================] - 8s 132ms/step - loss: 0.6114 - acc: 0.5215 - val_loss: 0.5595 - val_acc: 0.5301\n",
      "Epoch 2/10\n",
      "39/39 [==============================] - 5s 122ms/step - loss: 0.4514 - acc: 0.6438 - val_loss: 0.4175 - val_acc: 0.6898\n",
      "Epoch 3/10\n",
      "39/39 [==============================] - 5s 121ms/step - loss: 0.2584 - acc: 0.7842 - val_loss: 0.4313 - val_acc: 0.6988\n",
      "Epoch 4/10\n",
      "39/39 [==============================] - 5s 119ms/step - loss: 0.1413 - acc: 0.9132 - val_loss: 0.4888 - val_acc: 0.7289\n",
      "Epoch 5/10\n",
      "39/39 [==============================] - 5s 119ms/step - loss: 0.0562 - acc: 0.9789 - val_loss: 0.5401 - val_acc: 0.6807\n",
      "Epoch 6/10\n",
      "39/39 [==============================] - 5s 119ms/step - loss: 0.0176 - acc: 0.9955 - val_loss: 0.8424 - val_acc: 0.7319\n",
      "Epoch 7/10\n",
      "39/39 [==============================] - 5s 118ms/step - loss: 0.0086 - acc: 0.9985 - val_loss: 0.7731 - val_acc: 0.7440\n",
      "Epoch 8/10\n",
      "39/39 [==============================] - 5s 119ms/step - loss: 0.0055 - acc: 0.9985 - val_loss: 0.9623 - val_acc: 0.6958\n",
      "Epoch 9/10\n",
      "39/39 [==============================] - 5s 119ms/step - loss: 0.0037 - acc: 0.9992 - val_loss: 0.9282 - val_acc: 0.7169\n",
      "Epoch 10/10\n",
      "39/39 [==============================] - 5s 119ms/step - loss: 0.0042 - acc: 0.9992 - val_loss: 0.9522 - val_acc: 0.7199\n"
     ]
    }
   ],
   "source": [
    "num_epochs = 10\n",
    "batch_size = 34\n",
    "hist = model.fit(x_train, \n",
    "                 y_tr, \n",
    "                 epochs=num_epochs, \n",
    "                 validation_split=0.2, \n",
    "                 shuffle=True, \n",
    "                 batch_size=batch_size)"
   ]
  },
  {
   "cell_type": "code",
   "execution_count": 134,
   "metadata": {
    "colab": {
     "base_uri": "https://localhost:8080/"
    },
    "id": "Cc5txFdwnuh5",
    "outputId": "623a5d1a-bf33-4ee3-de0e-bcb049f7d3ec"
   },
   "outputs": [
    {
     "name": "stdout",
     "output_type": "stream",
     "text": [
      "1/1 [==============================] - 0s 437ms/step\n"
     ]
    }
   ],
   "source": [
    "predictions = model.predict(test_cnn_data, batch_size=1024, verbose=1)"
   ]
  },
  {
   "cell_type": "code",
   "execution_count": 135,
   "metadata": {
    "id": "rcM7Df1Cnukh"
   },
   "outputs": [],
   "source": [
    "prediction_labels=[]\n",
    "for p in predictions:\n",
    "    prediction_labels.append(labels[np.argmax(p)])"
   ]
  },
  {
   "cell_type": "code",
   "execution_count": 136,
   "metadata": {
    "id": "MsEoRfj0TEWG"
   },
   "outputs": [],
   "source": [
    "#data"
   ]
  },
  {
   "cell_type": "markdown",
   "metadata": {
    "id": "Ip9rfw8Quoo9"
   },
   "source": [
    "# **Accuracy Of the LSTM model**"
   ]
  },
  {
   "cell_type": "code",
   "execution_count": 137,
   "metadata": {
    "colab": {
     "base_uri": "https://localhost:8080/"
    },
    "id": "2Iqdpl_Fp5Qk",
    "outputId": "b4c4c8b7-608e-4554-b53f-1689c4bde62d"
   },
   "outputs": [
    {
     "data": {
      "text/plain": [
       "0.7060240963855422"
      ]
     },
     "execution_count": 137,
     "metadata": {},
     "output_type": "execute_result"
    }
   ],
   "source": [
    "sum(data_test.Label==prediction_labels)/len(prediction_labels)"
   ]
  },
  {
   "cell_type": "code",
   "execution_count": 138,
   "metadata": {
    "colab": {
     "base_uri": "https://localhost:8080/"
    },
    "id": "OKIcDLaEnL1b",
    "outputId": "e06035a1-64ec-4276-e8ac-55bbe800ad94"
   },
   "outputs": [
    {
     "name": "stdout",
     "output_type": "stream",
     "text": [
      "              precision    recall  f1-score   support\n",
      "\n",
      "           0       0.78      0.59      0.67       115\n",
      "           1       0.88      0.76      0.82       219\n",
      "           2       0.42      0.72      0.53        81\n",
      "\n",
      "    accuracy                           0.71       415\n",
      "   macro avg       0.69      0.69      0.67       415\n",
      "weighted avg       0.76      0.71      0.72       415\n",
      "\n"
     ]
    }
   ],
   "source": [
    "from sklearn.metrics import classification_report\n",
    "y_pred = model.predict(test_cnn_data)\n",
    "y_pred = np.argmax(y_pred, axis=1)\n",
    "print(classification_report(np.argmax(y_test,axis=1), y_pred))"
   ]
  },
  {
   "cell_type": "code",
   "execution_count": 139,
   "metadata": {
    "colab": {
     "base_uri": "https://localhost:8080/"
    },
    "id": "fIKaOfym0r0g",
    "outputId": "0c494fd8-9c58-438b-a97f-233b3bf6b3a2"
   },
   "outputs": [
    {
     "data": {
      "text/plain": [
       "array([[ 68,  11,  36],\n",
       "       [  7, 167,  45],\n",
       "       [ 12,  11,  58]])"
      ]
     },
     "execution_count": 139,
     "metadata": {},
     "output_type": "execute_result"
    }
   ],
   "source": [
    "from sklearn.metrics import confusion_matrix\n",
    "\n",
    "y_pred = model.predict(test_cnn_data)\n",
    "y_pred = np.argmax(y_pred, axis=1)\n",
    "\n",
    "conf_mat = confusion_matrix(np.argmax(y_test,axis=1),y_pred)\n",
    "conf_mat"
   ]
  },
  {
   "cell_type": "markdown",
   "metadata": {
    "id": "OXORRdSk1A4s"
   },
   "source": [
    "# **Training And Validation Accuracy**"
   ]
  },
  {
   "cell_type": "code",
   "execution_count": 140,
   "metadata": {
    "colab": {
     "base_uri": "https://localhost:8080/",
     "height": 337
    },
    "id": "ixedGASWm5KQ",
    "outputId": "3a935fd4-8742-4456-83ec-5f1496763592"
   },
   "outputs": [
    {
     "data": {
      "image/png": "[encoded data removed]",
      "text/plain": [
       "<Figure size 864x360 with 1 Axes>"
      ]
     },
     "metadata": {
      "needs_background": "light"
     },
     "output_type": "display_data"
    }
   ],
   "source": [
    "import matplotlib.pyplot as plt \n",
    " \n",
    "plt.style.use('ggplot') \n",
    " \n",
    "def plot_history(history): \n",
    "    acc = history.history['acc'] \n",
    "    val_acc = history.history['val_acc'] \n",
    "    x = range(1, len(acc) + 1) \n",
    " \n",
    "    plt.figure(figsize=(12, 5)) \n",
    "    plt.subplot(1, 2, 1) \n",
    "    plt.plot(x, acc, 'b', label='Training acc') \n",
    "    plt.plot(x, val_acc, 'r', label='Validation acc') \n",
    "    plt.title('Training and validation accuracy') \n",
    "    plt.legend() \n",
    "    plt.legend() \n",
    " \n",
    "%matplotlib inline \n",
    "plot_history(hist)"
   ]
  },
  {
   "cell_type": "markdown",
   "metadata": {
    "id": "0QTZKghb05cb"
   },
   "source": [
    "# **Architecture of LSTM model**"
   ]
  },
  {
   "cell_type": "code",
   "execution_count": 141,
   "metadata": {
    "colab": {
     "base_uri": "https://localhost:8080/",
     "height": 644
    },
    "id": "EaqnaWRQa4mQ",
    "outputId": "93214a80-aff6-4d3e-ed01-1cfc9b783c9b"
   },
   "outputs": [
    {
     "data": {
      "image/png": "[encoded data removed]",
      "text/plain": [
       "<IPython.core.display.Image object>"
      ]
     },
     "execution_count": 141,
     "metadata": {},
     "output_type": "execute_result"
    }
   ],
   "source": [
    "#pip install -q pydot\n",
    "from keras .utils.vis_utils import plot_model\n",
    "plot_model(model, to_file='model_plot3.png', show_shapes=True, show_layer_names=True)"
   ]
  }
 ],
 "metadata": {
  "colab": {
   "collapsed_sections": [],
   "name": "   LSTM  for External defense .ipynb",
   "provenance": []
  },
  "kernelspec": {
   "display_name": "Python 3",
   "language": "python",
   "name": "python3"
  },
  "language_info": {
   "codemirror_mode": {
    "name": "ipython",
    "version": 3
   },
   "file_extension": ".py",
   "mimetype": "text/x-python",
   "name": "python",
   "nbconvert_exporter": "python",
   "pygments_lexer": "ipython3",
   "version": "3.7.4"
  }
 },
 "nbformat": 4,
 "nbformat_minor": 1
}
